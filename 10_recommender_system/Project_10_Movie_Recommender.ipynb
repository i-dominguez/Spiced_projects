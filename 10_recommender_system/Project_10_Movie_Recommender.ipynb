{
 "cells": [
  {
   "cell_type": "code",
   "execution_count": 1,
   "id": "94ac82e1",
   "metadata": {},
   "outputs": [],
   "source": [
    "import pandas as pd\n",
    "import numpy as np\n",
    "import seaborn as sns\n",
    "import matplotlib.pyplot as plt"
   ]
  },
  {
   "cell_type": "code",
   "execution_count": 2,
   "id": "30a174b8",
   "metadata": {},
   "outputs": [],
   "source": [
    "ratings = pd.read_csv(\"ml-latest-small/ratings.csv\")\n",
    "movies = pd.read_csv(\"ml-latest-small/movies.csv\")"
   ]
  },
  {
   "cell_type": "markdown",
   "id": "18acb166",
   "metadata": {},
   "source": [
    "## Implement a baseline recommender"
   ]
  },
  {
   "cell_type": "code",
   "execution_count": 3,
   "id": "9b5e2750",
   "metadata": {},
   "outputs": [
    {
     "data": {
      "text/html": [
       "<div>\n",
       "<style scoped>\n",
       "    .dataframe tbody tr th:only-of-type {\n",
       "        vertical-align: middle;\n",
       "    }\n",
       "\n",
       "    .dataframe tbody tr th {\n",
       "        vertical-align: top;\n",
       "    }\n",
       "\n",
       "    .dataframe thead th {\n",
       "        text-align: right;\n",
       "    }\n",
       "</style>\n",
       "<table border=\"1\" class=\"dataframe\">\n",
       "  <thead>\n",
       "    <tr style=\"text-align: right;\">\n",
       "      <th></th>\n",
       "      <th>movieId</th>\n",
       "      <th>title</th>\n",
       "      <th>genres</th>\n",
       "    </tr>\n",
       "  </thead>\n",
       "  <tbody>\n",
       "    <tr>\n",
       "      <th>0</th>\n",
       "      <td>1</td>\n",
       "      <td>Toy Story (1995)</td>\n",
       "      <td>Adventure|Animation|Children|Comedy|Fantasy</td>\n",
       "    </tr>\n",
       "    <tr>\n",
       "      <th>1</th>\n",
       "      <td>2</td>\n",
       "      <td>Jumanji (1995)</td>\n",
       "      <td>Adventure|Children|Fantasy</td>\n",
       "    </tr>\n",
       "    <tr>\n",
       "      <th>2</th>\n",
       "      <td>3</td>\n",
       "      <td>Grumpier Old Men (1995)</td>\n",
       "      <td>Comedy|Romance</td>\n",
       "    </tr>\n",
       "    <tr>\n",
       "      <th>3</th>\n",
       "      <td>4</td>\n",
       "      <td>Waiting to Exhale (1995)</td>\n",
       "      <td>Comedy|Drama|Romance</td>\n",
       "    </tr>\n",
       "    <tr>\n",
       "      <th>4</th>\n",
       "      <td>5</td>\n",
       "      <td>Father of the Bride Part II (1995)</td>\n",
       "      <td>Comedy</td>\n",
       "    </tr>\n",
       "  </tbody>\n",
       "</table>\n",
       "</div>"
      ],
      "text/plain": [
       "   movieId                               title  \\\n",
       "0        1                    Toy Story (1995)   \n",
       "1        2                      Jumanji (1995)   \n",
       "2        3             Grumpier Old Men (1995)   \n",
       "3        4            Waiting to Exhale (1995)   \n",
       "4        5  Father of the Bride Part II (1995)   \n",
       "\n",
       "                                        genres  \n",
       "0  Adventure|Animation|Children|Comedy|Fantasy  \n",
       "1                   Adventure|Children|Fantasy  \n",
       "2                               Comedy|Romance  \n",
       "3                         Comedy|Drama|Romance  \n",
       "4                                       Comedy  "
      ]
     },
     "execution_count": 3,
     "metadata": {},
     "output_type": "execute_result"
    }
   ],
   "source": [
    "movies.head()"
   ]
  },
  {
   "cell_type": "code",
   "execution_count": 4,
   "id": "041deac4",
   "metadata": {},
   "outputs": [
    {
     "data": {
      "text/html": [
       "<div>\n",
       "<style scoped>\n",
       "    .dataframe tbody tr th:only-of-type {\n",
       "        vertical-align: middle;\n",
       "    }\n",
       "\n",
       "    .dataframe tbody tr th {\n",
       "        vertical-align: top;\n",
       "    }\n",
       "\n",
       "    .dataframe thead th {\n",
       "        text-align: right;\n",
       "    }\n",
       "</style>\n",
       "<table border=\"1\" class=\"dataframe\">\n",
       "  <thead>\n",
       "    <tr style=\"text-align: right;\">\n",
       "      <th></th>\n",
       "      <th>userId</th>\n",
       "      <th>movieId</th>\n",
       "      <th>rating</th>\n",
       "      <th>timestamp</th>\n",
       "    </tr>\n",
       "  </thead>\n",
       "  <tbody>\n",
       "    <tr>\n",
       "      <th>0</th>\n",
       "      <td>1</td>\n",
       "      <td>1</td>\n",
       "      <td>4.0</td>\n",
       "      <td>964982703</td>\n",
       "    </tr>\n",
       "    <tr>\n",
       "      <th>1</th>\n",
       "      <td>1</td>\n",
       "      <td>3</td>\n",
       "      <td>4.0</td>\n",
       "      <td>964981247</td>\n",
       "    </tr>\n",
       "    <tr>\n",
       "      <th>2</th>\n",
       "      <td>1</td>\n",
       "      <td>6</td>\n",
       "      <td>4.0</td>\n",
       "      <td>964982224</td>\n",
       "    </tr>\n",
       "    <tr>\n",
       "      <th>3</th>\n",
       "      <td>1</td>\n",
       "      <td>47</td>\n",
       "      <td>5.0</td>\n",
       "      <td>964983815</td>\n",
       "    </tr>\n",
       "    <tr>\n",
       "      <th>4</th>\n",
       "      <td>1</td>\n",
       "      <td>50</td>\n",
       "      <td>5.0</td>\n",
       "      <td>964982931</td>\n",
       "    </tr>\n",
       "  </tbody>\n",
       "</table>\n",
       "</div>"
      ],
      "text/plain": [
       "   userId  movieId  rating  timestamp\n",
       "0       1        1     4.0  964982703\n",
       "1       1        3     4.0  964981247\n",
       "2       1        6     4.0  964982224\n",
       "3       1       47     5.0  964983815\n",
       "4       1       50     5.0  964982931"
      ]
     },
     "execution_count": 4,
     "metadata": {},
     "output_type": "execute_result"
    }
   ],
   "source": [
    "ratings.head()"
   ]
  },
  {
   "cell_type": "markdown",
   "id": "ee4cd3a7",
   "metadata": {},
   "source": [
    "**Merge/join the ratings and movies tables together**\n"
   ]
  },
  {
   "cell_type": "code",
   "execution_count": 5,
   "id": "d3ded9e3",
   "metadata": {},
   "outputs": [
    {
     "data": {
      "text/html": [
       "<div>\n",
       "<style scoped>\n",
       "    .dataframe tbody tr th:only-of-type {\n",
       "        vertical-align: middle;\n",
       "    }\n",
       "\n",
       "    .dataframe tbody tr th {\n",
       "        vertical-align: top;\n",
       "    }\n",
       "\n",
       "    .dataframe thead th {\n",
       "        text-align: right;\n",
       "    }\n",
       "</style>\n",
       "<table border=\"1\" class=\"dataframe\">\n",
       "  <thead>\n",
       "    <tr style=\"text-align: right;\">\n",
       "      <th></th>\n",
       "      <th>userId</th>\n",
       "      <th>movieId</th>\n",
       "      <th>rating</th>\n",
       "      <th>timestamp</th>\n",
       "      <th>title</th>\n",
       "      <th>genres</th>\n",
       "    </tr>\n",
       "  </thead>\n",
       "  <tbody>\n",
       "    <tr>\n",
       "      <th>0</th>\n",
       "      <td>1</td>\n",
       "      <td>1</td>\n",
       "      <td>4.0</td>\n",
       "      <td>964982703</td>\n",
       "      <td>Toy Story (1995)</td>\n",
       "      <td>Adventure|Animation|Children|Comedy|Fantasy</td>\n",
       "    </tr>\n",
       "    <tr>\n",
       "      <th>1</th>\n",
       "      <td>5</td>\n",
       "      <td>1</td>\n",
       "      <td>4.0</td>\n",
       "      <td>847434962</td>\n",
       "      <td>Toy Story (1995)</td>\n",
       "      <td>Adventure|Animation|Children|Comedy|Fantasy</td>\n",
       "    </tr>\n",
       "    <tr>\n",
       "      <th>2</th>\n",
       "      <td>7</td>\n",
       "      <td>1</td>\n",
       "      <td>4.5</td>\n",
       "      <td>1106635946</td>\n",
       "      <td>Toy Story (1995)</td>\n",
       "      <td>Adventure|Animation|Children|Comedy|Fantasy</td>\n",
       "    </tr>\n",
       "    <tr>\n",
       "      <th>3</th>\n",
       "      <td>15</td>\n",
       "      <td>1</td>\n",
       "      <td>2.5</td>\n",
       "      <td>1510577970</td>\n",
       "      <td>Toy Story (1995)</td>\n",
       "      <td>Adventure|Animation|Children|Comedy|Fantasy</td>\n",
       "    </tr>\n",
       "    <tr>\n",
       "      <th>4</th>\n",
       "      <td>17</td>\n",
       "      <td>1</td>\n",
       "      <td>4.5</td>\n",
       "      <td>1305696483</td>\n",
       "      <td>Toy Story (1995)</td>\n",
       "      <td>Adventure|Animation|Children|Comedy|Fantasy</td>\n",
       "    </tr>\n",
       "  </tbody>\n",
       "</table>\n",
       "</div>"
      ],
      "text/plain": [
       "   userId  movieId  rating   timestamp             title  \\\n",
       "0       1        1     4.0   964982703  Toy Story (1995)   \n",
       "1       5        1     4.0   847434962  Toy Story (1995)   \n",
       "2       7        1     4.5  1106635946  Toy Story (1995)   \n",
       "3      15        1     2.5  1510577970  Toy Story (1995)   \n",
       "4      17        1     4.5  1305696483  Toy Story (1995)   \n",
       "\n",
       "                                        genres  \n",
       "0  Adventure|Animation|Children|Comedy|Fantasy  \n",
       "1  Adventure|Animation|Children|Comedy|Fantasy  \n",
       "2  Adventure|Animation|Children|Comedy|Fantasy  \n",
       "3  Adventure|Animation|Children|Comedy|Fantasy  \n",
       "4  Adventure|Animation|Children|Comedy|Fantasy  "
      ]
     },
     "execution_count": 5,
     "metadata": {},
     "output_type": "execute_result"
    }
   ],
   "source": [
    "movie_ratings = ratings.merge(movies)\n",
    "movie_ratings.head(5)"
   ]
  },
  {
   "cell_type": "markdown",
   "id": "e531267f",
   "metadata": {},
   "source": [
    "**Average rating for each movie in the dataset**"
   ]
  },
  {
   "cell_type": "code",
   "execution_count": 6,
   "id": "9a2b09a9",
   "metadata": {},
   "outputs": [
    {
     "data": {
      "text/plain": [
       "title\n",
       "'71 (2014)                                   4.000000\n",
       "'Hellboy': The Seeds of Creation (2004)      4.000000\n",
       "'Round Midnight (1986)                       3.500000\n",
       "'Salem's Lot (2004)                          5.000000\n",
       "'Til There Was You (1997)                    4.000000\n",
       "                                               ...   \n",
       "eXistenZ (1999)                              3.863636\n",
       "xXx (2002)                                   2.770833\n",
       "xXx: State of the Union (2005)               2.000000\n",
       "¡Three Amigos! (1986)                        3.134615\n",
       "À nous la liberté (Freedom for Us) (1931)    1.000000\n",
       "Name: rating, Length: 9719, dtype: float64"
      ]
     },
     "execution_count": 6,
     "metadata": {},
     "output_type": "execute_result"
    }
   ],
   "source": [
    "avg_rating = movie_ratings.groupby('title')['rating'].mean()\n",
    "avg_rating"
   ]
  },
  {
   "cell_type": "markdown",
   "id": "c0304033",
   "metadata": {},
   "source": [
    "**Filter out movies that have been watched by less than 20 users**"
   ]
  },
  {
   "cell_type": "code",
   "execution_count": 7,
   "id": "7ab808e2",
   "metadata": {},
   "outputs": [
    {
     "data": {
      "text/plain": [
       "title\n",
       "Forrest Gump (1994)                          329\n",
       "Shawshank Redemption, The (1994)             317\n",
       "Pulp Fiction (1994)                          307\n",
       "Silence of the Lambs, The (1991)             279\n",
       "Matrix, The (1999)                           278\n",
       "Star Wars: Episode IV - A New Hope (1977)    251\n",
       "Jurassic Park (1993)                         238\n",
       "Braveheart (1995)                            237\n",
       "Terminator 2: Judgment Day (1991)            224\n",
       "Schindler's List (1993)                      220\n",
       "Name: userId, dtype: int64"
      ]
     },
     "execution_count": 7,
     "metadata": {},
     "output_type": "execute_result"
    }
   ],
   "source": [
    "ratings_per_title = movie_ratings.groupby('title')['userId'].count()\n",
    "ratings_per_title.sort_values(ascending=False).head(10)\n"
   ]
  },
  {
   "cell_type": "code",
   "execution_count": 8,
   "id": "06984a88",
   "metadata": {},
   "outputs": [],
   "source": [
    "movie_ratings_full = avg_rating.reset_index().merge(ratings_per_title.reset_index())\n",
    "movie_ratings_full.columns = ['title', 'avg_rating', 'nr_ratings']\n",
    "\n",
    "movie_ratings_full = movie_ratings_full.merge(movies[['title']])\n"
   ]
  },
  {
   "cell_type": "code",
   "execution_count": 9,
   "id": "bdecd6be",
   "metadata": {},
   "outputs": [
    {
     "data": {
      "text/html": [
       "<div>\n",
       "<style scoped>\n",
       "    .dataframe tbody tr th:only-of-type {\n",
       "        vertical-align: middle;\n",
       "    }\n",
       "\n",
       "    .dataframe tbody tr th {\n",
       "        vertical-align: top;\n",
       "    }\n",
       "\n",
       "    .dataframe thead th {\n",
       "        text-align: right;\n",
       "    }\n",
       "</style>\n",
       "<table border=\"1\" class=\"dataframe\">\n",
       "  <thead>\n",
       "    <tr style=\"text-align: right;\">\n",
       "      <th></th>\n",
       "      <th>title</th>\n",
       "      <th>avg_rating</th>\n",
       "      <th>nr_ratings</th>\n",
       "    </tr>\n",
       "  </thead>\n",
       "  <tbody>\n",
       "    <tr>\n",
       "      <th>0</th>\n",
       "      <td>'71 (2014)</td>\n",
       "      <td>4.000000</td>\n",
       "      <td>1</td>\n",
       "    </tr>\n",
       "    <tr>\n",
       "      <th>1</th>\n",
       "      <td>'Hellboy': The Seeds of Creation (2004)</td>\n",
       "      <td>4.000000</td>\n",
       "      <td>1</td>\n",
       "    </tr>\n",
       "    <tr>\n",
       "      <th>2</th>\n",
       "      <td>'Round Midnight (1986)</td>\n",
       "      <td>3.500000</td>\n",
       "      <td>2</td>\n",
       "    </tr>\n",
       "    <tr>\n",
       "      <th>3</th>\n",
       "      <td>'Salem's Lot (2004)</td>\n",
       "      <td>5.000000</td>\n",
       "      <td>1</td>\n",
       "    </tr>\n",
       "    <tr>\n",
       "      <th>4</th>\n",
       "      <td>'Til There Was You (1997)</td>\n",
       "      <td>4.000000</td>\n",
       "      <td>2</td>\n",
       "    </tr>\n",
       "    <tr>\n",
       "      <th>...</th>\n",
       "      <td>...</td>\n",
       "      <td>...</td>\n",
       "      <td>...</td>\n",
       "    </tr>\n",
       "    <tr>\n",
       "      <th>9719</th>\n",
       "      <td>eXistenZ (1999)</td>\n",
       "      <td>3.863636</td>\n",
       "      <td>22</td>\n",
       "    </tr>\n",
       "    <tr>\n",
       "      <th>9720</th>\n",
       "      <td>xXx (2002)</td>\n",
       "      <td>2.770833</td>\n",
       "      <td>24</td>\n",
       "    </tr>\n",
       "    <tr>\n",
       "      <th>9721</th>\n",
       "      <td>xXx: State of the Union (2005)</td>\n",
       "      <td>2.000000</td>\n",
       "      <td>5</td>\n",
       "    </tr>\n",
       "    <tr>\n",
       "      <th>9722</th>\n",
       "      <td>¡Three Amigos! (1986)</td>\n",
       "      <td>3.134615</td>\n",
       "      <td>26</td>\n",
       "    </tr>\n",
       "    <tr>\n",
       "      <th>9723</th>\n",
       "      <td>À nous la liberté (Freedom for Us) (1931)</td>\n",
       "      <td>1.000000</td>\n",
       "      <td>1</td>\n",
       "    </tr>\n",
       "  </tbody>\n",
       "</table>\n",
       "<p>9724 rows × 3 columns</p>\n",
       "</div>"
      ],
      "text/plain": [
       "                                          title  avg_rating  nr_ratings\n",
       "0                                    '71 (2014)    4.000000           1\n",
       "1       'Hellboy': The Seeds of Creation (2004)    4.000000           1\n",
       "2                        'Round Midnight (1986)    3.500000           2\n",
       "3                           'Salem's Lot (2004)    5.000000           1\n",
       "4                     'Til There Was You (1997)    4.000000           2\n",
       "...                                         ...         ...         ...\n",
       "9719                            eXistenZ (1999)    3.863636          22\n",
       "9720                                 xXx (2002)    2.770833          24\n",
       "9721             xXx: State of the Union (2005)    2.000000           5\n",
       "9722                      ¡Three Amigos! (1986)    3.134615          26\n",
       "9723  À nous la liberté (Freedom for Us) (1931)    1.000000           1\n",
       "\n",
       "[9724 rows x 3 columns]"
      ]
     },
     "execution_count": 9,
     "metadata": {},
     "output_type": "execute_result"
    }
   ],
   "source": [
    "movie_ratings_full"
   ]
  },
  {
   "cell_type": "code",
   "execution_count": 10,
   "id": "bcd3f8bc",
   "metadata": {},
   "outputs": [],
   "source": [
    "movie_ratings_full['year'] = movie_ratings_full['title'].str.extract(r'\\((\\d{4})\\)')"
   ]
  },
  {
   "cell_type": "code",
   "execution_count": 11,
   "id": "8b18420f",
   "metadata": {},
   "outputs": [
    {
     "data": {
      "text/html": [
       "<div>\n",
       "<style scoped>\n",
       "    .dataframe tbody tr th:only-of-type {\n",
       "        vertical-align: middle;\n",
       "    }\n",
       "\n",
       "    .dataframe tbody tr th {\n",
       "        vertical-align: top;\n",
       "    }\n",
       "\n",
       "    .dataframe thead th {\n",
       "        text-align: right;\n",
       "    }\n",
       "</style>\n",
       "<table border=\"1\" class=\"dataframe\">\n",
       "  <thead>\n",
       "    <tr style=\"text-align: right;\">\n",
       "      <th></th>\n",
       "      <th>title</th>\n",
       "      <th>avg_rating</th>\n",
       "      <th>nr_ratings</th>\n",
       "      <th>year</th>\n",
       "    </tr>\n",
       "  </thead>\n",
       "  <tbody>\n",
       "    <tr>\n",
       "      <th>0</th>\n",
       "      <td>'71 (2014)</td>\n",
       "      <td>4.000000</td>\n",
       "      <td>1</td>\n",
       "      <td>2014</td>\n",
       "    </tr>\n",
       "    <tr>\n",
       "      <th>1</th>\n",
       "      <td>'Hellboy': The Seeds of Creation (2004)</td>\n",
       "      <td>4.000000</td>\n",
       "      <td>1</td>\n",
       "      <td>2004</td>\n",
       "    </tr>\n",
       "    <tr>\n",
       "      <th>2</th>\n",
       "      <td>'Round Midnight (1986)</td>\n",
       "      <td>3.500000</td>\n",
       "      <td>2</td>\n",
       "      <td>1986</td>\n",
       "    </tr>\n",
       "    <tr>\n",
       "      <th>3</th>\n",
       "      <td>'Salem's Lot (2004)</td>\n",
       "      <td>5.000000</td>\n",
       "      <td>1</td>\n",
       "      <td>2004</td>\n",
       "    </tr>\n",
       "    <tr>\n",
       "      <th>4</th>\n",
       "      <td>'Til There Was You (1997)</td>\n",
       "      <td>4.000000</td>\n",
       "      <td>2</td>\n",
       "      <td>1997</td>\n",
       "    </tr>\n",
       "    <tr>\n",
       "      <th>...</th>\n",
       "      <td>...</td>\n",
       "      <td>...</td>\n",
       "      <td>...</td>\n",
       "      <td>...</td>\n",
       "    </tr>\n",
       "    <tr>\n",
       "      <th>9719</th>\n",
       "      <td>eXistenZ (1999)</td>\n",
       "      <td>3.863636</td>\n",
       "      <td>22</td>\n",
       "      <td>1999</td>\n",
       "    </tr>\n",
       "    <tr>\n",
       "      <th>9720</th>\n",
       "      <td>xXx (2002)</td>\n",
       "      <td>2.770833</td>\n",
       "      <td>24</td>\n",
       "      <td>2002</td>\n",
       "    </tr>\n",
       "    <tr>\n",
       "      <th>9721</th>\n",
       "      <td>xXx: State of the Union (2005)</td>\n",
       "      <td>2.000000</td>\n",
       "      <td>5</td>\n",
       "      <td>2005</td>\n",
       "    </tr>\n",
       "    <tr>\n",
       "      <th>9722</th>\n",
       "      <td>¡Three Amigos! (1986)</td>\n",
       "      <td>3.134615</td>\n",
       "      <td>26</td>\n",
       "      <td>1986</td>\n",
       "    </tr>\n",
       "    <tr>\n",
       "      <th>9723</th>\n",
       "      <td>À nous la liberté (Freedom for Us) (1931)</td>\n",
       "      <td>1.000000</td>\n",
       "      <td>1</td>\n",
       "      <td>1931</td>\n",
       "    </tr>\n",
       "  </tbody>\n",
       "</table>\n",
       "<p>9724 rows × 4 columns</p>\n",
       "</div>"
      ],
      "text/plain": [
       "                                          title  avg_rating  nr_ratings  year\n",
       "0                                    '71 (2014)    4.000000           1  2014\n",
       "1       'Hellboy': The Seeds of Creation (2004)    4.000000           1  2004\n",
       "2                        'Round Midnight (1986)    3.500000           2  1986\n",
       "3                           'Salem's Lot (2004)    5.000000           1  2004\n",
       "4                     'Til There Was You (1997)    4.000000           2  1997\n",
       "...                                         ...         ...         ...   ...\n",
       "9719                            eXistenZ (1999)    3.863636          22  1999\n",
       "9720                                 xXx (2002)    2.770833          24  2002\n",
       "9721             xXx: State of the Union (2005)    2.000000           5  2005\n",
       "9722                      ¡Three Amigos! (1986)    3.134615          26  1986\n",
       "9723  À nous la liberté (Freedom for Us) (1931)    1.000000           1  1931\n",
       "\n",
       "[9724 rows x 4 columns]"
      ]
     },
     "execution_count": 11,
     "metadata": {},
     "output_type": "execute_result"
    }
   ],
   "source": [
    "movie_ratings_full"
   ]
  },
  {
   "cell_type": "code",
   "execution_count": 12,
   "id": "b379c168",
   "metadata": {},
   "outputs": [
    {
     "data": {
      "text/html": [
       "<div>\n",
       "<style scoped>\n",
       "    .dataframe tbody tr th:only-of-type {\n",
       "        vertical-align: middle;\n",
       "    }\n",
       "\n",
       "    .dataframe tbody tr th {\n",
       "        vertical-align: top;\n",
       "    }\n",
       "\n",
       "    .dataframe thead th {\n",
       "        text-align: right;\n",
       "    }\n",
       "</style>\n",
       "<table border=\"1\" class=\"dataframe\">\n",
       "  <thead>\n",
       "    <tr style=\"text-align: right;\">\n",
       "      <th></th>\n",
       "      <th>title</th>\n",
       "      <th>avg_rating</th>\n",
       "      <th>nr_ratings</th>\n",
       "      <th>year</th>\n",
       "    </tr>\n",
       "  </thead>\n",
       "  <tbody>\n",
       "    <tr>\n",
       "      <th>8</th>\n",
       "      <td>(500) Days of Summer (2009)</td>\n",
       "      <td>3.666667</td>\n",
       "      <td>42</td>\n",
       "      <td>2009</td>\n",
       "    </tr>\n",
       "    <tr>\n",
       "      <th>18</th>\n",
       "      <td>10 Things I Hate About You (1999)</td>\n",
       "      <td>3.527778</td>\n",
       "      <td>54</td>\n",
       "      <td>1999</td>\n",
       "    </tr>\n",
       "    <tr>\n",
       "      <th>23</th>\n",
       "      <td>101 Dalmatians (1996)</td>\n",
       "      <td>3.074468</td>\n",
       "      <td>47</td>\n",
       "      <td>1996</td>\n",
       "    </tr>\n",
       "    <tr>\n",
       "      <th>24</th>\n",
       "      <td>101 Dalmatians (One Hundred and One Dalmatians...</td>\n",
       "      <td>3.431818</td>\n",
       "      <td>44</td>\n",
       "      <td>1961</td>\n",
       "    </tr>\n",
       "    <tr>\n",
       "      <th>34</th>\n",
       "      <td>12 Angry Men (1957)</td>\n",
       "      <td>4.149123</td>\n",
       "      <td>57</td>\n",
       "      <td>1957</td>\n",
       "    </tr>\n",
       "    <tr>\n",
       "      <th>...</th>\n",
       "      <td>...</td>\n",
       "      <td>...</td>\n",
       "      <td>...</td>\n",
       "      <td>...</td>\n",
       "    </tr>\n",
       "    <tr>\n",
       "      <th>9708</th>\n",
       "      <td>Zoolander (2001)</td>\n",
       "      <td>3.509259</td>\n",
       "      <td>54</td>\n",
       "      <td>2001</td>\n",
       "    </tr>\n",
       "    <tr>\n",
       "      <th>9712</th>\n",
       "      <td>Zootopia (2016)</td>\n",
       "      <td>3.890625</td>\n",
       "      <td>32</td>\n",
       "      <td>2016</td>\n",
       "    </tr>\n",
       "    <tr>\n",
       "      <th>9719</th>\n",
       "      <td>eXistenZ (1999)</td>\n",
       "      <td>3.863636</td>\n",
       "      <td>22</td>\n",
       "      <td>1999</td>\n",
       "    </tr>\n",
       "    <tr>\n",
       "      <th>9720</th>\n",
       "      <td>xXx (2002)</td>\n",
       "      <td>2.770833</td>\n",
       "      <td>24</td>\n",
       "      <td>2002</td>\n",
       "    </tr>\n",
       "    <tr>\n",
       "      <th>9722</th>\n",
       "      <td>¡Three Amigos! (1986)</td>\n",
       "      <td>3.134615</td>\n",
       "      <td>26</td>\n",
       "      <td>1986</td>\n",
       "    </tr>\n",
       "  </tbody>\n",
       "</table>\n",
       "<p>1299 rows × 4 columns</p>\n",
       "</div>"
      ],
      "text/plain": [
       "                                                  title  avg_rating  \\\n",
       "8                           (500) Days of Summer (2009)    3.666667   \n",
       "18                    10 Things I Hate About You (1999)    3.527778   \n",
       "23                                101 Dalmatians (1996)    3.074468   \n",
       "24    101 Dalmatians (One Hundred and One Dalmatians...    3.431818   \n",
       "34                                  12 Angry Men (1957)    4.149123   \n",
       "...                                                 ...         ...   \n",
       "9708                                   Zoolander (2001)    3.509259   \n",
       "9712                                    Zootopia (2016)    3.890625   \n",
       "9719                                    eXistenZ (1999)    3.863636   \n",
       "9720                                         xXx (2002)    2.770833   \n",
       "9722                              ¡Three Amigos! (1986)    3.134615   \n",
       "\n",
       "      nr_ratings  year  \n",
       "8             42  2009  \n",
       "18            54  1999  \n",
       "23            47  1996  \n",
       "24            44  1961  \n",
       "34            57  1957  \n",
       "...          ...   ...  \n",
       "9708          54  2001  \n",
       "9712          32  2016  \n",
       "9719          22  1999  \n",
       "9720          24  2002  \n",
       "9722          26  1986  \n",
       "\n",
       "[1299 rows x 4 columns]"
      ]
     },
     "execution_count": 12,
     "metadata": {},
     "output_type": "execute_result"
    }
   ],
   "source": [
    "movies_20 = movie_ratings_full[movie_ratings_full['nr_ratings'] > 19]\n",
    "movies_20"
   ]
  },
  {
   "cell_type": "code",
   "execution_count": 13,
   "id": "9ea56d6c",
   "metadata": {},
   "outputs": [
    {
     "data": {
      "text/html": [
       "<div>\n",
       "<style scoped>\n",
       "    .dataframe tbody tr th:only-of-type {\n",
       "        vertical-align: middle;\n",
       "    }\n",
       "\n",
       "    .dataframe tbody tr th {\n",
       "        vertical-align: top;\n",
       "    }\n",
       "\n",
       "    .dataframe thead th {\n",
       "        text-align: right;\n",
       "    }\n",
       "</style>\n",
       "<table border=\"1\" class=\"dataframe\">\n",
       "  <thead>\n",
       "    <tr style=\"text-align: right;\">\n",
       "      <th></th>\n",
       "      <th>userId</th>\n",
       "      <th>movieId</th>\n",
       "      <th>rating</th>\n",
       "      <th>timestamp</th>\n",
       "      <th>title</th>\n",
       "      <th>genres</th>\n",
       "    </tr>\n",
       "  </thead>\n",
       "  <tbody>\n",
       "    <tr>\n",
       "      <th>0</th>\n",
       "      <td>1</td>\n",
       "      <td>1</td>\n",
       "      <td>4.0</td>\n",
       "      <td>964982703</td>\n",
       "      <td>Toy Story (1995)</td>\n",
       "      <td>Adventure|Animation|Children|Comedy|Fantasy</td>\n",
       "    </tr>\n",
       "    <tr>\n",
       "      <th>1</th>\n",
       "      <td>5</td>\n",
       "      <td>1</td>\n",
       "      <td>4.0</td>\n",
       "      <td>847434962</td>\n",
       "      <td>Toy Story (1995)</td>\n",
       "      <td>Adventure|Animation|Children|Comedy|Fantasy</td>\n",
       "    </tr>\n",
       "    <tr>\n",
       "      <th>2</th>\n",
       "      <td>7</td>\n",
       "      <td>1</td>\n",
       "      <td>4.5</td>\n",
       "      <td>1106635946</td>\n",
       "      <td>Toy Story (1995)</td>\n",
       "      <td>Adventure|Animation|Children|Comedy|Fantasy</td>\n",
       "    </tr>\n",
       "    <tr>\n",
       "      <th>3</th>\n",
       "      <td>15</td>\n",
       "      <td>1</td>\n",
       "      <td>2.5</td>\n",
       "      <td>1510577970</td>\n",
       "      <td>Toy Story (1995)</td>\n",
       "      <td>Adventure|Animation|Children|Comedy|Fantasy</td>\n",
       "    </tr>\n",
       "    <tr>\n",
       "      <th>4</th>\n",
       "      <td>17</td>\n",
       "      <td>1</td>\n",
       "      <td>4.5</td>\n",
       "      <td>1305696483</td>\n",
       "      <td>Toy Story (1995)</td>\n",
       "      <td>Adventure|Animation|Children|Comedy|Fantasy</td>\n",
       "    </tr>\n",
       "    <tr>\n",
       "      <th>...</th>\n",
       "      <td>...</td>\n",
       "      <td>...</td>\n",
       "      <td>...</td>\n",
       "      <td>...</td>\n",
       "      <td>...</td>\n",
       "      <td>...</td>\n",
       "    </tr>\n",
       "    <tr>\n",
       "      <th>100831</th>\n",
       "      <td>610</td>\n",
       "      <td>160341</td>\n",
       "      <td>2.5</td>\n",
       "      <td>1479545749</td>\n",
       "      <td>Bloodmoon (1997)</td>\n",
       "      <td>Action|Thriller</td>\n",
       "    </tr>\n",
       "    <tr>\n",
       "      <th>100832</th>\n",
       "      <td>610</td>\n",
       "      <td>160527</td>\n",
       "      <td>4.5</td>\n",
       "      <td>1479544998</td>\n",
       "      <td>Sympathy for the Underdog (1971)</td>\n",
       "      <td>Action|Crime|Drama</td>\n",
       "    </tr>\n",
       "    <tr>\n",
       "      <th>100833</th>\n",
       "      <td>610</td>\n",
       "      <td>160836</td>\n",
       "      <td>3.0</td>\n",
       "      <td>1493844794</td>\n",
       "      <td>Hazard (2005)</td>\n",
       "      <td>Action|Drama|Thriller</td>\n",
       "    </tr>\n",
       "    <tr>\n",
       "      <th>100834</th>\n",
       "      <td>610</td>\n",
       "      <td>163937</td>\n",
       "      <td>3.5</td>\n",
       "      <td>1493848789</td>\n",
       "      <td>Blair Witch (2016)</td>\n",
       "      <td>Horror|Thriller</td>\n",
       "    </tr>\n",
       "    <tr>\n",
       "      <th>100835</th>\n",
       "      <td>610</td>\n",
       "      <td>163981</td>\n",
       "      <td>3.5</td>\n",
       "      <td>1493850155</td>\n",
       "      <td>31 (2016)</td>\n",
       "      <td>Horror</td>\n",
       "    </tr>\n",
       "  </tbody>\n",
       "</table>\n",
       "<p>100836 rows × 6 columns</p>\n",
       "</div>"
      ],
      "text/plain": [
       "        userId  movieId  rating   timestamp                             title  \\\n",
       "0            1        1     4.0   964982703                  Toy Story (1995)   \n",
       "1            5        1     4.0   847434962                  Toy Story (1995)   \n",
       "2            7        1     4.5  1106635946                  Toy Story (1995)   \n",
       "3           15        1     2.5  1510577970                  Toy Story (1995)   \n",
       "4           17        1     4.5  1305696483                  Toy Story (1995)   \n",
       "...        ...      ...     ...         ...                               ...   \n",
       "100831     610   160341     2.5  1479545749                  Bloodmoon (1997)   \n",
       "100832     610   160527     4.5  1479544998  Sympathy for the Underdog (1971)   \n",
       "100833     610   160836     3.0  1493844794                     Hazard (2005)   \n",
       "100834     610   163937     3.5  1493848789                Blair Witch (2016)   \n",
       "100835     610   163981     3.5  1493850155                         31 (2016)   \n",
       "\n",
       "                                             genres  \n",
       "0       Adventure|Animation|Children|Comedy|Fantasy  \n",
       "1       Adventure|Animation|Children|Comedy|Fantasy  \n",
       "2       Adventure|Animation|Children|Comedy|Fantasy  \n",
       "3       Adventure|Animation|Children|Comedy|Fantasy  \n",
       "4       Adventure|Animation|Children|Comedy|Fantasy  \n",
       "...                                             ...  \n",
       "100831                              Action|Thriller  \n",
       "100832                           Action|Crime|Drama  \n",
       "100833                        Action|Drama|Thriller  \n",
       "100834                              Horror|Thriller  \n",
       "100835                                       Horror  \n",
       "\n",
       "[100836 rows x 6 columns]"
      ]
     },
     "execution_count": 13,
     "metadata": {},
     "output_type": "execute_result"
    }
   ],
   "source": [
    "movie_ratings"
   ]
  },
  {
   "cell_type": "code",
   "execution_count": 14,
   "id": "25958065",
   "metadata": {},
   "outputs": [
    {
     "data": {
      "text/html": [
       "<div>\n",
       "<style scoped>\n",
       "    .dataframe tbody tr th:only-of-type {\n",
       "        vertical-align: middle;\n",
       "    }\n",
       "\n",
       "    .dataframe tbody tr th {\n",
       "        vertical-align: top;\n",
       "    }\n",
       "\n",
       "    .dataframe thead th {\n",
       "        text-align: right;\n",
       "    }\n",
       "</style>\n",
       "<table border=\"1\" class=\"dataframe\">\n",
       "  <thead>\n",
       "    <tr style=\"text-align: right;\">\n",
       "      <th></th>\n",
       "      <th>userId</th>\n",
       "      <th>movieId</th>\n",
       "      <th>rating</th>\n",
       "      <th>timestamp</th>\n",
       "      <th>title</th>\n",
       "      <th>genres</th>\n",
       "      <th>avg_rating</th>\n",
       "      <th>nr_ratings</th>\n",
       "      <th>year</th>\n",
       "    </tr>\n",
       "  </thead>\n",
       "  <tbody>\n",
       "    <tr>\n",
       "      <th>0</th>\n",
       "      <td>15</td>\n",
       "      <td>69757</td>\n",
       "      <td>4.0</td>\n",
       "      <td>1299425345</td>\n",
       "      <td>(500) Days of Summer (2009)</td>\n",
       "      <td>Comedy|Drama|Romance</td>\n",
       "      <td>3.666667</td>\n",
       "      <td>42</td>\n",
       "      <td>2009</td>\n",
       "    </tr>\n",
       "    <tr>\n",
       "      <th>1</th>\n",
       "      <td>18</td>\n",
       "      <td>69757</td>\n",
       "      <td>4.0</td>\n",
       "      <td>1455750175</td>\n",
       "      <td>(500) Days of Summer (2009)</td>\n",
       "      <td>Comedy|Drama|Romance</td>\n",
       "      <td>3.666667</td>\n",
       "      <td>42</td>\n",
       "      <td>2009</td>\n",
       "    </tr>\n",
       "    <tr>\n",
       "      <th>2</th>\n",
       "      <td>22</td>\n",
       "      <td>69757</td>\n",
       "      <td>0.5</td>\n",
       "      <td>1268726748</td>\n",
       "      <td>(500) Days of Summer (2009)</td>\n",
       "      <td>Comedy|Drama|Romance</td>\n",
       "      <td>3.666667</td>\n",
       "      <td>42</td>\n",
       "      <td>2009</td>\n",
       "    </tr>\n",
       "    <tr>\n",
       "      <th>3</th>\n",
       "      <td>41</td>\n",
       "      <td>69757</td>\n",
       "      <td>3.5</td>\n",
       "      <td>1458938869</td>\n",
       "      <td>(500) Days of Summer (2009)</td>\n",
       "      <td>Comedy|Drama|Romance</td>\n",
       "      <td>3.666667</td>\n",
       "      <td>42</td>\n",
       "      <td>2009</td>\n",
       "    </tr>\n",
       "    <tr>\n",
       "      <th>4</th>\n",
       "      <td>62</td>\n",
       "      <td>69757</td>\n",
       "      <td>4.5</td>\n",
       "      <td>1521490345</td>\n",
       "      <td>(500) Days of Summer (2009)</td>\n",
       "      <td>Comedy|Drama|Romance</td>\n",
       "      <td>3.666667</td>\n",
       "      <td>42</td>\n",
       "      <td>2009</td>\n",
       "    </tr>\n",
       "    <tr>\n",
       "      <th>...</th>\n",
       "      <td>...</td>\n",
       "      <td>...</td>\n",
       "      <td>...</td>\n",
       "      <td>...</td>\n",
       "      <td>...</td>\n",
       "      <td>...</td>\n",
       "      <td>...</td>\n",
       "      <td>...</td>\n",
       "      <td>...</td>\n",
       "    </tr>\n",
       "    <tr>\n",
       "      <th>67979</th>\n",
       "      <td>477</td>\n",
       "      <td>2478</td>\n",
       "      <td>3.5</td>\n",
       "      <td>1200944830</td>\n",
       "      <td>¡Three Amigos! (1986)</td>\n",
       "      <td>Comedy|Western</td>\n",
       "      <td>3.134615</td>\n",
       "      <td>26</td>\n",
       "      <td>1986</td>\n",
       "    </tr>\n",
       "    <tr>\n",
       "      <th>67980</th>\n",
       "      <td>555</td>\n",
       "      <td>2478</td>\n",
       "      <td>3.0</td>\n",
       "      <td>978823434</td>\n",
       "      <td>¡Three Amigos! (1986)</td>\n",
       "      <td>Comedy|Western</td>\n",
       "      <td>3.134615</td>\n",
       "      <td>26</td>\n",
       "      <td>1986</td>\n",
       "    </tr>\n",
       "    <tr>\n",
       "      <th>67981</th>\n",
       "      <td>561</td>\n",
       "      <td>2478</td>\n",
       "      <td>4.0</td>\n",
       "      <td>1491092281</td>\n",
       "      <td>¡Three Amigos! (1986)</td>\n",
       "      <td>Comedy|Western</td>\n",
       "      <td>3.134615</td>\n",
       "      <td>26</td>\n",
       "      <td>1986</td>\n",
       "    </tr>\n",
       "    <tr>\n",
       "      <th>67982</th>\n",
       "      <td>597</td>\n",
       "      <td>2478</td>\n",
       "      <td>3.0</td>\n",
       "      <td>941641402</td>\n",
       "      <td>¡Three Amigos! (1986)</td>\n",
       "      <td>Comedy|Western</td>\n",
       "      <td>3.134615</td>\n",
       "      <td>26</td>\n",
       "      <td>1986</td>\n",
       "    </tr>\n",
       "    <tr>\n",
       "      <th>67983</th>\n",
       "      <td>599</td>\n",
       "      <td>2478</td>\n",
       "      <td>2.5</td>\n",
       "      <td>1498518515</td>\n",
       "      <td>¡Three Amigos! (1986)</td>\n",
       "      <td>Comedy|Western</td>\n",
       "      <td>3.134615</td>\n",
       "      <td>26</td>\n",
       "      <td>1986</td>\n",
       "    </tr>\n",
       "  </tbody>\n",
       "</table>\n",
       "<p>67984 rows × 9 columns</p>\n",
       "</div>"
      ],
      "text/plain": [
       "       userId  movieId  rating   timestamp                        title  \\\n",
       "0          15    69757     4.0  1299425345  (500) Days of Summer (2009)   \n",
       "1          18    69757     4.0  1455750175  (500) Days of Summer (2009)   \n",
       "2          22    69757     0.5  1268726748  (500) Days of Summer (2009)   \n",
       "3          41    69757     3.5  1458938869  (500) Days of Summer (2009)   \n",
       "4          62    69757     4.5  1521490345  (500) Days of Summer (2009)   \n",
       "...       ...      ...     ...         ...                          ...   \n",
       "67979     477     2478     3.5  1200944830        ¡Three Amigos! (1986)   \n",
       "67980     555     2478     3.0   978823434        ¡Three Amigos! (1986)   \n",
       "67981     561     2478     4.0  1491092281        ¡Three Amigos! (1986)   \n",
       "67982     597     2478     3.0   941641402        ¡Three Amigos! (1986)   \n",
       "67983     599     2478     2.5  1498518515        ¡Three Amigos! (1986)   \n",
       "\n",
       "                     genres  avg_rating  nr_ratings  year  \n",
       "0      Comedy|Drama|Romance    3.666667          42  2009  \n",
       "1      Comedy|Drama|Romance    3.666667          42  2009  \n",
       "2      Comedy|Drama|Romance    3.666667          42  2009  \n",
       "3      Comedy|Drama|Romance    3.666667          42  2009  \n",
       "4      Comedy|Drama|Romance    3.666667          42  2009  \n",
       "...                     ...         ...         ...   ...  \n",
       "67979        Comedy|Western    3.134615          26  1986  \n",
       "67980        Comedy|Western    3.134615          26  1986  \n",
       "67981        Comedy|Western    3.134615          26  1986  \n",
       "67982        Comedy|Western    3.134615          26  1986  \n",
       "67983        Comedy|Western    3.134615          26  1986  \n",
       "\n",
       "[67984 rows x 9 columns]"
      ]
     },
     "execution_count": 14,
     "metadata": {},
     "output_type": "execute_result"
    }
   ],
   "source": [
    "# Combining the movie table with movies that have been rated at least 20 times\n",
    "df = pd.merge(movie_ratings, movies_20, how='right')\n",
    "df"
   ]
  },
  {
   "cell_type": "code",
   "execution_count": 24,
   "id": "c4a94833",
   "metadata": {},
   "outputs": [
    {
     "data": {
      "text/plain": [
       "Forrest Gump (1994)                           329\n",
       "Shawshank Redemption, The (1994)              317\n",
       "Pulp Fiction (1994)                           307\n",
       "Silence of the Lambs, The (1991)              279\n",
       "Matrix, The (1999)                            278\n",
       "                                             ... \n",
       "Perks of Being a Wallflower, The (2012)        20\n",
       "Adventures in Babysitting (1987)               20\n",
       "Solaris (2002)                                 20\n",
       "Bill & Ted's Bogus Journey (1991)              20\n",
       "Transformers: Revenge of the Fallen (2009)     20\n",
       "Name: title, Length: 1297, dtype: int64"
      ]
     },
     "execution_count": 24,
     "metadata": {},
     "output_type": "execute_result"
    }
   ],
   "source": [
    "df['title'].value_counts()"
   ]
  },
  {
   "cell_type": "markdown",
   "id": "67ef41b7",
   "metadata": {},
   "source": [
    "**User-item matrix**"
   ]
  },
  {
   "cell_type": "code",
   "execution_count": 25,
   "id": "82ced6db",
   "metadata": {},
   "outputs": [
    {
     "data": {
      "text/html": [
       "<div>\n",
       "<style scoped>\n",
       "    .dataframe tbody tr th:only-of-type {\n",
       "        vertical-align: middle;\n",
       "    }\n",
       "\n",
       "    .dataframe tbody tr th {\n",
       "        vertical-align: top;\n",
       "    }\n",
       "\n",
       "    .dataframe thead th {\n",
       "        text-align: right;\n",
       "    }\n",
       "</style>\n",
       "<table border=\"1\" class=\"dataframe\">\n",
       "  <thead>\n",
       "    <tr style=\"text-align: right;\">\n",
       "      <th>movieId</th>\n",
       "      <th>1</th>\n",
       "      <th>2</th>\n",
       "      <th>3</th>\n",
       "      <th>5</th>\n",
       "      <th>6</th>\n",
       "      <th>7</th>\n",
       "      <th>10</th>\n",
       "      <th>11</th>\n",
       "      <th>16</th>\n",
       "      <th>17</th>\n",
       "      <th>...</th>\n",
       "      <th>122920</th>\n",
       "      <th>122922</th>\n",
       "      <th>134130</th>\n",
       "      <th>134853</th>\n",
       "      <th>139385</th>\n",
       "      <th>148626</th>\n",
       "      <th>152081</th>\n",
       "      <th>164179</th>\n",
       "      <th>166528</th>\n",
       "      <th>168252</th>\n",
       "    </tr>\n",
       "    <tr>\n",
       "      <th>userId</th>\n",
       "      <th></th>\n",
       "      <th></th>\n",
       "      <th></th>\n",
       "      <th></th>\n",
       "      <th></th>\n",
       "      <th></th>\n",
       "      <th></th>\n",
       "      <th></th>\n",
       "      <th></th>\n",
       "      <th></th>\n",
       "      <th></th>\n",
       "      <th></th>\n",
       "      <th></th>\n",
       "      <th></th>\n",
       "      <th></th>\n",
       "      <th></th>\n",
       "      <th></th>\n",
       "      <th></th>\n",
       "      <th></th>\n",
       "      <th></th>\n",
       "      <th></th>\n",
       "    </tr>\n",
       "  </thead>\n",
       "  <tbody>\n",
       "    <tr>\n",
       "      <th>1</th>\n",
       "      <td>4.0</td>\n",
       "      <td>NaN</td>\n",
       "      <td>4.0</td>\n",
       "      <td>NaN</td>\n",
       "      <td>4.0</td>\n",
       "      <td>NaN</td>\n",
       "      <td>NaN</td>\n",
       "      <td>NaN</td>\n",
       "      <td>NaN</td>\n",
       "      <td>NaN</td>\n",
       "      <td>...</td>\n",
       "      <td>NaN</td>\n",
       "      <td>NaN</td>\n",
       "      <td>NaN</td>\n",
       "      <td>NaN</td>\n",
       "      <td>NaN</td>\n",
       "      <td>NaN</td>\n",
       "      <td>NaN</td>\n",
       "      <td>NaN</td>\n",
       "      <td>NaN</td>\n",
       "      <td>NaN</td>\n",
       "    </tr>\n",
       "    <tr>\n",
       "      <th>2</th>\n",
       "      <td>NaN</td>\n",
       "      <td>NaN</td>\n",
       "      <td>NaN</td>\n",
       "      <td>NaN</td>\n",
       "      <td>NaN</td>\n",
       "      <td>NaN</td>\n",
       "      <td>NaN</td>\n",
       "      <td>NaN</td>\n",
       "      <td>NaN</td>\n",
       "      <td>NaN</td>\n",
       "      <td>...</td>\n",
       "      <td>NaN</td>\n",
       "      <td>NaN</td>\n",
       "      <td>NaN</td>\n",
       "      <td>NaN</td>\n",
       "      <td>NaN</td>\n",
       "      <td>NaN</td>\n",
       "      <td>NaN</td>\n",
       "      <td>NaN</td>\n",
       "      <td>NaN</td>\n",
       "      <td>NaN</td>\n",
       "    </tr>\n",
       "    <tr>\n",
       "      <th>3</th>\n",
       "      <td>NaN</td>\n",
       "      <td>NaN</td>\n",
       "      <td>NaN</td>\n",
       "      <td>NaN</td>\n",
       "      <td>NaN</td>\n",
       "      <td>NaN</td>\n",
       "      <td>NaN</td>\n",
       "      <td>NaN</td>\n",
       "      <td>NaN</td>\n",
       "      <td>NaN</td>\n",
       "      <td>...</td>\n",
       "      <td>NaN</td>\n",
       "      <td>NaN</td>\n",
       "      <td>NaN</td>\n",
       "      <td>NaN</td>\n",
       "      <td>NaN</td>\n",
       "      <td>NaN</td>\n",
       "      <td>NaN</td>\n",
       "      <td>NaN</td>\n",
       "      <td>NaN</td>\n",
       "      <td>NaN</td>\n",
       "    </tr>\n",
       "    <tr>\n",
       "      <th>4</th>\n",
       "      <td>NaN</td>\n",
       "      <td>NaN</td>\n",
       "      <td>NaN</td>\n",
       "      <td>NaN</td>\n",
       "      <td>NaN</td>\n",
       "      <td>NaN</td>\n",
       "      <td>NaN</td>\n",
       "      <td>NaN</td>\n",
       "      <td>NaN</td>\n",
       "      <td>NaN</td>\n",
       "      <td>...</td>\n",
       "      <td>NaN</td>\n",
       "      <td>NaN</td>\n",
       "      <td>NaN</td>\n",
       "      <td>NaN</td>\n",
       "      <td>NaN</td>\n",
       "      <td>NaN</td>\n",
       "      <td>NaN</td>\n",
       "      <td>NaN</td>\n",
       "      <td>NaN</td>\n",
       "      <td>NaN</td>\n",
       "    </tr>\n",
       "    <tr>\n",
       "      <th>5</th>\n",
       "      <td>4.0</td>\n",
       "      <td>NaN</td>\n",
       "      <td>NaN</td>\n",
       "      <td>NaN</td>\n",
       "      <td>NaN</td>\n",
       "      <td>NaN</td>\n",
       "      <td>NaN</td>\n",
       "      <td>NaN</td>\n",
       "      <td>NaN</td>\n",
       "      <td>NaN</td>\n",
       "      <td>...</td>\n",
       "      <td>NaN</td>\n",
       "      <td>NaN</td>\n",
       "      <td>NaN</td>\n",
       "      <td>NaN</td>\n",
       "      <td>NaN</td>\n",
       "      <td>NaN</td>\n",
       "      <td>NaN</td>\n",
       "      <td>NaN</td>\n",
       "      <td>NaN</td>\n",
       "      <td>NaN</td>\n",
       "    </tr>\n",
       "    <tr>\n",
       "      <th>...</th>\n",
       "      <td>...</td>\n",
       "      <td>...</td>\n",
       "      <td>...</td>\n",
       "      <td>...</td>\n",
       "      <td>...</td>\n",
       "      <td>...</td>\n",
       "      <td>...</td>\n",
       "      <td>...</td>\n",
       "      <td>...</td>\n",
       "      <td>...</td>\n",
       "      <td>...</td>\n",
       "      <td>...</td>\n",
       "      <td>...</td>\n",
       "      <td>...</td>\n",
       "      <td>...</td>\n",
       "      <td>...</td>\n",
       "      <td>...</td>\n",
       "      <td>...</td>\n",
       "      <td>...</td>\n",
       "      <td>...</td>\n",
       "      <td>...</td>\n",
       "    </tr>\n",
       "    <tr>\n",
       "      <th>606</th>\n",
       "      <td>2.5</td>\n",
       "      <td>NaN</td>\n",
       "      <td>NaN</td>\n",
       "      <td>NaN</td>\n",
       "      <td>NaN</td>\n",
       "      <td>2.5</td>\n",
       "      <td>NaN</td>\n",
       "      <td>2.5</td>\n",
       "      <td>NaN</td>\n",
       "      <td>4.0</td>\n",
       "      <td>...</td>\n",
       "      <td>NaN</td>\n",
       "      <td>NaN</td>\n",
       "      <td>NaN</td>\n",
       "      <td>NaN</td>\n",
       "      <td>NaN</td>\n",
       "      <td>NaN</td>\n",
       "      <td>NaN</td>\n",
       "      <td>NaN</td>\n",
       "      <td>NaN</td>\n",
       "      <td>NaN</td>\n",
       "    </tr>\n",
       "    <tr>\n",
       "      <th>607</th>\n",
       "      <td>4.0</td>\n",
       "      <td>NaN</td>\n",
       "      <td>NaN</td>\n",
       "      <td>NaN</td>\n",
       "      <td>NaN</td>\n",
       "      <td>NaN</td>\n",
       "      <td>NaN</td>\n",
       "      <td>3.0</td>\n",
       "      <td>NaN</td>\n",
       "      <td>NaN</td>\n",
       "      <td>...</td>\n",
       "      <td>NaN</td>\n",
       "      <td>NaN</td>\n",
       "      <td>NaN</td>\n",
       "      <td>NaN</td>\n",
       "      <td>NaN</td>\n",
       "      <td>NaN</td>\n",
       "      <td>NaN</td>\n",
       "      <td>NaN</td>\n",
       "      <td>NaN</td>\n",
       "      <td>NaN</td>\n",
       "    </tr>\n",
       "    <tr>\n",
       "      <th>608</th>\n",
       "      <td>2.5</td>\n",
       "      <td>2.0</td>\n",
       "      <td>2.0</td>\n",
       "      <td>NaN</td>\n",
       "      <td>NaN</td>\n",
       "      <td>NaN</td>\n",
       "      <td>4.0</td>\n",
       "      <td>NaN</td>\n",
       "      <td>4.5</td>\n",
       "      <td>NaN</td>\n",
       "      <td>...</td>\n",
       "      <td>NaN</td>\n",
       "      <td>NaN</td>\n",
       "      <td>NaN</td>\n",
       "      <td>NaN</td>\n",
       "      <td>NaN</td>\n",
       "      <td>NaN</td>\n",
       "      <td>NaN</td>\n",
       "      <td>NaN</td>\n",
       "      <td>NaN</td>\n",
       "      <td>NaN</td>\n",
       "    </tr>\n",
       "    <tr>\n",
       "      <th>609</th>\n",
       "      <td>3.0</td>\n",
       "      <td>NaN</td>\n",
       "      <td>NaN</td>\n",
       "      <td>NaN</td>\n",
       "      <td>NaN</td>\n",
       "      <td>NaN</td>\n",
       "      <td>4.0</td>\n",
       "      <td>NaN</td>\n",
       "      <td>NaN</td>\n",
       "      <td>NaN</td>\n",
       "      <td>...</td>\n",
       "      <td>NaN</td>\n",
       "      <td>NaN</td>\n",
       "      <td>NaN</td>\n",
       "      <td>NaN</td>\n",
       "      <td>NaN</td>\n",
       "      <td>NaN</td>\n",
       "      <td>NaN</td>\n",
       "      <td>NaN</td>\n",
       "      <td>NaN</td>\n",
       "      <td>NaN</td>\n",
       "    </tr>\n",
       "    <tr>\n",
       "      <th>610</th>\n",
       "      <td>5.0</td>\n",
       "      <td>NaN</td>\n",
       "      <td>NaN</td>\n",
       "      <td>NaN</td>\n",
       "      <td>5.0</td>\n",
       "      <td>NaN</td>\n",
       "      <td>NaN</td>\n",
       "      <td>NaN</td>\n",
       "      <td>4.5</td>\n",
       "      <td>NaN</td>\n",
       "      <td>...</td>\n",
       "      <td>5.0</td>\n",
       "      <td>3.5</td>\n",
       "      <td>3.5</td>\n",
       "      <td>3.5</td>\n",
       "      <td>4.5</td>\n",
       "      <td>4.0</td>\n",
       "      <td>4.0</td>\n",
       "      <td>5.0</td>\n",
       "      <td>4.0</td>\n",
       "      <td>5.0</td>\n",
       "    </tr>\n",
       "  </tbody>\n",
       "</table>\n",
       "<p>610 rows × 1299 columns</p>\n",
       "</div>"
      ],
      "text/plain": [
       "movieId  1       2       3       5       6       7       10      11      \\\n",
       "userId                                                                    \n",
       "1           4.0     NaN     4.0     NaN     4.0     NaN     NaN     NaN   \n",
       "2           NaN     NaN     NaN     NaN     NaN     NaN     NaN     NaN   \n",
       "3           NaN     NaN     NaN     NaN     NaN     NaN     NaN     NaN   \n",
       "4           NaN     NaN     NaN     NaN     NaN     NaN     NaN     NaN   \n",
       "5           4.0     NaN     NaN     NaN     NaN     NaN     NaN     NaN   \n",
       "...         ...     ...     ...     ...     ...     ...     ...     ...   \n",
       "606         2.5     NaN     NaN     NaN     NaN     2.5     NaN     2.5   \n",
       "607         4.0     NaN     NaN     NaN     NaN     NaN     NaN     3.0   \n",
       "608         2.5     2.0     2.0     NaN     NaN     NaN     4.0     NaN   \n",
       "609         3.0     NaN     NaN     NaN     NaN     NaN     4.0     NaN   \n",
       "610         5.0     NaN     NaN     NaN     5.0     NaN     NaN     NaN   \n",
       "\n",
       "movieId  16      17      ...  122920  122922  134130  134853  139385  148626  \\\n",
       "userId                   ...                                                   \n",
       "1           NaN     NaN  ...     NaN     NaN     NaN     NaN     NaN     NaN   \n",
       "2           NaN     NaN  ...     NaN     NaN     NaN     NaN     NaN     NaN   \n",
       "3           NaN     NaN  ...     NaN     NaN     NaN     NaN     NaN     NaN   \n",
       "4           NaN     NaN  ...     NaN     NaN     NaN     NaN     NaN     NaN   \n",
       "5           NaN     NaN  ...     NaN     NaN     NaN     NaN     NaN     NaN   \n",
       "...         ...     ...  ...     ...     ...     ...     ...     ...     ...   \n",
       "606         NaN     4.0  ...     NaN     NaN     NaN     NaN     NaN     NaN   \n",
       "607         NaN     NaN  ...     NaN     NaN     NaN     NaN     NaN     NaN   \n",
       "608         4.5     NaN  ...     NaN     NaN     NaN     NaN     NaN     NaN   \n",
       "609         NaN     NaN  ...     NaN     NaN     NaN     NaN     NaN     NaN   \n",
       "610         4.5     NaN  ...     5.0     3.5     3.5     3.5     4.5     4.0   \n",
       "\n",
       "movieId  152081  164179  166528  168252  \n",
       "userId                                   \n",
       "1           NaN     NaN     NaN     NaN  \n",
       "2           NaN     NaN     NaN     NaN  \n",
       "3           NaN     NaN     NaN     NaN  \n",
       "4           NaN     NaN     NaN     NaN  \n",
       "5           NaN     NaN     NaN     NaN  \n",
       "...         ...     ...     ...     ...  \n",
       "606         NaN     NaN     NaN     NaN  \n",
       "607         NaN     NaN     NaN     NaN  \n",
       "608         NaN     NaN     NaN     NaN  \n",
       "609         NaN     NaN     NaN     NaN  \n",
       "610         4.0     5.0     4.0     5.0  \n",
       "\n",
       "[610 rows x 1299 columns]"
      ]
     },
     "execution_count": 25,
     "metadata": {},
     "output_type": "execute_result"
    }
   ],
   "source": [
    "user_item = pd.pivot_table(df, \n",
    "                           values='rating', \n",
    "                           index='userId', \n",
    "                           columns='movieId'\n",
    ")\n",
    "user_item"
   ]
  },
  {
   "cell_type": "code",
   "execution_count": 26,
   "id": "58d0773a",
   "metadata": {},
   "outputs": [
    {
     "data": {
      "text/plain": [
       "0.9143086106588927"
      ]
     },
     "execution_count": 26,
     "metadata": {},
     "output_type": "execute_result"
    }
   ],
   "source": [
    "# calculate the fraction of missing entries (=sparsity)\n",
    "np.mean(user_item.isna().values)"
   ]
  },
  {
   "cell_type": "markdown",
   "id": "e731b021",
   "metadata": {},
   "source": [
    "### User-item matrix as a sparse matrix"
   ]
  },
  {
   "cell_type": "code",
   "execution_count": 27,
   "id": "0e33f53e",
   "metadata": {},
   "outputs": [],
   "source": [
    "from scipy.sparse import csr_matrix"
   ]
  },
  {
   "cell_type": "code",
   "execution_count": 28,
   "id": "a57dd56c",
   "metadata": {},
   "outputs": [
    {
     "data": {
      "text/plain": [
       "<611x168253 sparse matrix of type '<class 'numpy.float64'>'\n",
       "\twith 67901 stored elements in Compressed Sparse Row format>"
      ]
     },
     "execution_count": 28,
     "metadata": {},
     "output_type": "execute_result"
    }
   ],
   "source": [
    "# Initialize a sparse matrix \n",
    "# (data, (row_ind, col_ind)\n",
    "user_item = csr_matrix((df['rating'], (df['userId'], df['movieId'])))\n",
    "user_item"
   ]
  },
  {
   "cell_type": "code",
   "execution_count": null,
   "id": "89e8befe",
   "metadata": {},
   "outputs": [],
   "source": []
  },
  {
   "cell_type": "code",
   "execution_count": null,
   "id": "c7fce546",
   "metadata": {},
   "outputs": [],
   "source": []
  },
  {
   "cell_type": "code",
   "execution_count": null,
   "id": "a802dbea",
   "metadata": {},
   "outputs": [],
   "source": []
  },
  {
   "cell_type": "code",
   "execution_count": 15,
   "id": "f39ffaee",
   "metadata": {},
   "outputs": [],
   "source": [
    "# collaborative filtering = look at ratings only!\n",
    "\n",
    "def recommend_random(query, ratings, k=10):\n",
    "    \"\"\"\n",
    "    Filters and recommends k random movies for any given input query.\n",
    "    Returns a list of k movie ids    \n",
    "    \"\"\"\n",
    "    # 1. candiate generation\n",
    "    \n",
    "    # filter out movies that the user has allready seen\n",
    "    \n",
    "    \n",
    "    \n",
    "    # 2. \"scoring\"\n",
    "    \n",
    "    # calculate a random sample of movies\n",
    "    \n",
    "    \n",
    "    # 3. \"ranking\"\n",
    "    \n",
    "    # no ranking applied   \n",
    "    "
   ]
  },
  {
   "cell_type": "code",
   "execution_count": 16,
   "id": "eb16c518",
   "metadata": {},
   "outputs": [],
   "source": [
    "def recommend_popular(query, ratings, k=10):\n",
    "    \"\"\"\n",
    "    Filters and recommends the top k movies for any given input query. \n",
    "    Returns a list of k movie ids.\n",
    "    \"\"\"\n",
    "    # 1. candiate generation\n",
    "    \n",
    "    # filter out movies that the user has allready seen\n",
    "    \n",
    "    # filter out movies that have been watched by less than 20/50/100... users\n",
    "    \n",
    "   \n",
    "    # 2. scoring\n",
    "    \n",
    "    # calculate the average rating for each movie\n",
    "    \n",
    "    \n",
    "    # 3. ranking\n",
    "    \n",
    "    # return the top-k highst rated movie ids or titles\n",
    "    \n",
    "    return [364, 372, 43, 34, 243]"
   ]
  },
  {
   "cell_type": "code",
   "execution_count": null,
   "id": "66e076b5",
   "metadata": {},
   "outputs": [],
   "source": [
    "def recommend_popular(query, ratings, k=10):\n",
    "    # create a new dataframe\n",
    "    df_agg = ratings\n",
    "    # add a column for the number of people who reviewed\n",
    "    df_agg['nb_reviews'] = 1\n",
    "    # aggregate columns\n",
    "    df_agg = ratings.groupby(df['title'], as_index=False)['title', 'genres', 'rating', 'nb_reviews'].agg(\n",
    "    {\n",
    "        'title': 'first',\n",
    "        'genres': 'first',\n",
    "        'rating': 'mean',\n",
    "        'nb_reviews': 'sum'})\n",
    "        \n",
    "    # rename the rating columns as it now corresponds to the average\n",
    "    df_agg.rename(columns={'rating': 'average_rating'}, inplace=True)\n",
    "    \n",
    "    # make sure the best rated movies are shown on top\n",
    "    df_agg.sort_values('average_rating', ascending=False, inplace=True)\n",
    "    \n",
    "    # only keep the movies that have been reviewed by 20 people or more\n",
    "    df_agg_over_20 = df_agg[df_agg['nb_reviews'] > 20]\n",
    "    \n",
    "    # store the watched movies indexes in a list\n",
    "    movies_I_rated = list(query.keys())\n",
    "    \n",
    "    final_df = df_agg_over_20[df_agg_over_20.index.isin(movies_I_rated) == False].head(k)\n",
    "    \n",
    "    return df_agg_over_20\n",
    "\n",
    "recommend_popular(query, df, k=20)\n",
    "    "
   ]
  },
  {
   "cell_type": "code",
   "execution_count": 17,
   "id": "6b044312",
   "metadata": {},
   "outputs": [
    {
     "data": {
      "text/plain": [
       "[364, 372, 43, 34, 243]"
      ]
     },
     "execution_count": 17,
     "metadata": {},
     "output_type": "execute_result"
    }
   ],
   "source": [
    "query = {\n",
    "        #movieId: rating\n",
    "        162: 4,\n",
    "        23: 1,\n",
    "        1: 5\n",
    "}\n",
    "\n",
    "recommend_popular(query, ratings)"
   ]
  },
  {
   "cell_type": "code",
   "execution_count": 18,
   "id": "4f819d8b",
   "metadata": {},
   "outputs": [],
   "source": [
    "# recommender.py\n",
    "# from recommender import recommend_popular"
   ]
  },
  {
   "cell_type": "markdown",
   "id": "8f4d83ce",
   "metadata": {},
   "source": [
    "# NMF (Non Negative Matrix Factorization)"
   ]
  },
  {
   "cell_type": "code",
   "execution_count": 1,
   "id": "6e21d97a",
   "metadata": {},
   "outputs": [],
   "source": [
    "import pandas as pd\n",
    "import numpy as np\n",
    "import seaborn as sns\n",
    "import matplotlib.pyplot as plt\n",
    "from scipy.sparse import csr_matrix\n",
    "from sklearn.decomposition import NMF\n",
    "import pickle"
   ]
  },
  {
   "cell_type": "markdown",
   "id": "0b985201",
   "metadata": {},
   "source": [
    "---\n",
    "## 1. Model Development"
   ]
  },
  {
   "cell_type": "markdown",
   "id": "0b57e6e5",
   "metadata": {},
   "source": [
    "### Preprocessing\n",
    "\n",
    "- filter out movies rated by less than 20/ 50 / 100 ... users\n",
    "- filter out movies with an average rating lower than 2\n",
    "- create a sparse user item matrix"
   ]
  },
  {
   "cell_type": "code",
   "execution_count": 4,
   "id": "ce43479d",
   "metadata": {},
   "outputs": [],
   "source": [
    "ratings = pd.read_csv('ml-latest-small/ratings.csv')\n",
    "movies = pd.read_csv('ml-latest-small/movies.csv')"
   ]
  },
  {
   "cell_type": "code",
   "execution_count": 46,
   "id": "df31f4b7",
   "metadata": {},
   "outputs": [
    {
     "data": {
      "text/plain": [
       "userId\n",
       "414    1070\n",
       "599     926\n",
       "68      852\n",
       "474     724\n",
       "274     700\n",
       "       ... \n",
       "320       9\n",
       "324       9\n",
       "397       9\n",
       "578       8\n",
       "175       4\n",
       "Name: movieId, Length: 610, dtype: int64"
      ]
     },
     "execution_count": 46,
     "metadata": {},
     "output_type": "execute_result"
    }
   ],
   "source": [
    "ratings\n",
    "ratings.groupby('userId')['movieId'].count().sort_values(ascending=False)"
   ]
  },
  {
   "cell_type": "code",
   "execution_count": null,
   "id": "b79b4fe9",
   "metadata": {},
   "outputs": [],
   "source": []
  },
  {
   "cell_type": "code",
   "execution_count": 5,
   "id": "bb26f0cf",
   "metadata": {},
   "outputs": [],
   "source": [
    "# for calculating recommendations\n",
    "query = {\n",
    "    # movieId, rating\n",
    "    12:4, \n",
    "    92:5,\n",
    "    177:4,\n",
    "    196:5,\n",
    "    891:4,\n",
    "    1128:5,\n",
    "    1258:5,\n",
    "    1320:4\n",
    "}\n",
    "\n",
    "\n",
    "# for testing the recommender after getting some recommendations\n",
    "relevant_items = [\n",
    "    1331, 1333, 1347, 1977, \n",
    "    2279, 2389, 2517, 2560, 2644, 2754, \n",
    "    2901, 3294, 3652, 3693   \n",
    "]"
   ]
  },
  {
   "cell_type": "code",
   "execution_count": 6,
   "id": "f8acc830",
   "metadata": {},
   "outputs": [
    {
     "data": {
      "text/html": [
       "<div>\n",
       "<style scoped>\n",
       "    .dataframe tbody tr th:only-of-type {\n",
       "        vertical-align: middle;\n",
       "    }\n",
       "\n",
       "    .dataframe tbody tr th {\n",
       "        vertical-align: top;\n",
       "    }\n",
       "\n",
       "    .dataframe thead th {\n",
       "        text-align: right;\n",
       "    }\n",
       "</style>\n",
       "<table border=\"1\" class=\"dataframe\">\n",
       "  <thead>\n",
       "    <tr style=\"text-align: right;\">\n",
       "      <th></th>\n",
       "      <th>title</th>\n",
       "      <th>genres</th>\n",
       "    </tr>\n",
       "    <tr>\n",
       "      <th>movieId</th>\n",
       "      <th></th>\n",
       "      <th></th>\n",
       "    </tr>\n",
       "  </thead>\n",
       "  <tbody>\n",
       "    <tr>\n",
       "      <th>12</th>\n",
       "      <td>Dracula: Dead and Loving It (1995)</td>\n",
       "      <td>Comedy|Horror</td>\n",
       "    </tr>\n",
       "    <tr>\n",
       "      <th>92</th>\n",
       "      <td>Mary Reilly (1996)</td>\n",
       "      <td>Drama|Horror|Thriller</td>\n",
       "    </tr>\n",
       "    <tr>\n",
       "      <th>177</th>\n",
       "      <td>Lord of Illusions (1995)</td>\n",
       "      <td>Horror</td>\n",
       "    </tr>\n",
       "    <tr>\n",
       "      <th>196</th>\n",
       "      <td>Species (1995)</td>\n",
       "      <td>Horror|Sci-Fi</td>\n",
       "    </tr>\n",
       "    <tr>\n",
       "      <th>891</th>\n",
       "      <td>Halloween: The Curse of Michael Myers (Hallowe...</td>\n",
       "      <td>Horror|Thriller</td>\n",
       "    </tr>\n",
       "    <tr>\n",
       "      <th>1128</th>\n",
       "      <td>Fog, The (1980)</td>\n",
       "      <td>Horror</td>\n",
       "    </tr>\n",
       "    <tr>\n",
       "      <th>1258</th>\n",
       "      <td>Shining, The (1980)</td>\n",
       "      <td>Horror</td>\n",
       "    </tr>\n",
       "    <tr>\n",
       "      <th>1320</th>\n",
       "      <td>Alien³ (a.k.a. Alien 3) (1992)</td>\n",
       "      <td>Action|Horror|Sci-Fi|Thriller</td>\n",
       "    </tr>\n",
       "  </tbody>\n",
       "</table>\n",
       "</div>"
      ],
      "text/plain": [
       "                                                     title  \\\n",
       "movieId                                                      \n",
       "12                      Dracula: Dead and Loving It (1995)   \n",
       "92                                      Mary Reilly (1996)   \n",
       "177                               Lord of Illusions (1995)   \n",
       "196                                         Species (1995)   \n",
       "891      Halloween: The Curse of Michael Myers (Hallowe...   \n",
       "1128                                       Fog, The (1980)   \n",
       "1258                                   Shining, The (1980)   \n",
       "1320                        Alien³ (a.k.a. Alien 3) (1992)   \n",
       "\n",
       "                                genres  \n",
       "movieId                                 \n",
       "12                       Comedy|Horror  \n",
       "92               Drama|Horror|Thriller  \n",
       "177                             Horror  \n",
       "196                      Horror|Sci-Fi  \n",
       "891                    Horror|Thriller  \n",
       "1128                            Horror  \n",
       "1258                            Horror  \n",
       "1320     Action|Horror|Sci-Fi|Thriller  "
      ]
     },
     "execution_count": 6,
     "metadata": {},
     "output_type": "execute_result"
    }
   ],
   "source": [
    "# which movies are in the query?\n",
    "\n",
    "movies.set_index('movieId').loc[query.keys()]"
   ]
  },
  {
   "cell_type": "code",
   "execution_count": 7,
   "id": "53ce1231",
   "metadata": {},
   "outputs": [
    {
     "data": {
      "text/html": [
       "<div>\n",
       "<style scoped>\n",
       "    .dataframe tbody tr th:only-of-type {\n",
       "        vertical-align: middle;\n",
       "    }\n",
       "\n",
       "    .dataframe tbody tr th {\n",
       "        vertical-align: top;\n",
       "    }\n",
       "\n",
       "    .dataframe thead th {\n",
       "        text-align: right;\n",
       "    }\n",
       "</style>\n",
       "<table border=\"1\" class=\"dataframe\">\n",
       "  <thead>\n",
       "    <tr style=\"text-align: right;\">\n",
       "      <th></th>\n",
       "      <th>userId</th>\n",
       "      <th>movieId</th>\n",
       "      <th>rating</th>\n",
       "      <th>timestamp</th>\n",
       "    </tr>\n",
       "  </thead>\n",
       "  <tbody>\n",
       "    <tr>\n",
       "      <th>0</th>\n",
       "      <td>1</td>\n",
       "      <td>1</td>\n",
       "      <td>4.0</td>\n",
       "      <td>964982703</td>\n",
       "    </tr>\n",
       "    <tr>\n",
       "      <th>1</th>\n",
       "      <td>1</td>\n",
       "      <td>3</td>\n",
       "      <td>4.0</td>\n",
       "      <td>964981247</td>\n",
       "    </tr>\n",
       "    <tr>\n",
       "      <th>2</th>\n",
       "      <td>1</td>\n",
       "      <td>6</td>\n",
       "      <td>4.0</td>\n",
       "      <td>964982224</td>\n",
       "    </tr>\n",
       "    <tr>\n",
       "      <th>3</th>\n",
       "      <td>1</td>\n",
       "      <td>47</td>\n",
       "      <td>5.0</td>\n",
       "      <td>964983815</td>\n",
       "    </tr>\n",
       "    <tr>\n",
       "      <th>4</th>\n",
       "      <td>1</td>\n",
       "      <td>50</td>\n",
       "      <td>5.0</td>\n",
       "      <td>964982931</td>\n",
       "    </tr>\n",
       "    <tr>\n",
       "      <th>...</th>\n",
       "      <td>...</td>\n",
       "      <td>...</td>\n",
       "      <td>...</td>\n",
       "      <td>...</td>\n",
       "    </tr>\n",
       "    <tr>\n",
       "      <th>100831</th>\n",
       "      <td>610</td>\n",
       "      <td>166534</td>\n",
       "      <td>4.0</td>\n",
       "      <td>1493848402</td>\n",
       "    </tr>\n",
       "    <tr>\n",
       "      <th>100832</th>\n",
       "      <td>610</td>\n",
       "      <td>168248</td>\n",
       "      <td>5.0</td>\n",
       "      <td>1493850091</td>\n",
       "    </tr>\n",
       "    <tr>\n",
       "      <th>100833</th>\n",
       "      <td>610</td>\n",
       "      <td>168250</td>\n",
       "      <td>5.0</td>\n",
       "      <td>1494273047</td>\n",
       "    </tr>\n",
       "    <tr>\n",
       "      <th>100834</th>\n",
       "      <td>610</td>\n",
       "      <td>168252</td>\n",
       "      <td>5.0</td>\n",
       "      <td>1493846352</td>\n",
       "    </tr>\n",
       "    <tr>\n",
       "      <th>100835</th>\n",
       "      <td>610</td>\n",
       "      <td>170875</td>\n",
       "      <td>3.0</td>\n",
       "      <td>1493846415</td>\n",
       "    </tr>\n",
       "  </tbody>\n",
       "</table>\n",
       "<p>100836 rows × 4 columns</p>\n",
       "</div>"
      ],
      "text/plain": [
       "        userId  movieId  rating   timestamp\n",
       "0            1        1     4.0   964982703\n",
       "1            1        3     4.0   964981247\n",
       "2            1        6     4.0   964982224\n",
       "3            1       47     5.0   964983815\n",
       "4            1       50     5.0   964982931\n",
       "...        ...      ...     ...         ...\n",
       "100831     610   166534     4.0  1493848402\n",
       "100832     610   168248     5.0  1493850091\n",
       "100833     610   168250     5.0  1494273047\n",
       "100834     610   168252     5.0  1493846352\n",
       "100835     610   170875     3.0  1493846415\n",
       "\n",
       "[100836 rows x 4 columns]"
      ]
     },
     "execution_count": 7,
     "metadata": {},
     "output_type": "execute_result"
    }
   ],
   "source": [
    "ratings"
   ]
  },
  {
   "cell_type": "code",
   "execution_count": 8,
   "id": "d836fd52",
   "metadata": {},
   "outputs": [
    {
     "data": {
      "text/plain": [
       "movieId\n",
       "1         215\n",
       "2         110\n",
       "3          52\n",
       "4           7\n",
       "5          49\n",
       "         ... \n",
       "193581      1\n",
       "193583      1\n",
       "193585      1\n",
       "193587      1\n",
       "193609      1\n",
       "Name: userId, Length: 9724, dtype: int64"
      ]
     },
     "execution_count": 8,
     "metadata": {},
     "output_type": "execute_result"
    }
   ],
   "source": [
    "# calculate the number of ratings per movie\n",
    "rating_per_movie = ratings.groupby('movieId')['userId'].count()\n",
    "rating_per_movie"
   ]
  },
  {
   "cell_type": "code",
   "execution_count": 9,
   "id": "50b0cdb1",
   "metadata": {},
   "outputs": [
    {
     "data": {
      "text/plain": [
       "movieId\n",
       "1         215\n",
       "2         110\n",
       "3          52\n",
       "5          49\n",
       "6         102\n",
       "         ... \n",
       "148626     26\n",
       "152081     32\n",
       "164179     26\n",
       "166528     27\n",
       "168252     25\n",
       "Name: userId, Length: 1235, dtype: int64"
      ]
     },
     "execution_count": 9,
     "metadata": {},
     "output_type": "execute_result"
    }
   ],
   "source": [
    "# filter the ratings matrix and only keep the popular movies\n",
    "popular_movies = rating_per_movie.loc[rating_per_movie > 20]\n",
    "popular_movies\n",
    "\n"
   ]
  },
  {
   "cell_type": "code",
   "execution_count": 10,
   "id": "b8b5b1c5",
   "metadata": {},
   "outputs": [
    {
     "data": {
      "text/html": [
       "<div>\n",
       "<style scoped>\n",
       "    .dataframe tbody tr th:only-of-type {\n",
       "        vertical-align: middle;\n",
       "    }\n",
       "\n",
       "    .dataframe tbody tr th {\n",
       "        vertical-align: top;\n",
       "    }\n",
       "\n",
       "    .dataframe thead th {\n",
       "        text-align: right;\n",
       "    }\n",
       "</style>\n",
       "<table border=\"1\" class=\"dataframe\">\n",
       "  <thead>\n",
       "    <tr style=\"text-align: right;\">\n",
       "      <th></th>\n",
       "      <th>movieId</th>\n",
       "      <th>userId</th>\n",
       "      <th>rating</th>\n",
       "      <th>timestamp</th>\n",
       "    </tr>\n",
       "  </thead>\n",
       "  <tbody>\n",
       "    <tr>\n",
       "      <th>0</th>\n",
       "      <td>1</td>\n",
       "      <td>1</td>\n",
       "      <td>4.0</td>\n",
       "      <td>964982703</td>\n",
       "    </tr>\n",
       "    <tr>\n",
       "      <th>1</th>\n",
       "      <td>1</td>\n",
       "      <td>5</td>\n",
       "      <td>4.0</td>\n",
       "      <td>847434962</td>\n",
       "    </tr>\n",
       "    <tr>\n",
       "      <th>2</th>\n",
       "      <td>1</td>\n",
       "      <td>7</td>\n",
       "      <td>4.5</td>\n",
       "      <td>1106635946</td>\n",
       "    </tr>\n",
       "    <tr>\n",
       "      <th>3</th>\n",
       "      <td>1</td>\n",
       "      <td>15</td>\n",
       "      <td>2.5</td>\n",
       "      <td>1510577970</td>\n",
       "    </tr>\n",
       "    <tr>\n",
       "      <th>4</th>\n",
       "      <td>1</td>\n",
       "      <td>17</td>\n",
       "      <td>4.5</td>\n",
       "      <td>1305696483</td>\n",
       "    </tr>\n",
       "    <tr>\n",
       "      <th>...</th>\n",
       "      <td>...</td>\n",
       "      <td>...</td>\n",
       "      <td>...</td>\n",
       "      <td>...</td>\n",
       "    </tr>\n",
       "    <tr>\n",
       "      <th>66653</th>\n",
       "      <td>168252</td>\n",
       "      <td>567</td>\n",
       "      <td>4.0</td>\n",
       "      <td>1525283936</td>\n",
       "    </tr>\n",
       "    <tr>\n",
       "      <th>66654</th>\n",
       "      <td>168252</td>\n",
       "      <td>586</td>\n",
       "      <td>5.0</td>\n",
       "      <td>1529899336</td>\n",
       "    </tr>\n",
       "    <tr>\n",
       "      <th>66655</th>\n",
       "      <td>168252</td>\n",
       "      <td>596</td>\n",
       "      <td>5.0</td>\n",
       "      <td>1535627159</td>\n",
       "    </tr>\n",
       "    <tr>\n",
       "      <th>66656</th>\n",
       "      <td>168252</td>\n",
       "      <td>599</td>\n",
       "      <td>3.5</td>\n",
       "      <td>1498529615</td>\n",
       "    </tr>\n",
       "    <tr>\n",
       "      <th>66657</th>\n",
       "      <td>168252</td>\n",
       "      <td>610</td>\n",
       "      <td>5.0</td>\n",
       "      <td>1493846352</td>\n",
       "    </tr>\n",
       "  </tbody>\n",
       "</table>\n",
       "<p>66658 rows × 4 columns</p>\n",
       "</div>"
      ],
      "text/plain": [
       "       movieId  userId  rating   timestamp\n",
       "0            1       1     4.0   964982703\n",
       "1            1       5     4.0   847434962\n",
       "2            1       7     4.5  1106635946\n",
       "3            1      15     2.5  1510577970\n",
       "4            1      17     4.5  1305696483\n",
       "...        ...     ...     ...         ...\n",
       "66653   168252     567     4.0  1525283936\n",
       "66654   168252     586     5.0  1529899336\n",
       "66655   168252     596     5.0  1535627159\n",
       "66656   168252     599     3.5  1498529615\n",
       "66657   168252     610     5.0  1493846352\n",
       "\n",
       "[66658 rows x 4 columns]"
      ]
     },
     "execution_count": 10,
     "metadata": {},
     "output_type": "execute_result"
    }
   ],
   "source": [
    "#filter the ratings matrix and only keep the popular movies\n",
    "ratings = ratings.set_index('movieId').loc[popular_movies.index]\n",
    "ratings = ratings.reset_index()\n",
    "ratings"
   ]
  },
  {
   "cell_type": "code",
   "execution_count": 11,
   "id": "9a417e90",
   "metadata": {},
   "outputs": [
    {
     "data": {
      "text/plain": [
       "<611x168253 sparse matrix of type '<class 'numpy.float64'>'\n",
       "\twith 66658 stored elements in Compressed Sparse Row format>"
      ]
     },
     "execution_count": 11,
     "metadata": {},
     "output_type": "execute_result"
    }
   ],
   "source": [
    "# Initialize a sparse user-item rating matrix \n",
    "# (data, (row_ind, col_ind)\n",
    "R = csr_matrix((ratings['rating'], (ratings['userId'], ratings['movieId'])))\n",
    "R"
   ]
  },
  {
   "cell_type": "markdown",
   "id": "d82652eb",
   "metadata": {},
   "source": [
    "### **Training**"
   ]
  },
  {
   "cell_type": "code",
   "execution_count": 70,
   "id": "e163e8cf",
   "metadata": {},
   "outputs": [
    {
     "name": "stdout",
     "output_type": "stream",
     "text": [
      "violation: 1.0\n",
      "violation: 0.11613451284031337\n",
      "violation: 0.08053688370206033\n",
      "violation: 0.05326543515970545\n",
      "violation: 0.04043735611856619\n",
      "violation: 0.03313291067865663\n",
      "violation: 0.02814076295497202\n",
      "violation: 0.024794339031466866\n",
      "violation: 0.022376169738739793\n",
      "violation: 0.020136596465642018\n",
      "violation: 0.01762279319926174\n",
      "violation: 0.014786297633888388\n",
      "violation: 0.012565085444402407\n",
      "violation: 0.010819151629662946\n",
      "violation: 0.009425276217797929\n",
      "Converged at iteration 16\n"
     ]
    },
    {
     "data": {
      "text/html": [
       "<style>#sk-container-id-5 {color: black;background-color: white;}#sk-container-id-5 pre{padding: 0;}#sk-container-id-5 div.sk-toggleable {background-color: white;}#sk-container-id-5 label.sk-toggleable__label {cursor: pointer;display: block;width: 100%;margin-bottom: 0;padding: 0.3em;box-sizing: border-box;text-align: center;}#sk-container-id-5 label.sk-toggleable__label-arrow:before {content: \"▸\";float: left;margin-right: 0.25em;color: #696969;}#sk-container-id-5 label.sk-toggleable__label-arrow:hover:before {color: black;}#sk-container-id-5 div.sk-estimator:hover label.sk-toggleable__label-arrow:before {color: black;}#sk-container-id-5 div.sk-toggleable__content {max-height: 0;max-width: 0;overflow: hidden;text-align: left;background-color: #f0f8ff;}#sk-container-id-5 div.sk-toggleable__content pre {margin: 0.2em;color: black;border-radius: 0.25em;background-color: #f0f8ff;}#sk-container-id-5 input.sk-toggleable__control:checked~div.sk-toggleable__content {max-height: 200px;max-width: 100%;overflow: auto;}#sk-container-id-5 input.sk-toggleable__control:checked~label.sk-toggleable__label-arrow:before {content: \"▾\";}#sk-container-id-5 div.sk-estimator input.sk-toggleable__control:checked~label.sk-toggleable__label {background-color: #d4ebff;}#sk-container-id-5 div.sk-label input.sk-toggleable__control:checked~label.sk-toggleable__label {background-color: #d4ebff;}#sk-container-id-5 input.sk-hidden--visually {border: 0;clip: rect(1px 1px 1px 1px);clip: rect(1px, 1px, 1px, 1px);height: 1px;margin: -1px;overflow: hidden;padding: 0;position: absolute;width: 1px;}#sk-container-id-5 div.sk-estimator {font-family: monospace;background-color: #f0f8ff;border: 1px dotted black;border-radius: 0.25em;box-sizing: border-box;margin-bottom: 0.5em;}#sk-container-id-5 div.sk-estimator:hover {background-color: #d4ebff;}#sk-container-id-5 div.sk-parallel-item::after {content: \"\";width: 100%;border-bottom: 1px solid gray;flex-grow: 1;}#sk-container-id-5 div.sk-label:hover label.sk-toggleable__label {background-color: #d4ebff;}#sk-container-id-5 div.sk-serial::before {content: \"\";position: absolute;border-left: 1px solid gray;box-sizing: border-box;top: 0;bottom: 0;left: 50%;z-index: 0;}#sk-container-id-5 div.sk-serial {display: flex;flex-direction: column;align-items: center;background-color: white;padding-right: 0.2em;padding-left: 0.2em;position: relative;}#sk-container-id-5 div.sk-item {position: relative;z-index: 1;}#sk-container-id-5 div.sk-parallel {display: flex;align-items: stretch;justify-content: center;background-color: white;position: relative;}#sk-container-id-5 div.sk-item::before, #sk-container-id-5 div.sk-parallel-item::before {content: \"\";position: absolute;border-left: 1px solid gray;box-sizing: border-box;top: 0;bottom: 0;left: 50%;z-index: -1;}#sk-container-id-5 div.sk-parallel-item {display: flex;flex-direction: column;z-index: 1;position: relative;background-color: white;}#sk-container-id-5 div.sk-parallel-item:first-child::after {align-self: flex-end;width: 50%;}#sk-container-id-5 div.sk-parallel-item:last-child::after {align-self: flex-start;width: 50%;}#sk-container-id-5 div.sk-parallel-item:only-child::after {width: 0;}#sk-container-id-5 div.sk-dashed-wrapped {border: 1px dashed gray;margin: 0 0.4em 0.5em 0.4em;box-sizing: border-box;padding-bottom: 0.4em;background-color: white;}#sk-container-id-5 div.sk-label label {font-family: monospace;font-weight: bold;display: inline-block;line-height: 1.2em;}#sk-container-id-5 div.sk-label-container {text-align: center;}#sk-container-id-5 div.sk-container {/* jupyter's `normalize.less` sets `[hidden] { display: none; }` but bootstrap.min.css set `[hidden] { display: none !important; }` so we also need the `!important` here to be able to override the default hidden behavior on the sphinx rendered scikit-learn.org. See: https://github.com/scikit-learn/scikit-learn/issues/21755 */display: inline-block !important;position: relative;}#sk-container-id-5 div.sk-text-repr-fallback {display: none;}</style><div id=\"sk-container-id-5\" class=\"sk-top-container\"><div class=\"sk-text-repr-fallback\"><pre>NMF(init=&#x27;nndsvd&#x27;, max_iter=10000, n_components=250, tol=0.01, verbose=2)</pre><b>In a Jupyter environment, please rerun this cell to show the HTML representation or trust the notebook. <br />On GitHub, the HTML representation is unable to render, please try loading this page with nbviewer.org.</b></div><div class=\"sk-container\" hidden><div class=\"sk-item\"><div class=\"sk-estimator sk-toggleable\"><input class=\"sk-toggleable__control sk-hidden--visually\" id=\"sk-estimator-id-5\" type=\"checkbox\" checked><label for=\"sk-estimator-id-5\" class=\"sk-toggleable__label sk-toggleable__label-arrow\">NMF</label><div class=\"sk-toggleable__content\"><pre>NMF(init=&#x27;nndsvd&#x27;, max_iter=10000, n_components=250, tol=0.01, verbose=2)</pre></div></div></div></div></div>"
      ],
      "text/plain": [
       "NMF(init='nndsvd', max_iter=10000, n_components=250, tol=0.01, verbose=2)"
      ]
     },
     "execution_count": 70,
     "metadata": {},
     "output_type": "execute_result"
    }
   ],
   "source": [
    "# initialize the unsupervised model\n",
    "# 55 hidden features, F=55\n",
    "model = NMF(n_components=250, init='nndsvd', max_iter=10000, tol=0.01, verbose=2)\n",
    "\n",
    "# fit it to the user-item rating matrix\n",
    "model.fit(R)\n",
    "\n",
    "# initialzed P, Q matrix with random values\n",
    "# iterate and optimize the values stored in P and Q"
   ]
  },
  {
   "cell_type": "markdown",
   "id": "e73d1722",
   "metadata": {},
   "source": [
    "### Model inspection"
   ]
  },
  {
   "cell_type": "code",
   "execution_count": 71,
   "id": "fb327475",
   "metadata": {},
   "outputs": [
    {
     "data": {
      "text/plain": [
       "<611x168253 sparse matrix of type '<class 'numpy.float64'>'\n",
       "\twith 66658 stored elements in Compressed Sparse Row format>"
      ]
     },
     "execution_count": 71,
     "metadata": {},
     "output_type": "execute_result"
    }
   ],
   "source": [
    "R"
   ]
  },
  {
   "cell_type": "markdown",
   "id": "0498562c",
   "metadata": {},
   "source": [
    "#### the hidden features"
   ]
  },
  {
   "cell_type": "code",
   "execution_count": 72,
   "id": "8c68002c",
   "metadata": {},
   "outputs": [
    {
     "data": {
      "text/plain": [
       "(250, 168253)"
      ]
     },
     "execution_count": 72,
     "metadata": {},
     "output_type": "execute_result"
    }
   ],
   "source": [
    "model.components_.shape"
   ]
  },
  {
   "cell_type": "code",
   "execution_count": 73,
   "id": "fb6616b4",
   "metadata": {},
   "outputs": [
    {
     "name": "stdout",
     "output_type": "stream",
     "text": [
      "violation: 1.0\n",
      "violation: 1.2530538669923332\n",
      "violation: 0.35187003646304804\n",
      "violation: 0.14273615707169746\n",
      "violation: 0.0569570533822573\n",
      "violation: 0.02529047746528446\n",
      "violation: 0.012387996037167443\n",
      "violation: 0.006681851008656857\n",
      "Converged at iteration 9\n"
     ]
    },
    {
     "data": {
      "text/plain": [
       "((611, 250), (250, 168253))"
      ]
     },
     "execution_count": 73,
     "metadata": {},
     "output_type": "execute_result"
    }
   ],
   "source": [
    "# user-'genre' matrix [611x55]\n",
    "P=model.transform(R)\n",
    "\n",
    "# movie-'genre' matrix [55x168253]\n",
    "Q=model.components_\n",
    "\n",
    "P.shape, Q.shape"
   ]
  },
  {
   "cell_type": "code",
   "execution_count": 74,
   "id": "18e2d408",
   "metadata": {},
   "outputs": [
    {
     "data": {
      "text/plain": [
       "<1x168253 sparse matrix of type '<class 'numpy.float64'>'\n",
       "\twith 180 stored elements in Compressed Sparse Row format>"
      ]
     },
     "execution_count": 74,
     "metadata": {},
     "output_type": "execute_result"
    }
   ],
   "source": [
    "# user with id 1: sparse format\n",
    "R[1,:]"
   ]
  },
  {
   "cell_type": "code",
   "execution_count": 75,
   "id": "589abeaf",
   "metadata": {},
   "outputs": [
    {
     "data": {
      "text/plain": [
       "array([0.00000000e+00, 0.00000000e+00, 0.00000000e+00, 0.00000000e+00,\n",
       "       0.00000000e+00, 0.00000000e+00, 0.00000000e+00, 0.00000000e+00,\n",
       "       0.00000000e+00, 0.00000000e+00, 0.00000000e+00, 0.00000000e+00,\n",
       "       0.00000000e+00, 0.00000000e+00, 3.32887111e-03, 0.00000000e+00,\n",
       "       0.00000000e+00, 2.73667551e-01, 0.00000000e+00, 0.00000000e+00,\n",
       "       0.00000000e+00, 0.00000000e+00, 0.00000000e+00, 0.00000000e+00,\n",
       "       0.00000000e+00, 0.00000000e+00, 0.00000000e+00, 0.00000000e+00,\n",
       "       0.00000000e+00, 0.00000000e+00, 0.00000000e+00, 0.00000000e+00,\n",
       "       0.00000000e+00, 0.00000000e+00, 0.00000000e+00, 0.00000000e+00,\n",
       "       0.00000000e+00, 0.00000000e+00, 0.00000000e+00, 0.00000000e+00,\n",
       "       0.00000000e+00, 0.00000000e+00, 0.00000000e+00, 0.00000000e+00,\n",
       "       0.00000000e+00, 0.00000000e+00, 0.00000000e+00, 0.00000000e+00,\n",
       "       0.00000000e+00, 0.00000000e+00, 0.00000000e+00, 0.00000000e+00,\n",
       "       0.00000000e+00, 0.00000000e+00, 0.00000000e+00, 0.00000000e+00,\n",
       "       0.00000000e+00, 0.00000000e+00, 0.00000000e+00, 0.00000000e+00,\n",
       "       0.00000000e+00, 0.00000000e+00, 0.00000000e+00, 0.00000000e+00,\n",
       "       0.00000000e+00, 0.00000000e+00, 0.00000000e+00, 0.00000000e+00,\n",
       "       0.00000000e+00, 0.00000000e+00, 0.00000000e+00, 0.00000000e+00,\n",
       "       0.00000000e+00, 0.00000000e+00, 0.00000000e+00, 0.00000000e+00,\n",
       "       0.00000000e+00, 0.00000000e+00, 0.00000000e+00, 0.00000000e+00,\n",
       "       0.00000000e+00, 0.00000000e+00, 0.00000000e+00, 0.00000000e+00,\n",
       "       0.00000000e+00, 0.00000000e+00, 0.00000000e+00, 0.00000000e+00,\n",
       "       0.00000000e+00, 0.00000000e+00, 0.00000000e+00, 0.00000000e+00,\n",
       "       0.00000000e+00, 0.00000000e+00, 0.00000000e+00, 0.00000000e+00,\n",
       "       0.00000000e+00, 0.00000000e+00, 0.00000000e+00, 0.00000000e+00,\n",
       "       0.00000000e+00, 0.00000000e+00, 0.00000000e+00, 0.00000000e+00,\n",
       "       0.00000000e+00, 0.00000000e+00, 0.00000000e+00, 0.00000000e+00,\n",
       "       0.00000000e+00, 0.00000000e+00, 0.00000000e+00, 0.00000000e+00,\n",
       "       0.00000000e+00, 0.00000000e+00, 0.00000000e+00, 0.00000000e+00,\n",
       "       0.00000000e+00, 0.00000000e+00, 0.00000000e+00, 0.00000000e+00,\n",
       "       0.00000000e+00, 0.00000000e+00, 0.00000000e+00, 0.00000000e+00,\n",
       "       0.00000000e+00, 0.00000000e+00, 0.00000000e+00, 0.00000000e+00,\n",
       "       0.00000000e+00, 5.91889324e+00, 0.00000000e+00, 0.00000000e+00,\n",
       "       0.00000000e+00, 0.00000000e+00, 0.00000000e+00, 0.00000000e+00,\n",
       "       0.00000000e+00, 0.00000000e+00, 0.00000000e+00, 0.00000000e+00,\n",
       "       0.00000000e+00, 0.00000000e+00, 0.00000000e+00, 0.00000000e+00,\n",
       "       0.00000000e+00, 0.00000000e+00, 0.00000000e+00, 2.74867424e-01,\n",
       "       0.00000000e+00, 0.00000000e+00, 0.00000000e+00, 0.00000000e+00,\n",
       "       0.00000000e+00, 0.00000000e+00, 0.00000000e+00, 0.00000000e+00,\n",
       "       0.00000000e+00, 0.00000000e+00, 0.00000000e+00, 0.00000000e+00,\n",
       "       1.51979463e-02, 0.00000000e+00, 0.00000000e+00, 0.00000000e+00,\n",
       "       0.00000000e+00, 0.00000000e+00, 0.00000000e+00, 0.00000000e+00,\n",
       "       0.00000000e+00, 0.00000000e+00, 0.00000000e+00, 0.00000000e+00,\n",
       "       0.00000000e+00, 0.00000000e+00, 1.47520047e-01, 0.00000000e+00,\n",
       "       0.00000000e+00, 0.00000000e+00, 0.00000000e+00, 0.00000000e+00,\n",
       "       0.00000000e+00, 0.00000000e+00, 0.00000000e+00, 0.00000000e+00,\n",
       "       0.00000000e+00, 0.00000000e+00, 0.00000000e+00, 0.00000000e+00,\n",
       "       0.00000000e+00, 0.00000000e+00, 0.00000000e+00, 4.26644788e-02,\n",
       "       7.89318900e-02, 0.00000000e+00, 0.00000000e+00, 0.00000000e+00,\n",
       "       0.00000000e+00, 0.00000000e+00, 0.00000000e+00, 0.00000000e+00,\n",
       "       1.07560079e-02, 0.00000000e+00, 0.00000000e+00, 0.00000000e+00,\n",
       "       0.00000000e+00, 0.00000000e+00, 0.00000000e+00, 0.00000000e+00,\n",
       "       0.00000000e+00, 0.00000000e+00, 0.00000000e+00, 0.00000000e+00,\n",
       "       0.00000000e+00, 0.00000000e+00, 3.85637502e-02, 0.00000000e+00,\n",
       "       0.00000000e+00, 0.00000000e+00, 0.00000000e+00, 3.00449114e-02,\n",
       "       0.00000000e+00, 0.00000000e+00, 0.00000000e+00, 0.00000000e+00,\n",
       "       0.00000000e+00, 0.00000000e+00, 0.00000000e+00, 0.00000000e+00,\n",
       "       0.00000000e+00, 0.00000000e+00, 0.00000000e+00, 2.16297436e-01,\n",
       "       0.00000000e+00, 0.00000000e+00, 0.00000000e+00, 0.00000000e+00,\n",
       "       0.00000000e+00, 0.00000000e+00, 0.00000000e+00, 0.00000000e+00,\n",
       "       0.00000000e+00, 0.00000000e+00, 0.00000000e+00, 0.00000000e+00,\n",
       "       0.00000000e+00, 0.00000000e+00, 0.00000000e+00, 0.00000000e+00,\n",
       "       0.00000000e+00, 0.00000000e+00])"
      ]
     },
     "execution_count": 75,
     "metadata": {},
     "output_type": "execute_result"
    }
   ],
   "source": [
    "# user with id 1: dense embedding\n",
    "P[1, :]"
   ]
  },
  {
   "cell_type": "code",
   "execution_count": 76,
   "id": "2b2fedfe",
   "metadata": {},
   "outputs": [
    {
     "data": {
      "text/plain": [
       "array([0.00000000e+00, 0.00000000e+00, 0.00000000e+00, 0.00000000e+00,\n",
       "       0.00000000e+00, 5.86072451e-03, 0.00000000e+00, 6.69790368e-01,\n",
       "       4.52328245e-01, 1.61193990e-01, 0.00000000e+00, 4.05536059e+00,\n",
       "       1.55737956e+00, 1.61497719e+00, 1.62481073e+00, 1.55401198e+00,\n",
       "       2.83253738e+00, 0.00000000e+00, 0.00000000e+00, 1.22841955e+00,\n",
       "       1.77424949e+00, 2.31922563e+00, 8.23286393e+00, 0.00000000e+00,\n",
       "       0.00000000e+00, 1.12310759e+01, 3.85375885e+00, 1.24093282e-01,\n",
       "       0.00000000e+00, 0.00000000e+00, 8.71267403e-01, 0.00000000e+00,\n",
       "       2.75631152e+00, 2.94357317e-01, 3.24474753e+00, 0.00000000e+00,\n",
       "       1.52755935e-06, 2.75228114e+00, 3.81275238e-02, 5.50768061e+00,\n",
       "       0.00000000e+00, 0.00000000e+00, 1.78583484e+00, 0.00000000e+00,\n",
       "       0.00000000e+00, 1.13944507e+00, 0.00000000e+00, 1.81496313e+00,\n",
       "       0.00000000e+00, 9.64776861e-03, 1.27612834e+00, 2.33252837e+00,\n",
       "       0.00000000e+00, 9.01040864e-02, 0.00000000e+00, 0.00000000e+00,\n",
       "       9.29686013e-01, 1.41608889e+00, 1.36002639e+00, 3.78633278e-01,\n",
       "       0.00000000e+00, 5.94579508e-01, 4.32990600e-01, 2.37937763e+00,\n",
       "       9.53131640e-04, 2.46034686e-02, 1.38137711e-02, 0.00000000e+00,\n",
       "       0.00000000e+00, 5.76017362e-01, 0.00000000e+00, 5.74682555e-01,\n",
       "       3.94151446e-01, 1.43344696e+00, 2.64993721e+00, 0.00000000e+00,\n",
       "       0.00000000e+00, 1.22830234e+00, 7.19602284e-01, 0.00000000e+00,\n",
       "       3.35732806e-01, 2.14390584e+00, 3.04836458e-01, 6.21841244e-01,\n",
       "       0.00000000e+00, 2.36308786e+00, 9.22396808e-01, 5.00484387e-01,\n",
       "       0.00000000e+00, 1.90469062e+00, 5.42462153e-01, 8.38897450e-02,\n",
       "       3.80492361e-02, 0.00000000e+00, 3.20387182e-02, 1.15396663e+00,\n",
       "       0.00000000e+00, 9.27234919e-01, 0.00000000e+00, 1.06051755e+00,\n",
       "       1.62858097e+00, 3.82905539e-01, 1.34639280e+00, 7.08114361e-01,\n",
       "       1.06669660e+00, 0.00000000e+00, 0.00000000e+00, 6.57297918e-01,\n",
       "       6.93672257e-01, 2.10725970e-01, 6.95410900e-01, 9.01091269e-01,\n",
       "       0.00000000e+00, 6.71885942e-01, 0.00000000e+00, 0.00000000e+00,\n",
       "       4.05032508e-01, 0.00000000e+00, 0.00000000e+00, 0.00000000e+00,\n",
       "       0.00000000e+00, 7.13945594e-01, 0.00000000e+00, 0.00000000e+00,\n",
       "       6.19532121e-01, 3.14279257e-01, 0.00000000e+00, 3.70501883e-01,\n",
       "       1.40902745e-02, 6.76556515e-01, 0.00000000e+00, 5.30502133e-01,\n",
       "       7.94470083e-01, 9.27357704e-01, 1.20766540e-01, 7.44791950e-01,\n",
       "       0.00000000e+00, 0.00000000e+00, 4.32622258e-01, 0.00000000e+00,\n",
       "       8.36753202e-01, 5.85543732e-01, 0.00000000e+00, 0.00000000e+00,\n",
       "       0.00000000e+00, 0.00000000e+00, 0.00000000e+00, 0.00000000e+00,\n",
       "       0.00000000e+00, 8.07824710e-01, 5.77860289e-01, 9.69726650e-03,\n",
       "       2.18989276e-01, 7.08662906e-01, 1.33331335e-01, 0.00000000e+00,\n",
       "       8.96604118e-01, 0.00000000e+00, 6.65667498e-01, 2.84258899e-01,\n",
       "       0.00000000e+00, 0.00000000e+00, 9.38073393e-01, 5.86419677e-05,\n",
       "       0.00000000e+00, 0.00000000e+00, 0.00000000e+00, 0.00000000e+00,\n",
       "       0.00000000e+00, 1.00067463e+00, 4.78681901e-01, 0.00000000e+00,\n",
       "       2.87746004e-01, 0.00000000e+00, 0.00000000e+00, 3.74315975e-01,\n",
       "       0.00000000e+00, 5.88332828e-01, 9.08185285e-01, 1.90146845e+00,\n",
       "       1.13953295e+00, 1.19464458e-01, 1.06264164e-01, 0.00000000e+00,\n",
       "       0.00000000e+00, 8.27553745e-01, 0.00000000e+00, 0.00000000e+00,\n",
       "       0.00000000e+00, 9.96096728e-01, 0.00000000e+00, 0.00000000e+00,\n",
       "       0.00000000e+00, 0.00000000e+00, 2.47790104e-02, 2.79796590e-02,\n",
       "       5.07091763e-01, 0.00000000e+00, 9.01982055e-02, 5.04325016e-01,\n",
       "       0.00000000e+00, 1.70178898e-02, 0.00000000e+00, 0.00000000e+00,\n",
       "       1.72659908e-03, 0.00000000e+00, 5.58210728e-04, 0.00000000e+00,\n",
       "       4.26932276e-01, 3.63068972e-01, 0.00000000e+00, 0.00000000e+00,\n",
       "       0.00000000e+00, 2.37841055e+00, 0.00000000e+00, 3.33280612e-03,\n",
       "       1.46799550e-02, 1.26413804e+00, 0.00000000e+00, 2.36598731e-01,\n",
       "       6.04336591e-03, 0.00000000e+00, 2.80366782e-02, 8.50280505e-02,\n",
       "       2.45475163e+00, 0.00000000e+00, 6.03338193e-01, 0.00000000e+00,\n",
       "       8.79128104e-01, 1.02048335e-01, 5.46110782e-01, 0.00000000e+00,\n",
       "       1.12883492e-01, 3.19552299e-01, 1.22938949e-01, 1.12801561e-01,\n",
       "       0.00000000e+00, 5.54916791e-01, 2.46773868e-01, 0.00000000e+00,\n",
       "       0.00000000e+00, 0.00000000e+00, 0.00000000e+00, 0.00000000e+00,\n",
       "       1.87477350e-03, 0.00000000e+00, 0.00000000e+00, 0.00000000e+00,\n",
       "       0.00000000e+00, 0.00000000e+00])"
      ]
     },
     "execution_count": 76,
     "metadata": {},
     "output_type": "execute_result"
    }
   ],
   "source": [
    "# dense embedding for movie with id 1\n",
    "Q[:, 1]"
   ]
  },
  {
   "cell_type": "code",
   "execution_count": 77,
   "id": "4064c553",
   "metadata": {},
   "outputs": [
    {
     "data": {
      "text/plain": [
       "array([[0.00000000e+00, 0.00000000e+00, 0.00000000e+00, ...,\n",
       "        0.00000000e+00, 0.00000000e+00, 0.00000000e+00],\n",
       "       [0.00000000e+00, 4.01698316e+00, 2.06582624e-02, ...,\n",
       "        0.00000000e+00, 0.00000000e+00, 2.03514451e-03],\n",
       "       [0.00000000e+00, 7.22389109e-02, 2.59256610e-02, ...,\n",
       "        0.00000000e+00, 0.00000000e+00, 3.12371299e-01],\n",
       "       ...,\n",
       "       [0.00000000e+00, 2.54453090e+00, 1.95458285e+00, ...,\n",
       "        0.00000000e+00, 0.00000000e+00, 3.47216838e-02],\n",
       "       [0.00000000e+00, 1.12186164e+00, 4.09861913e-01, ...,\n",
       "        0.00000000e+00, 0.00000000e+00, 1.08012191e-02],\n",
       "       [0.00000000e+00, 5.02590536e+00, 1.28849697e-01, ...,\n",
       "        0.00000000e+00, 0.00000000e+00, 5.00816277e+00]])"
      ]
     },
     "execution_count": 77,
     "metadata": {},
     "output_type": "execute_result"
    }
   ],
   "source": [
    "# reconstructed matrix Rhat\n",
    "R_hat = P.dot(Q)\n",
    "R_hat"
   ]
  },
  {
   "cell_type": "code",
   "execution_count": 78,
   "id": "25d58bbf",
   "metadata": {},
   "outputs": [
    {
     "name": "stdout",
     "output_type": "stream",
     "text": [
      "violation: 1.0\n",
      "violation: 1.2530538669923332\n",
      "violation: 0.35187003646304804\n",
      "violation: 0.14273615707169746\n",
      "violation: 0.0569570533822573\n",
      "violation: 0.02529047746528446\n",
      "violation: 0.012387996037167443\n",
      "violation: 0.006681851008656857\n",
      "Converged at iteration 9\n"
     ]
    }
   ],
   "source": [
    "# R -> encoding -> P -> decoding -> Rhat (one-liner to get R_hat)\n",
    "R_hat = model.inverse_transform(model.transform(R))"
   ]
  },
  {
   "cell_type": "code",
   "execution_count": 79,
   "id": "1ee2515e",
   "metadata": {},
   "outputs": [
    {
     "data": {
      "text/plain": [
       "array([[0.00000000e+00, 0.00000000e+00, 0.00000000e+00, ...,\n",
       "        0.00000000e+00, 0.00000000e+00, 0.00000000e+00],\n",
       "       [0.00000000e+00, 4.01698316e+00, 2.06582624e-02, ...,\n",
       "        0.00000000e+00, 0.00000000e+00, 2.03514451e-03],\n",
       "       [0.00000000e+00, 7.22389109e-02, 2.59256610e-02, ...,\n",
       "        0.00000000e+00, 0.00000000e+00, 3.12371299e-01],\n",
       "       ...,\n",
       "       [0.00000000e+00, 2.54453090e+00, 1.95458285e+00, ...,\n",
       "        0.00000000e+00, 0.00000000e+00, 3.47216838e-02],\n",
       "       [0.00000000e+00, 1.12186164e+00, 4.09861913e-01, ...,\n",
       "        0.00000000e+00, 0.00000000e+00, 1.08012191e-02],\n",
       "       [0.00000000e+00, 5.02590536e+00, 1.28849697e-01, ...,\n",
       "        0.00000000e+00, 0.00000000e+00, 5.00816277e+00]])"
      ]
     },
     "execution_count": 79,
     "metadata": {},
     "output_type": "execute_result"
    }
   ],
   "source": [
    "R_hat"
   ]
  },
  {
   "cell_type": "code",
   "execution_count": 80,
   "id": "caef06ca",
   "metadata": {},
   "outputs": [
    {
     "data": {
      "text/plain": [
       "((611, 168253), (611, 168253))"
      ]
     },
     "execution_count": 80,
     "metadata": {},
     "output_type": "execute_result"
    }
   ],
   "source": [
    "R.shape, R_hat.shape"
   ]
  },
  {
   "cell_type": "code",
   "execution_count": 81,
   "id": "d11cffb1",
   "metadata": {},
   "outputs": [
    {
     "data": {
      "text/plain": [
       "377.4592355293162"
      ]
     },
     "execution_count": 81,
     "metadata": {},
     "output_type": "execute_result"
    }
   ],
   "source": [
    "# reconstruction error\n",
    "np.sqrt(np.sum(np.square(R - R_hat)))"
   ]
  },
  {
   "cell_type": "code",
   "execution_count": 82,
   "id": "76b9db9e",
   "metadata": {},
   "outputs": [
    {
     "data": {
      "text/plain": [
       "378.5686530991186"
      ]
     },
     "execution_count": 82,
     "metadata": {},
     "output_type": "execute_result"
    }
   ],
   "source": [
    "model.reconstruction_err_"
   ]
  },
  {
   "cell_type": "markdown",
   "id": "856713ac",
   "metadata": {},
   "source": [
    "## 2. Model deployment: Make recommendations for a new user"
   ]
  },
  {
   "cell_type": "markdown",
   "id": "70a25a83",
   "metadata": {},
   "source": [
    "### Save the trained model on your hard drive"
   ]
  },
  {
   "cell_type": "code",
   "execution_count": 83,
   "id": "38b47103",
   "metadata": {},
   "outputs": [],
   "source": [
    "with open('./nmf_recommender.pkl', 'wb') as file:\n",
    "    pickle.dump(model, file)"
   ]
  },
  {
   "cell_type": "code",
   "execution_count": 84,
   "id": "042680a3",
   "metadata": {},
   "outputs": [
    {
     "name": "stdout",
     "output_type": "stream",
     "text": [
      "Project_10_Movie_Recommender.ipynb nmf_recommender.pkl\r\n",
      "\u001b[34mml-latest-small\u001b[m\u001b[m\r\n"
     ]
    }
   ],
   "source": [
    "!ls"
   ]
  },
  {
   "cell_type": "markdown",
   "id": "a76ec07b",
   "metadata": {},
   "source": [
    "### Read the model from hard drive"
   ]
  },
  {
   "cell_type": "code",
   "execution_count": 85,
   "id": "71e7e1dd",
   "metadata": {},
   "outputs": [],
   "source": [
    "with open('./nmf_recommender.pkl', 'rb') as file:\n",
    "    model = pickle.load(file)"
   ]
  },
  {
   "cell_type": "code",
   "execution_count": 86,
   "id": "08ce1093",
   "metadata": {},
   "outputs": [
    {
     "data": {
      "text/plain": [
       "378.5686530991186"
      ]
     },
     "execution_count": 86,
     "metadata": {},
     "output_type": "execute_result"
    }
   ],
   "source": [
    "model.reconstruction_err_"
   ]
  },
  {
   "cell_type": "markdown",
   "id": "e982821d",
   "metadata": {},
   "source": [
    "### Receive a user query"
   ]
  },
  {
   "cell_type": "code",
   "execution_count": 87,
   "id": "ffa1532a",
   "metadata": {},
   "outputs": [
    {
     "data": {
      "text/plain": [
       "{12: 4, 92: 5, 177: 4, 196: 5, 891: 4, 1128: 5, 1258: 5, 1320: 4}"
      ]
     },
     "execution_count": 87,
     "metadata": {},
     "output_type": "execute_result"
    }
   ],
   "source": [
    "query"
   ]
  },
  {
   "cell_type": "code",
   "execution_count": 88,
   "id": "0c988a5a",
   "metadata": {},
   "outputs": [
    {
     "data": {
      "text/plain": [
       "<1x168253 sparse matrix of type '<class 'numpy.float64'>'\n",
       "\twith 180 stored elements in Compressed Sparse Row format>"
      ]
     },
     "execution_count": 88,
     "metadata": {},
     "output_type": "execute_result"
    }
   ],
   "source": [
    "R[1,:]"
   ]
  },
  {
   "cell_type": "markdown",
   "id": "758d23d8",
   "metadata": {},
   "source": [
    "### Construct a user vector\n",
    "\n",
    "we need the same input as was used during training!"
   ]
  },
  {
   "cell_type": "code",
   "execution_count": 89,
   "id": "3abfe263",
   "metadata": {},
   "outputs": [
    {
     "data": {
      "text/plain": [
       "[4, 5, 4, 5, 4, 5, 5, 4]"
      ]
     },
     "execution_count": 89,
     "metadata": {},
     "output_type": "execute_result"
    }
   ],
   "source": [
    "list(query.values())"
   ]
  },
  {
   "cell_type": "code",
   "execution_count": 90,
   "id": "abc0c78c",
   "metadata": {},
   "outputs": [
    {
     "data": {
      "text/plain": [
       "([4, 5, 4, 5, 4, 5, 5, 4],\n",
       " [0, 0, 0, 0, 0, 0, 0, 0],\n",
       " [12, 92, 177, 196, 891, 1128, 1258, 1320])"
      ]
     },
     "execution_count": 90,
     "metadata": {},
     "output_type": "execute_result"
    }
   ],
   "source": [
    "data = list(query.values())   # the ratings of the new user\n",
    "row_ind = [0]*len(data)       # we use just a single row 0 for this user \n",
    "col_ind = list(query.keys())  # the columns (=movieId) of the ratings\n",
    "data, row_ind, col_ind"
   ]
  },
  {
   "cell_type": "code",
   "execution_count": 91,
   "id": "f957fb2b",
   "metadata": {},
   "outputs": [
    {
     "data": {
      "text/plain": [
       "<1x168253 sparse matrix of type '<class 'numpy.int64'>'\n",
       "\twith 8 stored elements in Compressed Sparse Row format>"
      ]
     },
     "execution_count": 91,
     "metadata": {},
     "output_type": "execute_result"
    }
   ],
   "source": [
    "# new user vector: needs to have the same format as the training data\n",
    "\n",
    "user_vec = csr_matrix((data, (row_ind, col_ind)), shape=(1, R.shape[1]))\n",
    "user_vec"
   ]
  },
  {
   "cell_type": "code",
   "execution_count": 92,
   "id": "7fe9a48c",
   "metadata": {},
   "outputs": [
    {
     "data": {
      "text/plain": [
       "<611x168253 sparse matrix of type '<class 'numpy.float64'>'\n",
       "\twith 66658 stored elements in Compressed Sparse Row format>"
      ]
     },
     "execution_count": 92,
     "metadata": {},
     "output_type": "execute_result"
    }
   ],
   "source": [
    "R"
   ]
  },
  {
   "cell_type": "markdown",
   "id": "6941e393",
   "metadata": {},
   "source": [
    "### Calculate the score\n",
    "\n",
    "1. transform the user vector to its dense representation (encoding) \n",
    "2. inverse transform the dense vector into the sparse representation (decoding)\n",
    "\n",
    "$$\n",
    "\\hat{r}_{ij} = p_i' \\cdot q_j \n",
    "$$"
   ]
  },
  {
   "cell_type": "code",
   "execution_count": 93,
   "id": "a0337ebe",
   "metadata": {},
   "outputs": [
    {
     "name": "stdout",
     "output_type": "stream",
     "text": [
      "violation: 1.0\n",
      "violation: 1.8275764969325887\n",
      "violation: 0.13327891106847606\n",
      "violation: 0.031992128098199464\n",
      "violation: 0.014482782766025762\n",
      "violation: 0.009048532645141915\n",
      "Converged at iteration 7\n"
     ]
    },
    {
     "data": {
      "text/plain": [
       "0         0.000000\n",
       "1         0.049521\n",
       "2         0.148514\n",
       "3         0.033792\n",
       "4         0.000000\n",
       "            ...   \n",
       "168248    0.000000\n",
       "168249    0.000000\n",
       "168250    0.000000\n",
       "168251    0.000000\n",
       "168252    0.000006\n",
       "Length: 168253, dtype: float64"
      ]
     },
     "execution_count": 93,
     "metadata": {},
     "output_type": "execute_result"
    }
   ],
   "source": [
    "# user_vec -> encoding -> p_user_vec -> decoding -> user_vec_hat\n",
    "\n",
    "\n",
    "scores = model.inverse_transform(model.transform(user_vec))\n",
    "\n",
    "# convert to a pandas series\n",
    "scores = pd.Series(scores[0])\n",
    "scores"
   ]
  },
  {
   "cell_type": "markdown",
   "id": "8a534acf",
   "metadata": {},
   "source": [
    "### Give recommendations"
   ]
  },
  {
   "cell_type": "code",
   "execution_count": 94,
   "id": "5f83b32f",
   "metadata": {},
   "outputs": [
    {
     "data": {
      "text/plain": [
       "dict_keys([12, 92, 177, 196, 891, 1128, 1258, 1320])"
      ]
     },
     "execution_count": 94,
     "metadata": {},
     "output_type": "execute_result"
    }
   ],
   "source": [
    "query.keys()"
   ]
  },
  {
   "cell_type": "code",
   "execution_count": 95,
   "id": "70c213f3",
   "metadata": {},
   "outputs": [],
   "source": [
    "# give a zero score to movies the user has allready seen\n",
    "scores[query.keys()] = 0"
   ]
  },
  {
   "cell_type": "code",
   "execution_count": 96,
   "id": "71c4a035",
   "metadata": {},
   "outputs": [
    {
     "data": {
      "text/plain": [
       "924      0.480519\n",
       "1199     0.470290\n",
       "1206     0.456220\n",
       "541      0.427109\n",
       "741      0.314480\n",
       "           ...   \n",
       "56753    0.000000\n",
       "56754    0.000000\n",
       "56755    0.000000\n",
       "56756    0.000000\n",
       "84126    0.000000\n",
       "Length: 168253, dtype: float64"
      ]
     },
     "execution_count": 96,
     "metadata": {},
     "output_type": "execute_result"
    }
   ],
   "source": [
    "# sort the scores from high to low \n",
    "scores = scores.sort_values(ascending=False)\n",
    "scores"
   ]
  },
  {
   "cell_type": "code",
   "execution_count": 97,
   "id": "f792a0e9",
   "metadata": {},
   "outputs": [
    {
     "data": {
      "text/plain": [
       "Int64Index([924, 1199, 1206, 541, 741, 4226, 1274, 750, 47, 3000], dtype='int64')"
      ]
     },
     "execution_count": 97,
     "metadata": {},
     "output_type": "execute_result"
    }
   ],
   "source": [
    "# get the movieIds of the top 10 entries\n",
    "recommendations = scores.head(10).index\n",
    "recommendations"
   ]
  },
  {
   "cell_type": "code",
   "execution_count": 98,
   "id": "1ee0e6b8",
   "metadata": {},
   "outputs": [
    {
     "data": {
      "text/html": [
       "<div>\n",
       "<style scoped>\n",
       "    .dataframe tbody tr th:only-of-type {\n",
       "        vertical-align: middle;\n",
       "    }\n",
       "\n",
       "    .dataframe tbody tr th {\n",
       "        vertical-align: top;\n",
       "    }\n",
       "\n",
       "    .dataframe thead th {\n",
       "        text-align: right;\n",
       "    }\n",
       "</style>\n",
       "<table border=\"1\" class=\"dataframe\">\n",
       "  <thead>\n",
       "    <tr style=\"text-align: right;\">\n",
       "      <th></th>\n",
       "      <th>title</th>\n",
       "      <th>genres</th>\n",
       "    </tr>\n",
       "  </thead>\n",
       "  <tbody>\n",
       "    <tr>\n",
       "      <th>924</th>\n",
       "      <td>2001: A Space Odyssey (1968)</td>\n",
       "      <td>Adventure|Drama|Sci-Fi</td>\n",
       "    </tr>\n",
       "    <tr>\n",
       "      <th>1199</th>\n",
       "      <td>Brazil (1985)</td>\n",
       "      <td>Fantasy|Sci-Fi</td>\n",
       "    </tr>\n",
       "    <tr>\n",
       "      <th>1206</th>\n",
       "      <td>Clockwork Orange, A (1971)</td>\n",
       "      <td>Crime|Drama|Sci-Fi|Thriller</td>\n",
       "    </tr>\n",
       "    <tr>\n",
       "      <th>541</th>\n",
       "      <td>Blade Runner (1982)</td>\n",
       "      <td>Action|Sci-Fi|Thriller</td>\n",
       "    </tr>\n",
       "    <tr>\n",
       "      <th>741</th>\n",
       "      <td>Ghost in the Shell (Kôkaku kidôtai) (1995)</td>\n",
       "      <td>Animation|Sci-Fi</td>\n",
       "    </tr>\n",
       "    <tr>\n",
       "      <th>4226</th>\n",
       "      <td>Memento (2000)</td>\n",
       "      <td>Mystery|Thriller</td>\n",
       "    </tr>\n",
       "    <tr>\n",
       "      <th>1274</th>\n",
       "      <td>Akira (1988)</td>\n",
       "      <td>Action|Adventure|Animation|Sci-Fi</td>\n",
       "    </tr>\n",
       "    <tr>\n",
       "      <th>750</th>\n",
       "      <td>Dr. Strangelove or: How I Learned to Stop Worr...</td>\n",
       "      <td>Comedy|War</td>\n",
       "    </tr>\n",
       "    <tr>\n",
       "      <th>47</th>\n",
       "      <td>Seven (a.k.a. Se7en) (1995)</td>\n",
       "      <td>Mystery|Thriller</td>\n",
       "    </tr>\n",
       "    <tr>\n",
       "      <th>3000</th>\n",
       "      <td>Princess Mononoke (Mononoke-hime) (1997)</td>\n",
       "      <td>Action|Adventure|Animation|Drama|Fantasy</td>\n",
       "    </tr>\n",
       "  </tbody>\n",
       "</table>\n",
       "</div>"
      ],
      "text/plain": [
       "                                                  title  \\\n",
       "924                        2001: A Space Odyssey (1968)   \n",
       "1199                                      Brazil (1985)   \n",
       "1206                         Clockwork Orange, A (1971)   \n",
       "541                                 Blade Runner (1982)   \n",
       "741          Ghost in the Shell (Kôkaku kidôtai) (1995)   \n",
       "4226                                     Memento (2000)   \n",
       "1274                                       Akira (1988)   \n",
       "750   Dr. Strangelove or: How I Learned to Stop Worr...   \n",
       "47                          Seven (a.k.a. Se7en) (1995)   \n",
       "3000           Princess Mononoke (Mononoke-hime) (1997)   \n",
       "\n",
       "                                        genres  \n",
       "924                     Adventure|Drama|Sci-Fi  \n",
       "1199                            Fantasy|Sci-Fi  \n",
       "1206               Crime|Drama|Sci-Fi|Thriller  \n",
       "541                     Action|Sci-Fi|Thriller  \n",
       "741                           Animation|Sci-Fi  \n",
       "4226                          Mystery|Thriller  \n",
       "1274         Action|Adventure|Animation|Sci-Fi  \n",
       "750                                 Comedy|War  \n",
       "47                            Mystery|Thriller  \n",
       "3000  Action|Adventure|Animation|Drama|Fantasy  "
      ]
     },
     "execution_count": 98,
     "metadata": {},
     "output_type": "execute_result"
    }
   ],
   "source": [
    "movies.set_index('movieId').loc[recommendations]"
   ]
  },
  {
   "cell_type": "code",
   "execution_count": null,
   "id": "49adc8ba",
   "metadata": {},
   "outputs": [],
   "source": []
  },
  {
   "cell_type": "code",
   "execution_count": 99,
   "id": "ff633daa",
   "metadata": {},
   "outputs": [
    {
     "data": {
      "text/html": [
       "<div>\n",
       "<style scoped>\n",
       "    .dataframe tbody tr th:only-of-type {\n",
       "        vertical-align: middle;\n",
       "    }\n",
       "\n",
       "    .dataframe tbody tr th {\n",
       "        vertical-align: top;\n",
       "    }\n",
       "\n",
       "    .dataframe thead th {\n",
       "        text-align: right;\n",
       "    }\n",
       "</style>\n",
       "<table border=\"1\" class=\"dataframe\">\n",
       "  <thead>\n",
       "    <tr style=\"text-align: right;\">\n",
       "      <th></th>\n",
       "      <th>title</th>\n",
       "      <th>genres</th>\n",
       "    </tr>\n",
       "  </thead>\n",
       "  <tbody>\n",
       "    <tr>\n",
       "      <th>924</th>\n",
       "      <td>2001: A Space Odyssey (1968)</td>\n",
       "      <td>Adventure|Drama|Sci-Fi</td>\n",
       "    </tr>\n",
       "    <tr>\n",
       "      <th>1199</th>\n",
       "      <td>Brazil (1985)</td>\n",
       "      <td>Fantasy|Sci-Fi</td>\n",
       "    </tr>\n",
       "    <tr>\n",
       "      <th>1206</th>\n",
       "      <td>Clockwork Orange, A (1971)</td>\n",
       "      <td>Crime|Drama|Sci-Fi|Thriller</td>\n",
       "    </tr>\n",
       "    <tr>\n",
       "      <th>541</th>\n",
       "      <td>Blade Runner (1982)</td>\n",
       "      <td>Action|Sci-Fi|Thriller</td>\n",
       "    </tr>\n",
       "    <tr>\n",
       "      <th>741</th>\n",
       "      <td>Ghost in the Shell (Kôkaku kidôtai) (1995)</td>\n",
       "      <td>Animation|Sci-Fi</td>\n",
       "    </tr>\n",
       "    <tr>\n",
       "      <th>4226</th>\n",
       "      <td>Memento (2000)</td>\n",
       "      <td>Mystery|Thriller</td>\n",
       "    </tr>\n",
       "    <tr>\n",
       "      <th>1274</th>\n",
       "      <td>Akira (1988)</td>\n",
       "      <td>Action|Adventure|Animation|Sci-Fi</td>\n",
       "    </tr>\n",
       "    <tr>\n",
       "      <th>750</th>\n",
       "      <td>Dr. Strangelove or: How I Learned to Stop Worr...</td>\n",
       "      <td>Comedy|War</td>\n",
       "    </tr>\n",
       "    <tr>\n",
       "      <th>47</th>\n",
       "      <td>Seven (a.k.a. Se7en) (1995)</td>\n",
       "      <td>Mystery|Thriller</td>\n",
       "    </tr>\n",
       "    <tr>\n",
       "      <th>3000</th>\n",
       "      <td>Princess Mononoke (Mononoke-hime) (1997)</td>\n",
       "      <td>Action|Adventure|Animation|Drama|Fantasy</td>\n",
       "    </tr>\n",
       "  </tbody>\n",
       "</table>\n",
       "</div>"
      ],
      "text/plain": [
       "                                                  title  \\\n",
       "924                        2001: A Space Odyssey (1968)   \n",
       "1199                                      Brazil (1985)   \n",
       "1206                         Clockwork Orange, A (1971)   \n",
       "541                                 Blade Runner (1982)   \n",
       "741          Ghost in the Shell (Kôkaku kidôtai) (1995)   \n",
       "4226                                     Memento (2000)   \n",
       "1274                                       Akira (1988)   \n",
       "750   Dr. Strangelove or: How I Learned to Stop Worr...   \n",
       "47                          Seven (a.k.a. Se7en) (1995)   \n",
       "3000           Princess Mononoke (Mononoke-hime) (1997)   \n",
       "\n",
       "                                        genres  \n",
       "924                     Adventure|Drama|Sci-Fi  \n",
       "1199                            Fantasy|Sci-Fi  \n",
       "1206               Crime|Drama|Sci-Fi|Thriller  \n",
       "541                     Action|Sci-Fi|Thriller  \n",
       "741                           Animation|Sci-Fi  \n",
       "4226                          Mystery|Thriller  \n",
       "1274         Action|Adventure|Animation|Sci-Fi  \n",
       "750                                 Comedy|War  \n",
       "47                            Mystery|Thriller  \n",
       "3000  Action|Adventure|Animation|Drama|Fantasy  "
      ]
     },
     "execution_count": 99,
     "metadata": {},
     "output_type": "execute_result"
    }
   ],
   "source": [
    "# collaborative filtering = look at ratings only!\n",
    "def recommend_nmf(query, model, ratings, k=10):\n",
    "    \"\"\"\n",
    "    Filters and recommends the top k movies for any given input query based on a trained NMF model. \n",
    "    Returns a list of k movie ids.\n",
    "    \"\"\"\n",
    "    # 1. candidate generation\n",
    "    data = list(query.values())   # the ratings of the new user\n",
    "    row_ind = list(query.keys())  # we use just a single row 0 for this user\n",
    "    col_ind = list(query.keys())  # the columns (=movieId) of the ratings\n",
    "    data, row_ind, col_ind\n",
    "    \n",
    "    # construct a user vector\n",
    "    user_vec = csr_matrix((data, (row_ind, col_ind)), shape=(1, R.shape[1]))\n",
    "   \n",
    "    # 2. scoring\n",
    "    \n",
    "    # calculate the score with the NMF model\n",
    "    # user_vec -> encoding -> p_user_vec -> decoding -> user_vec_hat\n",
    "    scores = model.inverse_transform(model.transform(user_vec))\n",
    "    # convert to a pandas series\n",
    "    scores = pd.Series(scores[0])\n",
    "    \n",
    "    # 3. ranking\n",
    "    \n",
    "    # filter out movies allready seen by the user\n",
    "    # give a zero score to movies the user has allready seen\n",
    "    scores[query.keys()] = 0\n",
    "    # return the top-k highst rated movie ids or titles\n",
    "    recommendations = scores.head(10).index\n",
    "    return recommendations\n",
    "movies.set_index('movieId').loc[recommendations]"
   ]
  },
  {
   "cell_type": "markdown",
   "id": "eb059446",
   "metadata": {},
   "source": [
    "# Neighborhood Based Filtering for Recommender Systems"
   ]
  },
  {
   "cell_type": "code",
   "execution_count": 100,
   "id": "317a2562",
   "metadata": {},
   "outputs": [],
   "source": [
    "import pandas as pd\n",
    "import numpy as np\n",
    "import seaborn as sns\n",
    "import matplotlib.pyplot as plt\n",
    "from sklearn.neighbors import NearestNeighbors\n",
    "from sklearn.metrics import pairwise\n",
    "from scipy.sparse import csr_matrix\n",
    "import sklearn\n",
    "import pickle"
   ]
  },
  {
   "cell_type": "markdown",
   "id": "b32c85c9",
   "metadata": {},
   "source": [
    "---\n",
    "## 1. Model Development"
   ]
  },
  {
   "cell_type": "markdown",
   "id": "8bd6c508",
   "metadata": {},
   "source": [
    "### Preprocessing (same as for the NMF model!)\n",
    "\n",
    "- filter out movies rated by less than 20/ 50 / 100 ... users\n",
    "- filter out movies with an average rating lower than 2\n",
    "- create a sparse user item matrix"
   ]
  },
  {
   "cell_type": "code",
   "execution_count": 101,
   "id": "e7f66941",
   "metadata": {},
   "outputs": [
    {
     "data": {
      "text/plain": [
       "(611, 168253)"
      ]
     },
     "execution_count": 101,
     "metadata": {},
     "output_type": "execute_result"
    }
   ],
   "source": [
    "# calculate the number of ratings per movie\n",
    "ratings_per_movie = ratings.groupby('movieId')['userId'].count()\n",
    "\n",
    "# filter for movies with more than 20 ratings and extract the index\n",
    "popular_movies = ratings_per_movie.loc[ratings_per_movie > 20].index\n",
    "\n",
    "# filter the ratings matrix and only keep the popular movies\n",
    "ratings = ratings.loc[ratings['movieId'].isin(popular_movies)]\n",
    "\n",
    "# Initialize a sparse user-item rating matrix\n",
    "# (data, (row_ind, col_ind)\n",
    "R = csr_matrix(\n",
    "    (ratings['rating'], (ratings['userId'], ratings['movieId'])))\n",
    "\n",
    "R.shape"
   ]
  },
  {
   "cell_type": "markdown",
   "id": "fced0433",
   "metadata": {},
   "source": [
    "### Training (new!)\n",
    "\n",
    "- initialize the model: pick a distance metric\n",
    "- fit it to the user item matrix: only stores the data and doesn't do further. all the calculations take place later!"
   ]
  },
  {
   "cell_type": "code",
   "execution_count": 102,
   "id": "13d914a2",
   "metadata": {},
   "outputs": [
    {
     "data": {
      "text/plain": [
       "['cityblock', 'cosine', 'euclidean', 'l1', 'l2', 'manhattan', 'precomputed']"
      ]
     },
     "execution_count": 102,
     "metadata": {},
     "output_type": "execute_result"
    }
   ],
   "source": [
    "# which metrics can we use for sparse matrics?\n",
    "sorted(sklearn.neighbors.VALID_METRICS_SPARSE['brute'])"
   ]
  },
  {
   "cell_type": "code",
   "execution_count": 103,
   "id": "2bb6fc1f",
   "metadata": {},
   "outputs": [
    {
     "data": {
      "text/html": [
       "<style>#sk-container-id-6 {color: black;background-color: white;}#sk-container-id-6 pre{padding: 0;}#sk-container-id-6 div.sk-toggleable {background-color: white;}#sk-container-id-6 label.sk-toggleable__label {cursor: pointer;display: block;width: 100%;margin-bottom: 0;padding: 0.3em;box-sizing: border-box;text-align: center;}#sk-container-id-6 label.sk-toggleable__label-arrow:before {content: \"▸\";float: left;margin-right: 0.25em;color: #696969;}#sk-container-id-6 label.sk-toggleable__label-arrow:hover:before {color: black;}#sk-container-id-6 div.sk-estimator:hover label.sk-toggleable__label-arrow:before {color: black;}#sk-container-id-6 div.sk-toggleable__content {max-height: 0;max-width: 0;overflow: hidden;text-align: left;background-color: #f0f8ff;}#sk-container-id-6 div.sk-toggleable__content pre {margin: 0.2em;color: black;border-radius: 0.25em;background-color: #f0f8ff;}#sk-container-id-6 input.sk-toggleable__control:checked~div.sk-toggleable__content {max-height: 200px;max-width: 100%;overflow: auto;}#sk-container-id-6 input.sk-toggleable__control:checked~label.sk-toggleable__label-arrow:before {content: \"▾\";}#sk-container-id-6 div.sk-estimator input.sk-toggleable__control:checked~label.sk-toggleable__label {background-color: #d4ebff;}#sk-container-id-6 div.sk-label input.sk-toggleable__control:checked~label.sk-toggleable__label {background-color: #d4ebff;}#sk-container-id-6 input.sk-hidden--visually {border: 0;clip: rect(1px 1px 1px 1px);clip: rect(1px, 1px, 1px, 1px);height: 1px;margin: -1px;overflow: hidden;padding: 0;position: absolute;width: 1px;}#sk-container-id-6 div.sk-estimator {font-family: monospace;background-color: #f0f8ff;border: 1px dotted black;border-radius: 0.25em;box-sizing: border-box;margin-bottom: 0.5em;}#sk-container-id-6 div.sk-estimator:hover {background-color: #d4ebff;}#sk-container-id-6 div.sk-parallel-item::after {content: \"\";width: 100%;border-bottom: 1px solid gray;flex-grow: 1;}#sk-container-id-6 div.sk-label:hover label.sk-toggleable__label {background-color: #d4ebff;}#sk-container-id-6 div.sk-serial::before {content: \"\";position: absolute;border-left: 1px solid gray;box-sizing: border-box;top: 0;bottom: 0;left: 50%;z-index: 0;}#sk-container-id-6 div.sk-serial {display: flex;flex-direction: column;align-items: center;background-color: white;padding-right: 0.2em;padding-left: 0.2em;position: relative;}#sk-container-id-6 div.sk-item {position: relative;z-index: 1;}#sk-container-id-6 div.sk-parallel {display: flex;align-items: stretch;justify-content: center;background-color: white;position: relative;}#sk-container-id-6 div.sk-item::before, #sk-container-id-6 div.sk-parallel-item::before {content: \"\";position: absolute;border-left: 1px solid gray;box-sizing: border-box;top: 0;bottom: 0;left: 50%;z-index: -1;}#sk-container-id-6 div.sk-parallel-item {display: flex;flex-direction: column;z-index: 1;position: relative;background-color: white;}#sk-container-id-6 div.sk-parallel-item:first-child::after {align-self: flex-end;width: 50%;}#sk-container-id-6 div.sk-parallel-item:last-child::after {align-self: flex-start;width: 50%;}#sk-container-id-6 div.sk-parallel-item:only-child::after {width: 0;}#sk-container-id-6 div.sk-dashed-wrapped {border: 1px dashed gray;margin: 0 0.4em 0.5em 0.4em;box-sizing: border-box;padding-bottom: 0.4em;background-color: white;}#sk-container-id-6 div.sk-label label {font-family: monospace;font-weight: bold;display: inline-block;line-height: 1.2em;}#sk-container-id-6 div.sk-label-container {text-align: center;}#sk-container-id-6 div.sk-container {/* jupyter's `normalize.less` sets `[hidden] { display: none; }` but bootstrap.min.css set `[hidden] { display: none !important; }` so we also need the `!important` here to be able to override the default hidden behavior on the sphinx rendered scikit-learn.org. See: https://github.com/scikit-learn/scikit-learn/issues/21755 */display: inline-block !important;position: relative;}#sk-container-id-6 div.sk-text-repr-fallback {display: none;}</style><div id=\"sk-container-id-6\" class=\"sk-top-container\"><div class=\"sk-text-repr-fallback\"><pre>NearestNeighbors(metric=&#x27;cosine&#x27;)</pre><b>In a Jupyter environment, please rerun this cell to show the HTML representation or trust the notebook. <br />On GitHub, the HTML representation is unable to render, please try loading this page with nbviewer.org.</b></div><div class=\"sk-container\" hidden><div class=\"sk-item\"><div class=\"sk-estimator sk-toggleable\"><input class=\"sk-toggleable__control sk-hidden--visually\" id=\"sk-estimator-id-6\" type=\"checkbox\" checked><label for=\"sk-estimator-id-6\" class=\"sk-toggleable__label sk-toggleable__label-arrow\">NearestNeighbors</label><div class=\"sk-toggleable__content\"><pre>NearestNeighbors(metric=&#x27;cosine&#x27;)</pre></div></div></div></div></div>"
      ],
      "text/plain": [
       "NearestNeighbors(metric='cosine')"
      ]
     },
     "execution_count": 103,
     "metadata": {},
     "output_type": "execute_result"
    }
   ],
   "source": [
    "# initialize the unsupervised model\n",
    "model = NearestNeighbors(metric='cosine')\n",
    "\n",
    "# fit it to the user-item rating matrix\n",
    "model.fit(R)"
   ]
  },
  {
   "cell_type": "markdown",
   "id": "ac10c408",
   "metadata": {},
   "source": [
    "### Save the trained model on your hard drive"
   ]
  },
  {
   "cell_type": "code",
   "execution_count": 106,
   "id": "13da128e",
   "metadata": {},
   "outputs": [],
   "source": [
    "with open('./distance_recommender.pkl', 'wb') as file:\n",
    "    pickle.dump(model, file)"
   ]
  },
  {
   "cell_type": "markdown",
   "id": "412c1935",
   "metadata": {},
   "source": [
    "---\n",
    "## 2. Model deployment: Make recommendations for a new user"
   ]
  },
  {
   "cell_type": "markdown",
   "id": "8ec5dafd",
   "metadata": {},
   "source": [
    "### Read the model from hard drive"
   ]
  },
  {
   "cell_type": "code",
   "execution_count": 108,
   "id": "76d65a35",
   "metadata": {},
   "outputs": [],
   "source": [
    "with open('./distance_recommender.pkl', 'rb') as file:\n",
    "    model = pickle.load(file)"
   ]
  },
  {
   "cell_type": "markdown",
   "id": "39ce6c22",
   "metadata": {},
   "source": [
    "### Receive a user query"
   ]
  },
  {
   "cell_type": "code",
   "execution_count": 110,
   "id": "79ed6d0c",
   "metadata": {},
   "outputs": [
    {
     "data": {
      "text/plain": [
       "{12: 4, 92: 5, 177: 4, 196: 5, 891: 4, 1128: 5, 1258: 5, 1320: 4}"
      ]
     },
     "execution_count": 110,
     "metadata": {},
     "output_type": "execute_result"
    }
   ],
   "source": [
    "query"
   ]
  },
  {
   "cell_type": "markdown",
   "id": "ad90752b",
   "metadata": {},
   "source": [
    "### Construct a user vector (same as before!)\n",
    "\n",
    "we need the same input as was used during training!"
   ]
  },
  {
   "cell_type": "code",
   "execution_count": 112,
   "id": "efca7435",
   "metadata": {},
   "outputs": [],
   "source": [
    "# new user vector: needs to have the same format as the training data\n",
    "# pre fill it with zeros\n",
    "user_vec = np.repeat(2.5, 168253)\n",
    "\n",
    "# fill in the ratings that arrived from the query\n",
    "user_vec[list(query.keys())] = list(query.values())"
   ]
  },
  {
   "cell_type": "code",
   "execution_count": 114,
   "id": "ec702dae",
   "metadata": {},
   "outputs": [
    {
     "data": {
      "text/plain": [
       "array([4., 5., 4., 5., 4., 5., 5., 4.])"
      ]
     },
     "execution_count": 114,
     "metadata": {},
     "output_type": "execute_result"
    }
   ],
   "source": [
    "user_vec[list(query.keys())]"
   ]
  },
  {
   "cell_type": "markdown",
   "id": "acd222b5",
   "metadata": {},
   "source": [
    "### Calculate the score (new!)\n",
    "\n",
    "1. find the neighborhood of $n$ similar users\n",
    "2. use their ratings to calculate a score"
   ]
  },
  {
   "cell_type": "code",
   "execution_count": 115,
   "id": "2958cbb7",
   "metadata": {},
   "outputs": [],
   "source": [
    "# calculates the distances to all other users in the data!\n",
    "distances, userIds = model.kneighbors([user_vec], n_neighbors=10, return_distance=True)\n",
    "\n",
    "# sklearn returns a list of predictions - extract the first and only value of the list\n",
    "distances = distances[0]\n",
    "userIds = userIds[0]"
   ]
  },
  {
   "cell_type": "code",
   "execution_count": 116,
   "id": "2fcd2384",
   "metadata": {},
   "outputs": [
    {
     "data": {
      "text/plain": [
       "(array([0.92244712, 0.92789635, 0.93143678, 0.93618135, 0.93659358,\n",
       "        0.93804828, 0.94089089, 0.94244787, 0.94296981, 0.94357157]),\n",
       " array([414, 599,  68, 474, 274, 448, 380, 288, 480, 608]))"
      ]
     },
     "execution_count": 116,
     "metadata": {},
     "output_type": "execute_result"
    }
   ],
   "source": [
    "distances, userIds"
   ]
  },
  {
   "cell_type": "code",
   "execution_count": 117,
   "id": "d7b8708d",
   "metadata": {},
   "outputs": [
    {
     "data": {
      "text/html": [
       "<div>\n",
       "<style scoped>\n",
       "    .dataframe tbody tr th:only-of-type {\n",
       "        vertical-align: middle;\n",
       "    }\n",
       "\n",
       "    .dataframe tbody tr th {\n",
       "        vertical-align: top;\n",
       "    }\n",
       "\n",
       "    .dataframe thead th {\n",
       "        text-align: right;\n",
       "    }\n",
       "</style>\n",
       "<table border=\"1\" class=\"dataframe\">\n",
       "  <thead>\n",
       "    <tr style=\"text-align: right;\">\n",
       "      <th></th>\n",
       "      <th>movieId</th>\n",
       "      <th>rating</th>\n",
       "      <th>timestamp</th>\n",
       "    </tr>\n",
       "    <tr>\n",
       "      <th>userId</th>\n",
       "      <th></th>\n",
       "      <th></th>\n",
       "      <th></th>\n",
       "    </tr>\n",
       "  </thead>\n",
       "  <tbody>\n",
       "    <tr>\n",
       "      <th>414</th>\n",
       "      <td>1</td>\n",
       "      <td>4.0</td>\n",
       "      <td>961438127</td>\n",
       "    </tr>\n",
       "    <tr>\n",
       "      <th>414</th>\n",
       "      <td>2</td>\n",
       "      <td>3.0</td>\n",
       "      <td>961594981</td>\n",
       "    </tr>\n",
       "    <tr>\n",
       "      <th>414</th>\n",
       "      <td>3</td>\n",
       "      <td>4.0</td>\n",
       "      <td>961439278</td>\n",
       "    </tr>\n",
       "    <tr>\n",
       "      <th>414</th>\n",
       "      <td>5</td>\n",
       "      <td>2.0</td>\n",
       "      <td>961437647</td>\n",
       "    </tr>\n",
       "    <tr>\n",
       "      <th>414</th>\n",
       "      <td>6</td>\n",
       "      <td>3.0</td>\n",
       "      <td>961515642</td>\n",
       "    </tr>\n",
       "    <tr>\n",
       "      <th>...</th>\n",
       "      <td>...</td>\n",
       "      <td>...</td>\n",
       "      <td>...</td>\n",
       "    </tr>\n",
       "    <tr>\n",
       "      <th>608</th>\n",
       "      <td>51255</td>\n",
       "      <td>4.5</td>\n",
       "      <td>1189563894</td>\n",
       "    </tr>\n",
       "    <tr>\n",
       "      <th>608</th>\n",
       "      <td>51662</td>\n",
       "      <td>5.0</td>\n",
       "      <td>1189563889</td>\n",
       "    </tr>\n",
       "    <tr>\n",
       "      <th>608</th>\n",
       "      <td>51935</td>\n",
       "      <td>4.0</td>\n",
       "      <td>1189563886</td>\n",
       "    </tr>\n",
       "    <tr>\n",
       "      <th>608</th>\n",
       "      <td>53996</td>\n",
       "      <td>5.0</td>\n",
       "      <td>1189380659</td>\n",
       "    </tr>\n",
       "    <tr>\n",
       "      <th>608</th>\n",
       "      <td>54503</td>\n",
       "      <td>4.5</td>\n",
       "      <td>1189368725</td>\n",
       "    </tr>\n",
       "  </tbody>\n",
       "</table>\n",
       "<p>7339 rows × 3 columns</p>\n",
       "</div>"
      ],
      "text/plain": [
       "        movieId  rating   timestamp\n",
       "userId                             \n",
       "414           1     4.0   961438127\n",
       "414           2     3.0   961594981\n",
       "414           3     4.0   961439278\n",
       "414           5     2.0   961437647\n",
       "414           6     3.0   961515642\n",
       "...         ...     ...         ...\n",
       "608       51255     4.5  1189563894\n",
       "608       51662     5.0  1189563889\n",
       "608       51935     4.0  1189563886\n",
       "608       53996     5.0  1189380659\n",
       "608       54503     4.5  1189368725\n",
       "\n",
       "[7339 rows x 3 columns]"
      ]
     },
     "execution_count": 117,
     "metadata": {},
     "output_type": "execute_result"
    }
   ],
   "source": [
    "# only look at ratings for users that are similar!\n",
    "neighborhood = ratings.set_index('userId').loc[userIds]\n",
    "neighborhood"
   ]
  },
  {
   "cell_type": "code",
   "execution_count": 118,
   "id": "9208e305",
   "metadata": {},
   "outputs": [
    {
     "data": {
      "text/plain": [
       "movieId\n",
       "1         37.5\n",
       "2         29.5\n",
       "3         19.0\n",
       "5         10.5\n",
       "6         27.5\n",
       "          ... \n",
       "148626    11.0\n",
       "152081    12.0\n",
       "164179    14.5\n",
       "166528    16.5\n",
       "168252    16.5\n",
       "Name: rating, Length: 1228, dtype: float64"
      ]
     },
     "execution_count": 118,
     "metadata": {},
     "output_type": "execute_result"
    }
   ],
   "source": [
    "# calculate the summed up rating for each movie\n",
    "# summing up introduces a bias for popular movies\n",
    "# averaging introduces bias for movies only seen by few users in the neighboorhood\n",
    "scores = neighborhood.groupby('movieId')['rating'].sum()\n",
    "scores"
   ]
  },
  {
   "cell_type": "markdown",
   "id": "ef7e8cbd",
   "metadata": {},
   "source": [
    "### Give recommendations (same as before!)"
   ]
  },
  {
   "cell_type": "code",
   "execution_count": 119,
   "id": "2a629ee5",
   "metadata": {},
   "outputs": [
    {
     "data": {
      "text/plain": [
       "dict_keys([12, 92, 177, 196, 891, 1128, 1258, 1320])"
      ]
     },
     "execution_count": 119,
     "metadata": {},
     "output_type": "execute_result"
    }
   ],
   "source": [
    "query.keys()"
   ]
  },
  {
   "cell_type": "code",
   "execution_count": 121,
   "id": "5bda5afa",
   "metadata": {},
   "outputs": [],
   "source": [
    "# give a zero score to movies the user has already seen\n",
    "allready_seen = scores.index.isin(query.keys())\n",
    "scores.loc[allready_seen] = 0"
   ]
  },
  {
   "cell_type": "code",
   "execution_count": 122,
   "id": "60b37083",
   "metadata": {},
   "outputs": [
    {
     "data": {
      "text/plain": [
       "movieId\n",
       "1196    48.0\n",
       "1210    45.0\n",
       "296     45.0\n",
       "4226    45.0\n",
       "260     45.0\n",
       "        ... \n",
       "315      2.0\n",
       "186      1.5\n",
       "196      0.0\n",
       "1320     0.0\n",
       "1258     0.0\n",
       "Name: rating, Length: 1228, dtype: float64"
      ]
     },
     "execution_count": 122,
     "metadata": {},
     "output_type": "execute_result"
    }
   ],
   "source": [
    "# sort the scores from high to low \n",
    "scores = scores.sort_values(ascending=False)\n",
    "scores"
   ]
  },
  {
   "cell_type": "code",
   "execution_count": 123,
   "id": "a400a071",
   "metadata": {},
   "outputs": [
    {
     "data": {
      "text/plain": [
       "Int64Index([1196, 1210, 296, 4226, 260, 8636, 1136, 4993, 1291, 2959], dtype='int64', name='movieId')"
      ]
     },
     "execution_count": 123,
     "metadata": {},
     "output_type": "execute_result"
    }
   ],
   "source": [
    "# get the movieIds of the top 10 entries\n",
    "recommendations = scores.head(10).index\n",
    "recommendations"
   ]
  },
  {
   "cell_type": "code",
   "execution_count": 124,
   "id": "9ee47376",
   "metadata": {},
   "outputs": [
    {
     "data": {
      "text/html": [
       "<div>\n",
       "<style scoped>\n",
       "    .dataframe tbody tr th:only-of-type {\n",
       "        vertical-align: middle;\n",
       "    }\n",
       "\n",
       "    .dataframe tbody tr th {\n",
       "        vertical-align: top;\n",
       "    }\n",
       "\n",
       "    .dataframe thead th {\n",
       "        text-align: right;\n",
       "    }\n",
       "</style>\n",
       "<table border=\"1\" class=\"dataframe\">\n",
       "  <thead>\n",
       "    <tr style=\"text-align: right;\">\n",
       "      <th></th>\n",
       "      <th>title</th>\n",
       "      <th>genres</th>\n",
       "    </tr>\n",
       "    <tr>\n",
       "      <th>movieId</th>\n",
       "      <th></th>\n",
       "      <th></th>\n",
       "    </tr>\n",
       "  </thead>\n",
       "  <tbody>\n",
       "    <tr>\n",
       "      <th>1196</th>\n",
       "      <td>Star Wars: Episode V - The Empire Strikes Back...</td>\n",
       "      <td>Action|Adventure|Sci-Fi</td>\n",
       "    </tr>\n",
       "    <tr>\n",
       "      <th>1210</th>\n",
       "      <td>Star Wars: Episode VI - Return of the Jedi (1983)</td>\n",
       "      <td>Action|Adventure|Sci-Fi</td>\n",
       "    </tr>\n",
       "    <tr>\n",
       "      <th>296</th>\n",
       "      <td>Pulp Fiction (1994)</td>\n",
       "      <td>Comedy|Crime|Drama|Thriller</td>\n",
       "    </tr>\n",
       "    <tr>\n",
       "      <th>4226</th>\n",
       "      <td>Memento (2000)</td>\n",
       "      <td>Mystery|Thriller</td>\n",
       "    </tr>\n",
       "    <tr>\n",
       "      <th>260</th>\n",
       "      <td>Star Wars: Episode IV - A New Hope (1977)</td>\n",
       "      <td>Action|Adventure|Sci-Fi</td>\n",
       "    </tr>\n",
       "    <tr>\n",
       "      <th>8636</th>\n",
       "      <td>Spider-Man 2 (2004)</td>\n",
       "      <td>Action|Adventure|Sci-Fi|IMAX</td>\n",
       "    </tr>\n",
       "    <tr>\n",
       "      <th>1136</th>\n",
       "      <td>Monty Python and the Holy Grail (1975)</td>\n",
       "      <td>Adventure|Comedy|Fantasy</td>\n",
       "    </tr>\n",
       "    <tr>\n",
       "      <th>4993</th>\n",
       "      <td>Lord of the Rings: The Fellowship of the Ring,...</td>\n",
       "      <td>Adventure|Fantasy</td>\n",
       "    </tr>\n",
       "    <tr>\n",
       "      <th>1291</th>\n",
       "      <td>Indiana Jones and the Last Crusade (1989)</td>\n",
       "      <td>Action|Adventure</td>\n",
       "    </tr>\n",
       "    <tr>\n",
       "      <th>2959</th>\n",
       "      <td>Fight Club (1999)</td>\n",
       "      <td>Action|Crime|Drama|Thriller</td>\n",
       "    </tr>\n",
       "  </tbody>\n",
       "</table>\n",
       "</div>"
      ],
      "text/plain": [
       "                                                     title  \\\n",
       "movieId                                                      \n",
       "1196     Star Wars: Episode V - The Empire Strikes Back...   \n",
       "1210     Star Wars: Episode VI - Return of the Jedi (1983)   \n",
       "296                                    Pulp Fiction (1994)   \n",
       "4226                                        Memento (2000)   \n",
       "260              Star Wars: Episode IV - A New Hope (1977)   \n",
       "8636                                   Spider-Man 2 (2004)   \n",
       "1136                Monty Python and the Holy Grail (1975)   \n",
       "4993     Lord of the Rings: The Fellowship of the Ring,...   \n",
       "1291             Indiana Jones and the Last Crusade (1989)   \n",
       "2959                                     Fight Club (1999)   \n",
       "\n",
       "                               genres  \n",
       "movieId                                \n",
       "1196          Action|Adventure|Sci-Fi  \n",
       "1210          Action|Adventure|Sci-Fi  \n",
       "296       Comedy|Crime|Drama|Thriller  \n",
       "4226                 Mystery|Thriller  \n",
       "260           Action|Adventure|Sci-Fi  \n",
       "8636     Action|Adventure|Sci-Fi|IMAX  \n",
       "1136         Adventure|Comedy|Fantasy  \n",
       "4993                Adventure|Fantasy  \n",
       "1291                 Action|Adventure  \n",
       "2959      Action|Crime|Drama|Thriller  "
      ]
     },
     "execution_count": 124,
     "metadata": {},
     "output_type": "execute_result"
    }
   ],
   "source": [
    "# let's see the recommendations!\n",
    "movies.set_index('movieId').loc[recommendations]"
   ]
  },
  {
   "cell_type": "code",
   "execution_count": null,
   "id": "a917fd9d",
   "metadata": {},
   "outputs": [],
   "source": [
    "# collaborative filtering = look at ratings only!\n",
    "def recommend_neighborhood(query, model, ratings, k=10):\n",
    "    \"\"\"\n",
    "    Filters and recommends the top k movies for any given input query based on a trained nearest neighbors model. \n",
    "    Returns a list of k movie ids.\n",
    "    \"\"\"\n",
    "    # 1. candiate generation\n",
    "    query = \n",
    "    \n",
    "    # construct a user vector\n",
    "    \n",
    "   \n",
    "    # 2. scoring\n",
    "    \n",
    "    # find n neighbors\n",
    "    \n",
    "    # calculate their average rating\n",
    "    \n",
    "    \n",
    "    # 3. ranking\n",
    "    \n",
    "    # filter out movies allready seen by the user\n",
    "    \n",
    "    # return the top-k highst rated movie ids or titles\n",
    "    \n",
    "    return [364, 372, 43, 34, 243]"
   ]
  }
 ],
 "metadata": {
  "kernelspec": {
   "display_name": "Python 3 (ipykernel)",
   "language": "python",
   "name": "python3"
  },
  "language_info": {
   "codemirror_mode": {
    "name": "ipython",
    "version": 3
   },
   "file_extension": ".py",
   "mimetype": "text/x-python",
   "name": "python",
   "nbconvert_exporter": "python",
   "pygments_lexer": "ipython3",
   "version": "3.9.12"
  }
 },
 "nbformat": 4,
 "nbformat_minor": 5
}
