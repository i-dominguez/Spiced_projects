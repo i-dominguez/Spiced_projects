{
  "cells": [
    {
      "cell_type": "markdown",
      "metadata": {
        "id": "W6XSqAioA-f4"
      },
      "source": [
        "# Import libraries"
      ]
    },
    {
      "cell_type": "code",
      "execution_count": null,
      "metadata": {
        "id": "5So3bgd1A-f7"
      },
      "outputs": [],
      "source": [
        "# data processing libraries\n",
        "import numpy as np\n",
        "import pandas as pd"
      ]
    },
    {
      "cell_type": "code",
      "execution_count": null,
      "metadata": {
        "id": "GRqlMdwhBCdz"
      },
      "outputs": [],
      "source": [
        "# plotting libraries\n",
        "from matplotlib import pyplot as plt\n",
        "%matplotlib inline\n",
        "import seaborn as sns\n"
      ]
    },
    {
      "cell_type": "code",
      "execution_count": null,
      "metadata": {
        "id": "sdewgpJDBChu"
      },
      "outputs": [],
      "source": [
        "import datetime\n",
        "from datetime import datetime as dt"
      ]
    },
    {
      "cell_type": "code",
      "execution_count": null,
      "metadata": {
        "id": "oivrZTb-BCk_"
      },
      "outputs": [],
      "source": [
        "# miscellaneous\n",
        "import warnings\n",
        "warnings.filterwarnings(\"ignore\")\n",
        "\n",
        "from sklearn.preprocessing import normalize"
      ]
    },
    {
      "cell_type": "code",
      "execution_count": null,
      "metadata": {
        "id": "A-TegGZRXUfl"
      },
      "outputs": [],
      "source": [
        "import seaborn as sns"
      ]
    },
    {
      "cell_type": "code",
      "execution_count": null,
      "metadata": {
        "id": "aaIXq8nmp83q"
      },
      "outputs": [],
      "source": [
        "import random"
      ]
    },
    {
      "cell_type": "code",
      "execution_count": null,
      "metadata": {
        "id": "6zccPkKadCru"
      },
      "outputs": [],
      "source": [
        "import itertools"
      ]
    },
    {
      "cell_type": "markdown",
      "metadata": {
        "id": "PJ2gQWRqA-f8"
      },
      "source": [
        "# Data exploration"
      ]
    },
    {
      "cell_type": "markdown",
      "metadata": {
        "id": "y2u1fIICe__1"
      },
      "source": [
        "## import the data"
      ]
    },
    {
      "cell_type": "code",
      "execution_count": null,
      "metadata": {
        "id": "NzdFLYaCA-f8"
      },
      "outputs": [],
      "source": [
        "# Get data\n",
        "\n",
        "days = ['monday', 'tuesday', 'wednesday', 'thursday', 'friday']\n",
        "df = {}\n",
        "for day in days:\n",
        "    file_path = day + '.csv'\n",
        "    df[day] = pd.read_csv(file_path,sep=';')\n"
      ]
    },
    {
      "cell_type": "code",
      "execution_count": null,
      "metadata": {
        "id": "uQBsGXqI8AMm"
      },
      "outputs": [],
      "source": [
        "# format the data\n",
        "# Make unique customer numbers throughout the week\n",
        "\n",
        "df['monday']['customer_no'] = df['monday']['customer_no'] \n",
        "df['tuesday']['customer_no'] = df['tuesday']['customer_no'] + 2000\n",
        "df['wednesday']['customer_no'] = df['wednesday']['customer_no'] + 4000\n",
        "df['thursday']['customer_no'] = df['thursday']['customer_no'] + 6000\n",
        "df['friday']['customer_no'] = df['friday']['customer_no'] + 8000"
      ]
    },
    {
      "cell_type": "code",
      "execution_count": null,
      "metadata": {
        "id": "7hfPtYc-DUfr"
      },
      "outputs": [],
      "source": [
        "#create a dataframe with all the days\n",
        "df_full = pd.concat([df['monday'], df['tuesday'], df['wednesday'], df['thursday'], df['friday']], ignore_index=True, axis=0)"
      ]
    },
    {
      "cell_type": "markdown",
      "metadata": {
        "id": "JadeYvIbeyzE"
      },
      "source": [
        "## Calculate the total number of customers in each section"
      ]
    },
    {
      "cell_type": "code",
      "execution_count": null,
      "metadata": {
        "colab": {
          "base_uri": "https://localhost:8080/"
        },
        "id": "-8Djz0XnE9XA",
        "outputId": "ace9c36b-817b-493e-d2c2-a3de20cbe466"
      },
      "outputs": [
        {
          "data": {
            "text/plain": [
              "checkout    7417\n",
              "fruit       5122\n",
              "dairy       4679\n",
              "drinks      3905\n",
              "spices      3754\n",
              "Name: location, dtype: int64"
            ]
          },
          "execution_count": 32,
          "metadata": {},
          "output_type": "execute_result"
        }
      ],
      "source": [
        "#a table with the the total number of customers that were in each section for all the timestamps\n",
        "df_full['location'].value_counts()"
      ]
    },
    {
      "cell_type": "code",
      "execution_count": null,
      "metadata": {
        "colab": {
          "base_uri": "https://localhost:8080/",
          "height": 333
        },
        "id": "jgJxEIimHB5V",
        "outputId": "9889c9ca-1e85-4786-ca90-467bea575baf"
      },
      "outputs": [
        {
          "data": {
            "text/plain": [
              "(array([4679.,    0., 3754.,    0.,    0., 5122.,    0., 7417.,    0.,\n",
              "        3905.]),\n",
              " array([0. , 0.4, 0.8, 1.2, 1.6, 2. , 2.4, 2.8, 3.2, 3.6, 4. ]),\n",
              " <a list of 10 Patch objects>)"
            ]
          },
          "execution_count": 33,
          "metadata": {},
          "output_type": "execute_result"
        },
        {
          "data": {
            "image/png": "[encoded data removed]",
            "text/plain": [
              "<Figure size 432x288 with 1 Axes>"
            ]
          },
          "metadata": {
            "needs_background": "light"
          },
          "output_type": "display_data"
        }
      ],
      "source": [
        "#a histogram plotting the the total number of customers that were in each section for all the timestamps\n",
        "plt.hist(df_full['location'])"
      ]
    },
    {
      "cell_type": "markdown",
      "metadata": {
        "id": "-U1zbZbleJ7c"
      },
      "source": [
        "## Calculate the total number of customers in each section over time"
      ]
    },
    {
      "cell_type": "code",
      "execution_count": null,
      "metadata": {
        "id": "kWcXMMuzHrwJ"
      },
      "outputs": [],
      "source": [
        "# group by each timestamp\n",
        "ts = df_full.groupby('timestamp')"
      ]
    },
    {
      "cell_type": "code",
      "execution_count": null,
      "metadata": {
        "colab": {
          "base_uri": "https://localhost:8080/",
          "height": 49
        },
        "id": "B8nVmqlIRhMO",
        "outputId": "29662a3b-829d-46fc-a9bd-c062a4294905"
      },
      "outputs": [
        {
          "data": {
            "text/html": [
              "\n",
              "  <div id=\"df-5669c9c0-063f-49da-a6f3-56572cc651c5\">\n",
              "    <div class=\"colab-df-container\">\n",
              "      <div>\n",
              "<style scoped>\n",
              "    .dataframe tbody tr th:only-of-type {\n",
              "        vertical-align: middle;\n",
              "    }\n",
              "\n",
              "    .dataframe tbody tr th {\n",
              "        vertical-align: top;\n",
              "    }\n",
              "\n",
              "    .dataframe thead th {\n",
              "        text-align: right;\n",
              "    }\n",
              "</style>\n",
              "<table border=\"1\" class=\"dataframe\">\n",
              "  <thead>\n",
              "    <tr style=\"text-align: right;\">\n",
              "      <th></th>\n",
              "      <th>timestamp</th>\n",
              "      <th>dairy</th>\n",
              "      <th>spices</th>\n",
              "      <th>fruit</th>\n",
              "      <th>checkout</th>\n",
              "      <th>drinks</th>\n",
              "    </tr>\n",
              "  </thead>\n",
              "  <tbody>\n",
              "  </tbody>\n",
              "</table>\n",
              "</div>\n",
              "      <button class=\"colab-df-convert\" onclick=\"convertToInteractive('df-5669c9c0-063f-49da-a6f3-56572cc651c5')\"\n",
              "              title=\"Convert this dataframe to an interactive table.\"\n",
              "              style=\"display:none;\">\n",
              "        \n",
              "  <svg xmlns=\"http://www.w3.org/2000/svg\" height=\"24px\"viewBox=\"0 0 24 24\"\n",
              "       width=\"24px\">\n",
              "    <path d=\"M0 0h24v24H0V0z\" fill=\"none\"/>\n",
              "    <path d=\"M18.56 5.44l.94 2.06.94-2.06 2.06-.94-2.06-.94-.94-2.06-.94 2.06-2.06.94zm-11 1L8.5 8.5l.94-2.06 2.06-.94-2.06-.94L8.5 2.5l-.94 2.06-2.06.94zm10 10l.94 2.06.94-2.06 2.06-.94-2.06-.94-.94-2.06-.94 2.06-2.06.94z\"/><path d=\"M17.41 7.96l-1.37-1.37c-.4-.4-.92-.59-1.43-.59-.52 0-1.04.2-1.43.59L10.3 9.45l-7.72 7.72c-.78.78-.78 2.05 0 2.83L4 21.41c.39.39.9.59 1.41.59.51 0 1.02-.2 1.41-.59l7.78-7.78 2.81-2.81c.8-.78.8-2.07 0-2.86zM5.41 20L4 18.59l7.72-7.72 1.47 1.35L5.41 20z\"/>\n",
              "  </svg>\n",
              "      </button>\n",
              "      \n",
              "  <style>\n",
              "    .colab-df-container {\n",
              "      display:flex;\n",
              "      flex-wrap:wrap;\n",
              "      gap: 12px;\n",
              "    }\n",
              "\n",
              "    .colab-df-convert {\n",
              "      background-color: #E8F0FE;\n",
              "      border: none;\n",
              "      border-radius: 50%;\n",
              "      cursor: pointer;\n",
              "      display: none;\n",
              "      fill: #1967D2;\n",
              "      height: 32px;\n",
              "      padding: 0 0 0 0;\n",
              "      width: 32px;\n",
              "    }\n",
              "\n",
              "    .colab-df-convert:hover {\n",
              "      background-color: #E2EBFA;\n",
              "      box-shadow: 0px 1px 2px rgba(60, 64, 67, 0.3), 0px 1px 3px 1px rgba(60, 64, 67, 0.15);\n",
              "      fill: #174EA6;\n",
              "    }\n",
              "\n",
              "    [theme=dark] .colab-df-convert {\n",
              "      background-color: #3B4455;\n",
              "      fill: #D2E3FC;\n",
              "    }\n",
              "\n",
              "    [theme=dark] .colab-df-convert:hover {\n",
              "      background-color: #434B5C;\n",
              "      box-shadow: 0px 1px 3px 1px rgba(0, 0, 0, 0.15);\n",
              "      filter: drop-shadow(0px 1px 2px rgba(0, 0, 0, 0.3));\n",
              "      fill: #FFFFFF;\n",
              "    }\n",
              "  </style>\n",
              "\n",
              "      <script>\n",
              "        const buttonEl =\n",
              "          document.querySelector('#df-5669c9c0-063f-49da-a6f3-56572cc651c5 button.colab-df-convert');\n",
              "        buttonEl.style.display =\n",
              "          google.colab.kernel.accessAllowed ? 'block' : 'none';\n",
              "\n",
              "        async function convertToInteractive(key) {\n",
              "          const element = document.querySelector('#df-5669c9c0-063f-49da-a6f3-56572cc651c5');\n",
              "          const dataTable =\n",
              "            await google.colab.kernel.invokeFunction('convertToInteractive',\n",
              "                                                     [key], {});\n",
              "          if (!dataTable) return;\n",
              "\n",
              "          const docLinkHtml = 'Like what you see? Visit the ' +\n",
              "            '<a target=\"_blank\" href=https://colab.research.google.com/notebooks/data_table.ipynb>data table notebook</a>'\n",
              "            + ' to learn more about interactive tables.';\n",
              "          element.innerHTML = '';\n",
              "          dataTable['output_type'] = 'display_data';\n",
              "          await google.colab.output.renderOutput(dataTable, element);\n",
              "          const docLink = document.createElement('div');\n",
              "          docLink.innerHTML = docLinkHtml;\n",
              "          element.appendChild(docLink);\n",
              "        }\n",
              "      </script>\n",
              "    </div>\n",
              "  </div>\n",
              "  "
            ],
            "text/plain": [
              "Empty DataFrame\n",
              "Columns: [timestamp, dairy, spices, fruit, checkout, drinks]\n",
              "Index: []"
            ]
          },
          "execution_count": 35,
          "metadata": {},
          "output_type": "execute_result"
        }
      ],
      "source": [
        "#create a table with a timestamp column and a column for each of the supermaket sections\n",
        "df2 = df_full[0:0]\n",
        "df2 = df2.drop(labels=[\"customer_no\", \"location\"], axis = 1)\n",
        "df2[\"dairy\"]= np.nan\n",
        "df2[\"spices\"]= np.nan\n",
        "df2[\"fruit\"]= np.nan\n",
        "df2[\"checkout\"]= np.nan\n",
        "df2[\"drinks\"]= np.nan\n",
        "\n",
        "df2\n"
      ]
    },
    {
      "cell_type": "code",
      "execution_count": null,
      "metadata": {
        "id": "IphHN8k1LoqM"
      },
      "outputs": [],
      "source": [
        "#fill the dataframe with the data supplied by the company \n",
        "time_unique = df_full['timestamp'].unique()\n",
        "for time in time_unique:\n",
        "  dairy = 0\n",
        "  spices = 0\n",
        "  fruit = 0\n",
        "  checkout = 0\n",
        "  drinks = 0\n",
        "  for el in ts.get_group(time)[\"location\"]:\n",
        "    if el == \"dairy\":\n",
        "      dairy += 1\n",
        "    if el == \"spices\":\n",
        "      spices += 1\n",
        "    if el == \"fruit\":\n",
        "      fruit += 1\n",
        "    if el == \"checkout\":\n",
        "      checkout += 1\n",
        "    if el == \"drinks\":\n",
        "      drinks += 1\n",
        "  df2.loc[len(df2.index)] = [time, dairy, spices, fruit, checkout, drinks]\n",
        "\n",
        "\n",
        "\n",
        "\n"
      ]
    },
    {
      "cell_type": "code",
      "execution_count": null,
      "metadata": {
        "colab": {
          "base_uri": "https://localhost:8080/",
          "height": 419
        },
        "id": "RkNzN77gebea",
        "outputId": "d73fe527-560c-492e-b75a-610239279c85"
      },
      "outputs": [
        {
          "data": {
            "text/html": [
              "\n",
              "  <div id=\"df-fa2e2b70-00f2-4473-b7e2-b9995222e7f5\">\n",
              "    <div class=\"colab-df-container\">\n",
              "      <div>\n",
              "<style scoped>\n",
              "    .dataframe tbody tr th:only-of-type {\n",
              "        vertical-align: middle;\n",
              "    }\n",
              "\n",
              "    .dataframe tbody tr th {\n",
              "        vertical-align: top;\n",
              "    }\n",
              "\n",
              "    .dataframe thead th {\n",
              "        text-align: right;\n",
              "    }\n",
              "</style>\n",
              "<table border=\"1\" class=\"dataframe\">\n",
              "  <thead>\n",
              "    <tr style=\"text-align: right;\">\n",
              "      <th></th>\n",
              "      <th>timestamp</th>\n",
              "      <th>dairy</th>\n",
              "      <th>spices</th>\n",
              "      <th>fruit</th>\n",
              "      <th>checkout</th>\n",
              "      <th>drinks</th>\n",
              "    </tr>\n",
              "  </thead>\n",
              "  <tbody>\n",
              "    <tr>\n",
              "      <th>0</th>\n",
              "      <td>2019-09-02 07:03:00</td>\n",
              "      <td>2.0</td>\n",
              "      <td>0.0</td>\n",
              "      <td>0.0</td>\n",
              "      <td>0.0</td>\n",
              "      <td>0.0</td>\n",
              "    </tr>\n",
              "    <tr>\n",
              "      <th>1</th>\n",
              "      <td>2019-09-02 07:04:00</td>\n",
              "      <td>2.0</td>\n",
              "      <td>3.0</td>\n",
              "      <td>1.0</td>\n",
              "      <td>0.0</td>\n",
              "      <td>0.0</td>\n",
              "    </tr>\n",
              "    <tr>\n",
              "      <th>2</th>\n",
              "      <td>2019-09-02 07:05:00</td>\n",
              "      <td>1.0</td>\n",
              "      <td>0.0</td>\n",
              "      <td>0.0</td>\n",
              "      <td>2.0</td>\n",
              "      <td>1.0</td>\n",
              "    </tr>\n",
              "    <tr>\n",
              "      <th>3</th>\n",
              "      <td>2019-09-02 07:06:00</td>\n",
              "      <td>2.0</td>\n",
              "      <td>1.0</td>\n",
              "      <td>2.0</td>\n",
              "      <td>2.0</td>\n",
              "      <td>1.0</td>\n",
              "    </tr>\n",
              "    <tr>\n",
              "      <th>4</th>\n",
              "      <td>2019-09-02 07:07:00</td>\n",
              "      <td>1.0</td>\n",
              "      <td>1.0</td>\n",
              "      <td>0.0</td>\n",
              "      <td>1.0</td>\n",
              "      <td>1.0</td>\n",
              "    </tr>\n",
              "    <tr>\n",
              "      <th>...</th>\n",
              "      <td>...</td>\n",
              "      <td>...</td>\n",
              "      <td>...</td>\n",
              "      <td>...</td>\n",
              "      <td>...</td>\n",
              "      <td>...</td>\n",
              "    </tr>\n",
              "    <tr>\n",
              "      <th>4358</th>\n",
              "      <td>2019-09-06 21:46:00</td>\n",
              "      <td>0.0</td>\n",
              "      <td>0.0</td>\n",
              "      <td>4.0</td>\n",
              "      <td>0.0</td>\n",
              "      <td>1.0</td>\n",
              "    </tr>\n",
              "    <tr>\n",
              "      <th>4359</th>\n",
              "      <td>2019-09-06 21:47:00</td>\n",
              "      <td>1.0</td>\n",
              "      <td>0.0</td>\n",
              "      <td>1.0</td>\n",
              "      <td>2.0</td>\n",
              "      <td>0.0</td>\n",
              "    </tr>\n",
              "    <tr>\n",
              "      <th>4360</th>\n",
              "      <td>2019-09-06 21:48:00</td>\n",
              "      <td>3.0</td>\n",
              "      <td>0.0</td>\n",
              "      <td>2.0</td>\n",
              "      <td>2.0</td>\n",
              "      <td>0.0</td>\n",
              "    </tr>\n",
              "    <tr>\n",
              "      <th>4361</th>\n",
              "      <td>2019-09-06 21:49:00</td>\n",
              "      <td>2.0</td>\n",
              "      <td>1.0</td>\n",
              "      <td>0.0</td>\n",
              "      <td>0.0</td>\n",
              "      <td>1.0</td>\n",
              "    </tr>\n",
              "    <tr>\n",
              "      <th>4362</th>\n",
              "      <td>2019-09-06 21:50:00</td>\n",
              "      <td>1.0</td>\n",
              "      <td>1.0</td>\n",
              "      <td>1.0</td>\n",
              "      <td>2.0</td>\n",
              "      <td>1.0</td>\n",
              "    </tr>\n",
              "  </tbody>\n",
              "</table>\n",
              "<p>4363 rows × 6 columns</p>\n",
              "</div>\n",
              "      <button class=\"colab-df-convert\" onclick=\"convertToInteractive('df-fa2e2b70-00f2-4473-b7e2-b9995222e7f5')\"\n",
              "              title=\"Convert this dataframe to an interactive table.\"\n",
              "              style=\"display:none;\">\n",
              "        \n",
              "  <svg xmlns=\"http://www.w3.org/2000/svg\" height=\"24px\"viewBox=\"0 0 24 24\"\n",
              "       width=\"24px\">\n",
              "    <path d=\"M0 0h24v24H0V0z\" fill=\"none\"/>\n",
              "    <path d=\"M18.56 5.44l.94 2.06.94-2.06 2.06-.94-2.06-.94-.94-2.06-.94 2.06-2.06.94zm-11 1L8.5 8.5l.94-2.06 2.06-.94-2.06-.94L8.5 2.5l-.94 2.06-2.06.94zm10 10l.94 2.06.94-2.06 2.06-.94-2.06-.94-.94-2.06-.94 2.06-2.06.94z\"/><path d=\"M17.41 7.96l-1.37-1.37c-.4-.4-.92-.59-1.43-.59-.52 0-1.04.2-1.43.59L10.3 9.45l-7.72 7.72c-.78.78-.78 2.05 0 2.83L4 21.41c.39.39.9.59 1.41.59.51 0 1.02-.2 1.41-.59l7.78-7.78 2.81-2.81c.8-.78.8-2.07 0-2.86zM5.41 20L4 18.59l7.72-7.72 1.47 1.35L5.41 20z\"/>\n",
              "  </svg>\n",
              "      </button>\n",
              "      \n",
              "  <style>\n",
              "    .colab-df-container {\n",
              "      display:flex;\n",
              "      flex-wrap:wrap;\n",
              "      gap: 12px;\n",
              "    }\n",
              "\n",
              "    .colab-df-convert {\n",
              "      background-color: #E8F0FE;\n",
              "      border: none;\n",
              "      border-radius: 50%;\n",
              "      cursor: pointer;\n",
              "      display: none;\n",
              "      fill: #1967D2;\n",
              "      height: 32px;\n",
              "      padding: 0 0 0 0;\n",
              "      width: 32px;\n",
              "    }\n",
              "\n",
              "    .colab-df-convert:hover {\n",
              "      background-color: #E2EBFA;\n",
              "      box-shadow: 0px 1px 2px rgba(60, 64, 67, 0.3), 0px 1px 3px 1px rgba(60, 64, 67, 0.15);\n",
              "      fill: #174EA6;\n",
              "    }\n",
              "\n",
              "    [theme=dark] .colab-df-convert {\n",
              "      background-color: #3B4455;\n",
              "      fill: #D2E3FC;\n",
              "    }\n",
              "\n",
              "    [theme=dark] .colab-df-convert:hover {\n",
              "      background-color: #434B5C;\n",
              "      box-shadow: 0px 1px 3px 1px rgba(0, 0, 0, 0.15);\n",
              "      filter: drop-shadow(0px 1px 2px rgba(0, 0, 0, 0.3));\n",
              "      fill: #FFFFFF;\n",
              "    }\n",
              "  </style>\n",
              "\n",
              "      <script>\n",
              "        const buttonEl =\n",
              "          document.querySelector('#df-fa2e2b70-00f2-4473-b7e2-b9995222e7f5 button.colab-df-convert');\n",
              "        buttonEl.style.display =\n",
              "          google.colab.kernel.accessAllowed ? 'block' : 'none';\n",
              "\n",
              "        async function convertToInteractive(key) {\n",
              "          const element = document.querySelector('#df-fa2e2b70-00f2-4473-b7e2-b9995222e7f5');\n",
              "          const dataTable =\n",
              "            await google.colab.kernel.invokeFunction('convertToInteractive',\n",
              "                                                     [key], {});\n",
              "          if (!dataTable) return;\n",
              "\n",
              "          const docLinkHtml = 'Like what you see? Visit the ' +\n",
              "            '<a target=\"_blank\" href=https://colab.research.google.com/notebooks/data_table.ipynb>data table notebook</a>'\n",
              "            + ' to learn more about interactive tables.';\n",
              "          element.innerHTML = '';\n",
              "          dataTable['output_type'] = 'display_data';\n",
              "          await google.colab.output.renderOutput(dataTable, element);\n",
              "          const docLink = document.createElement('div');\n",
              "          docLink.innerHTML = docLinkHtml;\n",
              "          element.appendChild(docLink);\n",
              "        }\n",
              "      </script>\n",
              "    </div>\n",
              "  </div>\n",
              "  "
            ],
            "text/plain": [
              "                timestamp  dairy  spices  fruit  checkout  drinks\n",
              "0     2019-09-02 07:03:00    2.0     0.0    0.0       0.0     0.0\n",
              "1     2019-09-02 07:04:00    2.0     3.0    1.0       0.0     0.0\n",
              "2     2019-09-02 07:05:00    1.0     0.0    0.0       2.0     1.0\n",
              "3     2019-09-02 07:06:00    2.0     1.0    2.0       2.0     1.0\n",
              "4     2019-09-02 07:07:00    1.0     1.0    0.0       1.0     1.0\n",
              "...                   ...    ...     ...    ...       ...     ...\n",
              "4358  2019-09-06 21:46:00    0.0     0.0    4.0       0.0     1.0\n",
              "4359  2019-09-06 21:47:00    1.0     0.0    1.0       2.0     0.0\n",
              "4360  2019-09-06 21:48:00    3.0     0.0    2.0       2.0     0.0\n",
              "4361  2019-09-06 21:49:00    2.0     1.0    0.0       0.0     1.0\n",
              "4362  2019-09-06 21:50:00    1.0     1.0    1.0       2.0     1.0\n",
              "\n",
              "[4363 rows x 6 columns]"
            ]
          },
          "execution_count": 37,
          "metadata": {},
          "output_type": "execute_result"
        }
      ],
      "source": [
        "#for each timestamp the number of customers for each supermarket section are listed in their resepctive columns\n",
        "df2"
      ]
    },
    {
      "cell_type": "code",
      "execution_count": null,
      "metadata": {
        "colab": {
          "base_uri": "https://localhost:8080/",
          "height": 232
        },
        "id": "PEB3vxMlRid5",
        "outputId": "668cabdc-2cee-4f0e-de7b-f35421f00def"
      },
      "outputs": [
        {
          "ename": "KeyError",
          "evalue": "ignored",
          "output_type": "error",
          "traceback": [
            "\u001b[0;31m---------------------------------------------------------------------------\u001b[0m",
            "\u001b[0;31mKeyError\u001b[0m                                  Traceback (most recent call last)",
            "\u001b[0;32m<ipython-input-38-0e36e2ed929e>\u001b[0m in \u001b[0;36m<module>\u001b[0;34m\u001b[0m\n\u001b[1;32m      1\u001b[0m \u001b[0;31m#df_full['time'] = [datetime.datetime.time(d) for d in df_full['timestamp']]\u001b[0m\u001b[0;34m\u001b[0m\u001b[0;34m\u001b[0m\u001b[0;34m\u001b[0m\u001b[0m\n\u001b[1;32m      2\u001b[0m \u001b[0;31m#convert timestamp column to a datetime object and add a time column\u001b[0m\u001b[0;34m\u001b[0m\u001b[0;34m\u001b[0m\u001b[0;34m\u001b[0m\u001b[0m\n\u001b[0;32m----> 3\u001b[0;31m \u001b[0mdf\u001b[0m\u001b[0;34m[\u001b[0m\u001b[0;34m'timestamp'\u001b[0m\u001b[0;34m]\u001b[0m \u001b[0;34m=\u001b[0m \u001b[0mpd\u001b[0m\u001b[0;34m.\u001b[0m\u001b[0mto_datetime\u001b[0m\u001b[0;34m(\u001b[0m\u001b[0mdf\u001b[0m\u001b[0;34m[\u001b[0m\u001b[0;34m'timestamp'\u001b[0m\u001b[0;34m]\u001b[0m\u001b[0;34m)\u001b[0m\u001b[0;34m\u001b[0m\u001b[0;34m\u001b[0m\u001b[0m\n\u001b[0m\u001b[1;32m      4\u001b[0m \u001b[0mdf\u001b[0m\u001b[0;34m[\u001b[0m\u001b[0;34m'time'\u001b[0m\u001b[0;34m]\u001b[0m \u001b[0;34m=\u001b[0m \u001b[0mdf\u001b[0m\u001b[0;34m[\u001b[0m\u001b[0;34m'timestamp'\u001b[0m\u001b[0;34m]\u001b[0m\u001b[0;34m.\u001b[0m\u001b[0mdt\u001b[0m\u001b[0;34m.\u001b[0m\u001b[0mtime\u001b[0m\u001b[0;34m\u001b[0m\u001b[0;34m\u001b[0m\u001b[0m\n\u001b[1;32m      5\u001b[0m \u001b[0mdf\u001b[0m\u001b[0;34m[\u001b[0m\u001b[0;34m\"hour\"\u001b[0m\u001b[0;34m]\u001b[0m \u001b[0;34m=\u001b[0m \u001b[0mdf\u001b[0m\u001b[0;34m[\u001b[0m\u001b[0;34m\"timestamp\"\u001b[0m\u001b[0;34m]\u001b[0m\u001b[0;34m.\u001b[0m\u001b[0mdt\u001b[0m\u001b[0;34m.\u001b[0m\u001b[0mhour\u001b[0m\u001b[0;34m\u001b[0m\u001b[0;34m\u001b[0m\u001b[0m\n",
            "\u001b[0;31mKeyError\u001b[0m: 'timestamp'"
          ]
        }
      ],
      "source": [
        "#df_full['time'] = [datetime.datetime.time(d) for d in df_full['timestamp']]\n",
        "#convert timestamp column to a datetime object and add a time column\n",
        "df['timestamp'] = pd.to_datetime(df['timestamp'])\n",
        "df['time'] = df['timestamp'].dt.time\n",
        "df[\"hour\"] = df[\"timestamp\"].dt.hour\n",
        "\n",
        "#barplot - number of customers in each section over time\n",
        "total_customers_time = pd.DataFrame(df.groupby(['hour','location'])['customer_no'].count())\n",
        "total_customers_time.reset_index(inplace=True)\n",
        "plot = sns.relplot(x='hour', y='customer_no', hue='location', kind='line', data=total_customers_time)\n",
        "plot.fig.set_figwidth(11.7)\n",
        "plot.fig.set_figheight(8.27)\n"
      ]
    },
    {
      "cell_type": "markdown",
      "metadata": {
        "id": "1oIaTdFrfgZE"
      },
      "source": [
        "## Display the number of customers at checkout over time"
      ]
    },
    {
      "cell_type": "code",
      "execution_count": null,
      "metadata": {
        "colab": {
          "base_uri": "https://localhost:8080/",
          "height": 296
        },
        "id": "6V-4WS0EUJ93",
        "outputId": "9251245d-586a-4ac8-de91-153211d45523"
      },
      "outputs": [
        {
          "data": {
            "text/plain": [
              "<matplotlib.axes._subplots.AxesSubplot at 0x7fe6b65baa50>"
            ]
          },
          "execution_count": 39,
          "metadata": {},
          "output_type": "execute_result"
        },
        {
          "data": {
            "image/png": "[encoded data removed]",
            "text/plain": [
              "<Figure size 432x288 with 1 Axes>"
            ]
          },
          "metadata": {
            "needs_background": "light"
          },
          "output_type": "display_data"
        }
      ],
      "source": [
        "#plot the number of customers at the checkout for the first 200 timestamps\n",
        "sns.lineplot(x= df2[\"timestamp\"].head(200), y = df2[\"checkout\"].head(200))"
      ]
    },
    {
      "cell_type": "markdown",
      "metadata": {
        "id": "12IIh0pNQDSY"
      },
      "source": [
        "## Calculate the time each customer spent in the market"
      ]
    },
    {
      "cell_type": "code",
      "execution_count": null,
      "metadata": {
        "colab": {
          "base_uri": "https://localhost:8080/",
          "height": 215
        },
        "id": "7agbZSUwQUJS",
        "outputId": "8fb015e6-eca3-4bd3-ad8a-aff21a0f7c77"
      },
      "outputs": [
        {
          "ename": "AttributeError",
          "evalue": "ignored",
          "output_type": "error",
          "traceback": [
            "\u001b[0;31m---------------------------------------------------------------------------\u001b[0m",
            "\u001b[0;31mAttributeError\u001b[0m                            Traceback (most recent call last)",
            "\u001b[0;32m<ipython-input-42-08b1353994f4>\u001b[0m in \u001b[0;36m<module>\u001b[0;34m\u001b[0m\n\u001b[0;32m----> 1\u001b[0;31m \u001b[0mgrouping\u001b[0m \u001b[0;34m=\u001b[0m \u001b[0mdf\u001b[0m\u001b[0;34m.\u001b[0m\u001b[0mgroupby\u001b[0m\u001b[0;34m(\u001b[0m\u001b[0;34m'customer_no'\u001b[0m\u001b[0;34m)\u001b[0m\u001b[0;34m[\u001b[0m\u001b[0;34m'timestamp'\u001b[0m\u001b[0;34m]\u001b[0m\u001b[0;34m\u001b[0m\u001b[0;34m\u001b[0m\u001b[0m\n\u001b[0m\u001b[1;32m      2\u001b[0m \u001b[0;34m\u001b[0m\u001b[0m\n\u001b[1;32m      3\u001b[0m \u001b[0mcustomer_time\u001b[0m \u001b[0;34m=\u001b[0m \u001b[0mgrouping\u001b[0m\u001b[0;34m.\u001b[0m\u001b[0mapply\u001b[0m\u001b[0;34m(\u001b[0m\u001b[0;32mlambda\u001b[0m \u001b[0mx\u001b[0m\u001b[0;34m:\u001b[0m \u001b[0mint\u001b[0m\u001b[0;34m(\u001b[0m\u001b[0;34m(\u001b[0m\u001b[0mx\u001b[0m\u001b[0;34m.\u001b[0m\u001b[0mmax\u001b[0m\u001b[0;34m(\u001b[0m\u001b[0;34m)\u001b[0m\u001b[0;34m-\u001b[0m\u001b[0mx\u001b[0m\u001b[0;34m.\u001b[0m\u001b[0mmin\u001b[0m\u001b[0;34m(\u001b[0m\u001b[0;34m)\u001b[0m\u001b[0;34m)\u001b[0m\u001b[0;34m.\u001b[0m\u001b[0mtotal_seconds\u001b[0m\u001b[0;34m(\u001b[0m\u001b[0;34m)\u001b[0m\u001b[0;34m/\u001b[0m\u001b[0;36m60\u001b[0m\u001b[0;34m)\u001b[0m\u001b[0;34m)\u001b[0m\u001b[0;34m\u001b[0m\u001b[0;34m\u001b[0m\u001b[0m\n\u001b[1;32m      4\u001b[0m \u001b[0mcustomer_time\u001b[0m\u001b[0;34m.\u001b[0m\u001b[0mhead\u001b[0m\u001b[0;34m(\u001b[0m\u001b[0;34m)\u001b[0m\u001b[0;34m\u001b[0m\u001b[0;34m\u001b[0m\u001b[0m\n",
            "\u001b[0;31mAttributeError\u001b[0m: 'dict' object has no attribute 'groupby'"
          ]
        }
      ],
      "source": [
        "grouping = df.groupby('customer_no')['timestamp']\n",
        "\n",
        "customer_time = grouping.apply(lambda x: int((x.max()-x.min()).total_seconds()/60))\n",
        "customer_time.head()"
      ]
    },
    {
      "cell_type": "code",
      "execution_count": null,
      "metadata": {
        "colab": {
          "base_uri": "https://localhost:8080/",
          "height": 215
        },
        "id": "QED5DH4lQcir",
        "outputId": "48b777e1-9300-43f1-fb3e-b86726e1ac59"
      },
      "outputs": [
        {
          "ename": "NameError",
          "evalue": "ignored",
          "output_type": "error",
          "traceback": [
            "\u001b[0;31m---------------------------------------------------------------------------\u001b[0m",
            "\u001b[0;31mNameError\u001b[0m                                 Traceback (most recent call last)",
            "\u001b[0;32m<ipython-input-43-02135cbe67b4>\u001b[0m in \u001b[0;36m<module>\u001b[0;34m\u001b[0m\n\u001b[1;32m      1\u001b[0m \u001b[0mplt\u001b[0m\u001b[0;34m.\u001b[0m\u001b[0mfigure\u001b[0m\u001b[0;34m(\u001b[0m\u001b[0mfigsize\u001b[0m\u001b[0;34m=\u001b[0m\u001b[0;34m(\u001b[0m\u001b[0;36m10\u001b[0m\u001b[0;34m,\u001b[0m\u001b[0;36m4\u001b[0m\u001b[0;34m)\u001b[0m\u001b[0;34m,\u001b[0m \u001b[0mdpi\u001b[0m\u001b[0;34m=\u001b[0m\u001b[0;36m100\u001b[0m\u001b[0;34m)\u001b[0m\u001b[0;34m\u001b[0m\u001b[0;34m\u001b[0m\u001b[0m\n\u001b[0;32m----> 2\u001b[0;31m \u001b[0msns\u001b[0m\u001b[0;34m.\u001b[0m\u001b[0mdistplot\u001b[0m\u001b[0;34m(\u001b[0m\u001b[0mcustomer_time\u001b[0m\u001b[0;34m,\u001b[0m\u001b[0mkde\u001b[0m\u001b[0;34m=\u001b[0m\u001b[0;32mFalse\u001b[0m\u001b[0;34m)\u001b[0m\u001b[0;34m\u001b[0m\u001b[0;34m\u001b[0m\u001b[0m\n\u001b[0m\u001b[1;32m      3\u001b[0m \u001b[0;32mNone\u001b[0m\u001b[0;34m\u001b[0m\u001b[0;34m\u001b[0m\u001b[0m\n",
            "\u001b[0;31mNameError\u001b[0m: name 'customer_time' is not defined"
          ]
        },
        {
          "data": {
            "text/plain": [
              "<Figure size 1000x400 with 0 Axes>"
            ]
          },
          "metadata": {},
          "output_type": "display_data"
        }
      ],
      "source": [
        "plt.figure(figsize=(10,4), dpi=100)\n",
        "sns.distplot(customer_time,kde=False)\n",
        "None"
      ]
    },
    {
      "cell_type": "markdown",
      "metadata": {
        "id": "En1-TQK8Q8h-"
      },
      "source": [
        "## Total number of customers in the supermarket over time"
      ]
    },
    {
      "cell_type": "code",
      "execution_count": null,
      "metadata": {
        "colab": {
          "base_uri": "https://localhost:8080/",
          "height": 164
        },
        "id": "dZCdox7FRDBm",
        "outputId": "24293c0e-90c7-4cc4-e0b4-69bb6c1083bd"
      },
      "outputs": [
        {
          "ename": "NameError",
          "evalue": "ignored",
          "output_type": "error",
          "traceback": [
            "\u001b[0;31m---------------------------------------------------------------------------\u001b[0m",
            "\u001b[0;31mNameError\u001b[0m                                 Traceback (most recent call last)",
            "\u001b[0;32m<ipython-input-44-2b25f0492fd9>\u001b[0m in \u001b[0;36m<module>\u001b[0;34m\u001b[0m\n\u001b[0;32m----> 1\u001b[0;31m \u001b[0mdftime\u001b[0m\u001b[0;34m.\u001b[0m\u001b[0mgroupby\u001b[0m\u001b[0;34m(\u001b[0m\u001b[0;34m'time'\u001b[0m\u001b[0;34m)\u001b[0m\u001b[0;34m[\u001b[0m\u001b[0;34m'customer_no'\u001b[0m\u001b[0;34m]\u001b[0m\u001b[0;34m.\u001b[0m\u001b[0mcount\u001b[0m\u001b[0;34m(\u001b[0m\u001b[0;34m)\u001b[0m\u001b[0;34m.\u001b[0m\u001b[0mplot\u001b[0m\u001b[0;34m(\u001b[0m\u001b[0mfigsize\u001b[0m\u001b[0;34m=\u001b[0m\u001b[0;34m(\u001b[0m\u001b[0;36m20\u001b[0m\u001b[0;34m,\u001b[0m\u001b[0;36m6\u001b[0m\u001b[0;34m)\u001b[0m\u001b[0;34m)\u001b[0m\u001b[0;34m;\u001b[0m\u001b[0;34m\u001b[0m\u001b[0;34m\u001b[0m\u001b[0m\n\u001b[0m",
            "\u001b[0;31mNameError\u001b[0m: name 'dftime' is not defined"
          ]
        }
      ],
      "source": [
        "dftime.groupby('time')['customer_no'].count().plot(figsize=(20,6));"
      ]
    },
    {
      "cell_type": "markdown",
      "metadata": {
        "id": "IaNH3l_YQurf"
      },
      "source": [
        "##"
      ]
    },
    {
      "cell_type": "markdown",
      "metadata": {
        "id": "tSLnRe-1tDAB"
      },
      "source": [
        "## Evaluate the arrival distribution of customers "
      ]
    },
    {
      "cell_type": "code",
      "execution_count": null,
      "metadata": {
        "id": "aTh9MnONtMES"
      },
      "outputs": [],
      "source": [
        "#Get the time between arrivals\n",
        "customer_unique2 = df['monday'][\"customer_no\"].unique()\n",
        "ts3 = df[\"monday\"].groupby('customer_no')\n",
        "arrival_times = []\n",
        "for customer in customer_unique2:\n",
        "  series1 = ts3.get_group(customer)[\"timestamp\"]\n",
        "  arrival_time = series1.iloc[0]\n",
        "  arrival_times.append(arrival_time)\n",
        "#print(arrival_times)\n",
        "\n",
        "differences = []\n",
        "while len(arrival_times)>2:\n",
        "  first = datetime.datetime.strptime(arrival_times[0],\"%Y-%m-%d %H:%M:%S\")\n",
        "  second = datetime.datetime.strptime(arrival_times[1],\"%Y-%m-%d %H:%M:%S\")\n",
        "  #print(first)\n",
        "  #print(second)\n",
        "  diff = second-first\n",
        " # print(diff)\n",
        "  diff = diff.total_seconds()\n",
        "  if diff != 0:\n",
        "    diff = diff/60\n",
        "  arrival_times = arrival_times[1:]\n",
        "  differences.append(diff)\n",
        "\n",
        "differences\n",
        "\n",
        "\n",
        "\n"
      ]
    },
    {
      "cell_type": "code",
      "execution_count": null,
      "metadata": {
        "id": "-Pa7cBxGK1Qx"
      },
      "outputs": [],
      "source": [
        "customer_unique2 = df['monday'][\"customer_no\"].unique()\n",
        "ts3 = df[\"monday\"].groupby('customer_no')\n",
        "arrival_times = []\n",
        "ls1 = df[\"monday\"][\"timestamp\"].unique()\n",
        "df3 = pd.DataFrame(data = ls1,  \n",
        "                  columns = [\"timestamp\"])\n",
        "df3[\"arrival_n\"] = 0\n",
        "for customer in customer_unique2:\n",
        "  series1 = ts3.get_group(customer)[\"timestamp\"]\n",
        "  arrival_time = series1.iloc[0]\n",
        "  for i in df3.index:\n",
        "    if df3[\"timestamp\"][i] == arrival_time:\n",
        "      df3[\"arrival_n\"][i] += 1\n",
        "\n",
        "  #arrival_time = datetime.datetime.strptime(arrival_time,\"%Y-%m-%d %H:%M:%S\")\n",
        "\n",
        "  #arrival_times.append(arrival_time)\n",
        "\n"
      ]
    },
    {
      "cell_type": "code",
      "execution_count": null,
      "metadata": {
        "id": "jeTo41Ce9wCf"
      },
      "outputs": [],
      "source": [
        "arrival_n_l = df3[\"arrival_n\"].tolist()"
      ]
    },
    {
      "cell_type": "code",
      "execution_count": null,
      "metadata": {
        "colab": {
          "base_uri": "https://localhost:8080/"
        },
        "id": "pbOaAHUvFDJ4",
        "outputId": "1daacbd0-4da0-4c9e-f315-cfeff77e8c10"
      },
      "outputs": [
        {
          "data": {
            "text/plain": [
              "0.613840830449827"
            ]
          },
          "execution_count": 48,
          "metadata": {},
          "output_type": "execute_result"
        }
      ],
      "source": [
        "np.mean(differences)"
      ]
    },
    {
      "cell_type": "code",
      "execution_count": null,
      "metadata": {
        "colab": {
          "base_uri": "https://localhost:8080/",
          "height": 316
        },
        "id": "YQIeE6akFSPn",
        "outputId": "c70bb77d-cf42-4895-e7d2-8bd9211f31f7"
      },
      "outputs": [
        {
          "data": {
            "text/plain": [
              "(array([933., 305., 111.,  57.,  23.,   8.,   4.,   1.,   1.,   2.]),\n",
              " array([0. , 0.9, 1.8, 2.7, 3.6, 4.5, 5.4, 6.3, 7.2, 8.1, 9. ]),\n",
              " <a list of 10 Patch objects>)"
            ]
          },
          "execution_count": 49,
          "metadata": {},
          "output_type": "execute_result"
        },
        {
          "data": {
            "image/png": "[encoded data removed]",
            "text/plain": [
              "<Figure size 432x288 with 1 Axes>"
            ]
          },
          "metadata": {
            "needs_background": "light"
          },
          "output_type": "display_data"
        }
      ],
      "source": [
        "plt.hist(differences)"
      ]
    },
    {
      "cell_type": "markdown",
      "metadata": {
        "id": "KQJIfpqlP5_V"
      },
      "source": []
    },
    {
      "cell_type": "markdown",
      "metadata": {
        "id": "Yn9WPiq0R1xz"
      },
      "source": [
        "# Calculation of behavior probabilities"
      ]
    },
    {
      "cell_type": "markdown",
      "metadata": {
        "id": "eSGS58ZYd_64"
      },
      "source": [
        "## Crosstabs of aisle change"
      ]
    },
    {
      "cell_type": "code",
      "execution_count": null,
      "metadata": {
        "id": "v7W0B2dcgHWQ"
      },
      "outputs": [],
      "source": [
        "#create the dataframe for the befor after data\n",
        "paths = pd.DataFrame(columns=['before','after'])"
      ]
    },
    {
      "cell_type": "code",
      "execution_count": null,
      "metadata": {
        "id": "Anr07qD4atGv"
      },
      "outputs": [],
      "source": [
        "#fill the bevor-after table with the data supplied by the company for monday\n",
        "ts2 = df_full.groupby('customer_no')\n",
        "customer_unique = df_full[\"customer_no\"].unique()\n",
        "print(len(customer_unique))\n",
        "counter = 0\n",
        "for customer in customer_unique:\n",
        "  series1 = ts2.get_group(customer)[\"location\"]\n",
        "  list_final = []\n",
        "  list_index = series1.index.tolist()\n",
        "  list_values = series1.tolist()\n",
        "  while len(list_values) >= 2:\n",
        "    diff = list_index[1] - list_index[0]\n",
        "    list_final.extend([list_values[0] for i in range(diff)])\n",
        "    list_index = list_index[1:]\n",
        "    list_values = list_values[1:]\n",
        "  list_final.append(list_values[-1])\n",
        "  while len(list_final) >= 2:\n",
        "    before = list_final[0]\n",
        "    after = list_final[1]\n",
        "    paths.loc[len(paths.index)] = [before, after]\n",
        "    list_final = list_final[1:]\n",
        "  counter += 1\n",
        "  print(\"success\", counter/ len(customer_unique))\n",
        "  \n",
        "\n"
      ]
    },
    {
      "cell_type": "code",
      "execution_count": null,
      "metadata": {
        "colab": {
          "base_uri": "https://localhost:8080/",
          "height": 34
        },
        "id": "P_TR7OrzLNN-",
        "outputId": "e33a8702-cb71-4e4c-f3d2-dcd12a56a7a7"
      },
      "outputs": [
        {
          "data": {
            "application/javascript": "\n    async function download(id, filename, size) {\n      if (!google.colab.kernel.accessAllowed) {\n        return;\n      }\n      const div = document.createElement('div');\n      const label = document.createElement('label');\n      label.textContent = `Downloading \"${filename}\": `;\n      div.appendChild(label);\n      const progress = document.createElement('progress');\n      progress.max = size;\n      div.appendChild(progress);\n      document.body.appendChild(div);\n\n      const buffers = [];\n      let downloaded = 0;\n\n      const channel = await google.colab.kernel.comms.open(id);\n      // Send a message to notify the kernel that we're ready.\n      channel.send({})\n\n      for await (const message of channel.messages) {\n        // Send a message to notify the kernel that we're ready.\n        channel.send({})\n        if (message.buffers) {\n          for (const buffer of message.buffers) {\n            buffers.push(buffer);\n            downloaded += buffer.byteLength;\n            progress.value = downloaded;\n          }\n        }\n      }\n      const blob = new Blob(buffers, {type: 'application/binary'});\n      const a = document.createElement('a');\n      a.href = window.URL.createObjectURL(blob);\n      a.download = filename;\n      div.appendChild(a);\n      a.click();\n      div.remove();\n    }\n  ",
            "text/plain": [
              "<IPython.core.display.Javascript object>"
            ]
          },
          "metadata": {},
          "output_type": "display_data"
        },
        {
          "data": {
            "application/javascript": "download(\"download_b697c3fb-1ff0-4179-94da-7813b38d6db6\", \"paths.csv\", 16920)",
            "text/plain": [
              "<IPython.core.display.Javascript object>"
            ]
          },
          "metadata": {},
          "output_type": "display_data"
        }
      ],
      "source": [
        "\n",
        "paths.to_csv()\n",
        "from google.colab import files\n",
        "\n",
        "paths.head(1000).to_csv('paths.csv', encoding = 'utf-8-sig') \n",
        "files.download('paths.csv')"
      ]
    },
    {
      "cell_type": "code",
      "execution_count": null,
      "metadata": {
        "colab": {
          "base_uri": "https://localhost:8080/"
        },
        "id": "g1rSpgqaUDeu",
        "outputId": "31c29910-8ed3-420b-f6be-6ba045fff700"
      },
      "outputs": [
        {
          "data": {
            "text/plain": [
              "755104"
            ]
          },
          "execution_count": 140,
          "metadata": {},
          "output_type": "execute_result"
        }
      ],
      "source": [
        "paths.size"
      ]
    },
    {
      "cell_type": "markdown",
      "metadata": {
        "id": "5ImLaf58SSEA"
      },
      "source": [
        "## first choice upon arrival"
      ]
    },
    {
      "cell_type": "code",
      "execution_count": null,
      "metadata": {
        "id": "kA3EB9nTtP_3"
      },
      "outputs": [],
      "source": [
        "#get the first choice of a customer when he enters the market and append it to first_choice\n",
        "ts2 = df_full.groupby('customer_no')\n",
        "customer_unique = df_full[\"customer_no\"].unique()\n",
        "first_choice =[]\n",
        "for customer in customer_unique:\n",
        "  series1 = ts2.get_group(customer)[\"location\"]\n",
        "  print(series1)\n",
        "  first_choice.append(series1.iloc[0])\n",
        "\n",
        "\n",
        "\n"
      ]
    },
    {
      "cell_type": "code",
      "execution_count": null,
      "metadata": {
        "colab": {
          "base_uri": "https://localhost:8080/",
          "height": 235
        },
        "id": "DnHZCBL8c1CP",
        "outputId": "63b6a7a1-097f-4d97-c660-2b3fed4806e5"
      },
      "outputs": [
        {
          "data": {
            "text/html": [
              "\n",
              "  <div id=\"df-95bc0b4f-9d8e-4065-abc1-bcf3b97e4275\">\n",
              "    <div class=\"colab-df-container\">\n",
              "      <div>\n",
              "<style scoped>\n",
              "    .dataframe tbody tr th:only-of-type {\n",
              "        vertical-align: middle;\n",
              "    }\n",
              "\n",
              "    .dataframe tbody tr th {\n",
              "        vertical-align: top;\n",
              "    }\n",
              "\n",
              "    .dataframe thead th {\n",
              "        text-align: right;\n",
              "    }\n",
              "</style>\n",
              "<table border=\"1\" class=\"dataframe\">\n",
              "  <thead>\n",
              "    <tr style=\"text-align: right;\">\n",
              "      <th>before</th>\n",
              "      <th>dairy</th>\n",
              "      <th>drinks</th>\n",
              "      <th>fruit</th>\n",
              "      <th>spices</th>\n",
              "    </tr>\n",
              "    <tr>\n",
              "      <th>after</th>\n",
              "      <th></th>\n",
              "      <th></th>\n",
              "      <th></th>\n",
              "      <th></th>\n",
              "    </tr>\n",
              "  </thead>\n",
              "  <tbody>\n",
              "    <tr>\n",
              "      <th>checkout</th>\n",
              "      <td>0.388851</td>\n",
              "      <td>0.543326</td>\n",
              "      <td>0.498941</td>\n",
              "      <td>0.258552</td>\n",
              "    </tr>\n",
              "    <tr>\n",
              "      <th>dairy</th>\n",
              "      <td>0.000000</td>\n",
              "      <td>0.036066</td>\n",
              "      <td>0.242986</td>\n",
              "      <td>0.325633</td>\n",
              "    </tr>\n",
              "    <tr>\n",
              "      <th>drinks</th>\n",
              "      <td>0.227396</td>\n",
              "      <td>0.000000</td>\n",
              "      <td>0.131551</td>\n",
              "      <td>0.267881</td>\n",
              "    </tr>\n",
              "    <tr>\n",
              "      <th>fruit</th>\n",
              "      <td>0.185248</td>\n",
              "      <td>0.215457</td>\n",
              "      <td>0.000000</td>\n",
              "      <td>0.147934</td>\n",
              "    </tr>\n",
              "    <tr>\n",
              "      <th>spices</th>\n",
              "      <td>0.198504</td>\n",
              "      <td>0.205152</td>\n",
              "      <td>0.126522</td>\n",
              "      <td>0.000000</td>\n",
              "    </tr>\n",
              "  </tbody>\n",
              "</table>\n",
              "</div>\n",
              "      <button class=\"colab-df-convert\" onclick=\"convertToInteractive('df-95bc0b4f-9d8e-4065-abc1-bcf3b97e4275')\"\n",
              "              title=\"Convert this dataframe to an interactive table.\"\n",
              "              style=\"display:none;\">\n",
              "        \n",
              "  <svg xmlns=\"http://www.w3.org/2000/svg\" height=\"24px\"viewBox=\"0 0 24 24\"\n",
              "       width=\"24px\">\n",
              "    <path d=\"M0 0h24v24H0V0z\" fill=\"none\"/>\n",
              "    <path d=\"M18.56 5.44l.94 2.06.94-2.06 2.06-.94-2.06-.94-.94-2.06-.94 2.06-2.06.94zm-11 1L8.5 8.5l.94-2.06 2.06-.94-2.06-.94L8.5 2.5l-.94 2.06-2.06.94zm10 10l.94 2.06.94-2.06 2.06-.94-2.06-.94-.94-2.06-.94 2.06-2.06.94z\"/><path d=\"M17.41 7.96l-1.37-1.37c-.4-.4-.92-.59-1.43-.59-.52 0-1.04.2-1.43.59L10.3 9.45l-7.72 7.72c-.78.78-.78 2.05 0 2.83L4 21.41c.39.39.9.59 1.41.59.51 0 1.02-.2 1.41-.59l7.78-7.78 2.81-2.81c.8-.78.8-2.07 0-2.86zM5.41 20L4 18.59l7.72-7.72 1.47 1.35L5.41 20z\"/>\n",
              "  </svg>\n",
              "      </button>\n",
              "      \n",
              "  <style>\n",
              "    .colab-df-container {\n",
              "      display:flex;\n",
              "      flex-wrap:wrap;\n",
              "      gap: 12px;\n",
              "    }\n",
              "\n",
              "    .colab-df-convert {\n",
              "      background-color: #E8F0FE;\n",
              "      border: none;\n",
              "      border-radius: 50%;\n",
              "      cursor: pointer;\n",
              "      display: none;\n",
              "      fill: #1967D2;\n",
              "      height: 32px;\n",
              "      padding: 0 0 0 0;\n",
              "      width: 32px;\n",
              "    }\n",
              "\n",
              "    .colab-df-convert:hover {\n",
              "      background-color: #E2EBFA;\n",
              "      box-shadow: 0px 1px 2px rgba(60, 64, 67, 0.3), 0px 1px 3px 1px rgba(60, 64, 67, 0.15);\n",
              "      fill: #174EA6;\n",
              "    }\n",
              "\n",
              "    [theme=dark] .colab-df-convert {\n",
              "      background-color: #3B4455;\n",
              "      fill: #D2E3FC;\n",
              "    }\n",
              "\n",
              "    [theme=dark] .colab-df-convert:hover {\n",
              "      background-color: #434B5C;\n",
              "      box-shadow: 0px 1px 3px 1px rgba(0, 0, 0, 0.15);\n",
              "      filter: drop-shadow(0px 1px 2px rgba(0, 0, 0, 0.3));\n",
              "      fill: #FFFFFF;\n",
              "    }\n",
              "  </style>\n",
              "\n",
              "      <script>\n",
              "        const buttonEl =\n",
              "          document.querySelector('#df-95bc0b4f-9d8e-4065-abc1-bcf3b97e4275 button.colab-df-convert');\n",
              "        buttonEl.style.display =\n",
              "          google.colab.kernel.accessAllowed ? 'block' : 'none';\n",
              "\n",
              "        async function convertToInteractive(key) {\n",
              "          const element = document.querySelector('#df-95bc0b4f-9d8e-4065-abc1-bcf3b97e4275');\n",
              "          const dataTable =\n",
              "            await google.colab.kernel.invokeFunction('convertToInteractive',\n",
              "                                                     [key], {});\n",
              "          if (!dataTable) return;\n",
              "\n",
              "          const docLinkHtml = 'Like what you see? Visit the ' +\n",
              "            '<a target=\"_blank\" href=https://colab.research.google.com/notebooks/data_table.ipynb>data table notebook</a>'\n",
              "            + ' to learn more about interactive tables.';\n",
              "          element.innerHTML = '';\n",
              "          dataTable['output_type'] = 'display_data';\n",
              "          await google.colab.output.renderOutput(dataTable, element);\n",
              "          const docLink = document.createElement('div');\n",
              "          docLink.innerHTML = docLinkHtml;\n",
              "          element.appendChild(docLink);\n",
              "        }\n",
              "      </script>\n",
              "    </div>\n",
              "  </div>\n",
              "  "
            ],
            "text/plain": [
              "before       dairy    drinks     fruit    spices\n",
              "after                                           \n",
              "checkout  0.388851  0.543326  0.498941  0.258552\n",
              "dairy     0.000000  0.036066  0.242986  0.325633\n",
              "drinks    0.227396  0.000000  0.131551  0.267881\n",
              "fruit     0.185248  0.215457  0.000000  0.147934\n",
              "spices    0.198504  0.205152  0.126522  0.000000"
            ]
          },
          "execution_count": 53,
          "metadata": {},
          "output_type": "execute_result"
        }
      ],
      "source": [
        "transition_probs = pd.crosstab(paths['after'],paths['before'], normalize=1)\n",
        "transition_probs."
      ]
    },
    {
      "cell_type": "code",
      "execution_count": null,
      "metadata": {
        "colab": {
          "base_uri": "https://localhost:8080/",
          "height": 235
        },
        "id": "dd3RZG3EkKQw",
        "outputId": "4ee71522-7b7d-4029-82cb-bb7af726c172"
      },
      "outputs": [
        {
          "data": {
            "text/html": [
              "\n",
              "  <div id=\"df-fa0ad8da-f3dc-485b-987b-b46e8f0dc3fc\">\n",
              "    <div class=\"colab-df-container\">\n",
              "      <div>\n",
              "<style scoped>\n",
              "    .dataframe tbody tr th:only-of-type {\n",
              "        vertical-align: middle;\n",
              "    }\n",
              "\n",
              "    .dataframe tbody tr th {\n",
              "        vertical-align: top;\n",
              "    }\n",
              "\n",
              "    .dataframe thead th {\n",
              "        text-align: right;\n",
              "    }\n",
              "</style>\n",
              "<table border=\"1\" class=\"dataframe\">\n",
              "  <thead>\n",
              "    <tr style=\"text-align: right;\">\n",
              "      <th>before</th>\n",
              "      <th>dairy</th>\n",
              "      <th>drinks</th>\n",
              "      <th>fruit</th>\n",
              "      <th>spices</th>\n",
              "    </tr>\n",
              "    <tr>\n",
              "      <th>after</th>\n",
              "      <th></th>\n",
              "      <th></th>\n",
              "      <th></th>\n",
              "      <th></th>\n",
              "    </tr>\n",
              "  </thead>\n",
              "  <tbody>\n",
              "    <tr>\n",
              "      <th>checkout</th>\n",
              "      <td>0.017012</td>\n",
              "      <td>0.035427</td>\n",
              "      <td>0.033398</td>\n",
              "      <td>0.023350</td>\n",
              "    </tr>\n",
              "    <tr>\n",
              "      <th>dairy</th>\n",
              "      <td>0.956125</td>\n",
              "      <td>0.001738</td>\n",
              "      <td>0.015607</td>\n",
              "      <td>0.030434</td>\n",
              "    </tr>\n",
              "    <tr>\n",
              "      <th>drinks</th>\n",
              "      <td>0.009739</td>\n",
              "      <td>0.933955</td>\n",
              "      <td>0.008871</td>\n",
              "      <td>0.025993</td>\n",
              "    </tr>\n",
              "    <tr>\n",
              "      <th>fruit</th>\n",
              "      <td>0.008414</td>\n",
              "      <td>0.014681</td>\n",
              "      <td>0.933822</td>\n",
              "      <td>0.014336</td>\n",
              "    </tr>\n",
              "    <tr>\n",
              "      <th>spices</th>\n",
              "      <td>0.008710</td>\n",
              "      <td>0.014199</td>\n",
              "      <td>0.008301</td>\n",
              "      <td>0.905886</td>\n",
              "    </tr>\n",
              "  </tbody>\n",
              "</table>\n",
              "</div>\n",
              "      <button class=\"colab-df-convert\" onclick=\"convertToInteractive('df-fa0ad8da-f3dc-485b-987b-b46e8f0dc3fc')\"\n",
              "              title=\"Convert this dataframe to an interactive table.\"\n",
              "              style=\"display:none;\">\n",
              "        \n",
              "  <svg xmlns=\"http://www.w3.org/2000/svg\" height=\"24px\"viewBox=\"0 0 24 24\"\n",
              "       width=\"24px\">\n",
              "    <path d=\"M0 0h24v24H0V0z\" fill=\"none\"/>\n",
              "    <path d=\"M18.56 5.44l.94 2.06.94-2.06 2.06-.94-2.06-.94-.94-2.06-.94 2.06-2.06.94zm-11 1L8.5 8.5l.94-2.06 2.06-.94-2.06-.94L8.5 2.5l-.94 2.06-2.06.94zm10 10l.94 2.06.94-2.06 2.06-.94-2.06-.94-.94-2.06-.94 2.06-2.06.94z\"/><path d=\"M17.41 7.96l-1.37-1.37c-.4-.4-.92-.59-1.43-.59-.52 0-1.04.2-1.43.59L10.3 9.45l-7.72 7.72c-.78.78-.78 2.05 0 2.83L4 21.41c.39.39.9.59 1.41.59.51 0 1.02-.2 1.41-.59l7.78-7.78 2.81-2.81c.8-.78.8-2.07 0-2.86zM5.41 20L4 18.59l7.72-7.72 1.47 1.35L5.41 20z\"/>\n",
              "  </svg>\n",
              "      </button>\n",
              "      \n",
              "  <style>\n",
              "    .colab-df-container {\n",
              "      display:flex;\n",
              "      flex-wrap:wrap;\n",
              "      gap: 12px;\n",
              "    }\n",
              "\n",
              "    .colab-df-convert {\n",
              "      background-color: #E8F0FE;\n",
              "      border: none;\n",
              "      border-radius: 50%;\n",
              "      cursor: pointer;\n",
              "      display: none;\n",
              "      fill: #1967D2;\n",
              "      height: 32px;\n",
              "      padding: 0 0 0 0;\n",
              "      width: 32px;\n",
              "    }\n",
              "\n",
              "    .colab-df-convert:hover {\n",
              "      background-color: #E2EBFA;\n",
              "      box-shadow: 0px 1px 2px rgba(60, 64, 67, 0.3), 0px 1px 3px 1px rgba(60, 64, 67, 0.15);\n",
              "      fill: #174EA6;\n",
              "    }\n",
              "\n",
              "    [theme=dark] .colab-df-convert {\n",
              "      background-color: #3B4455;\n",
              "      fill: #D2E3FC;\n",
              "    }\n",
              "\n",
              "    [theme=dark] .colab-df-convert:hover {\n",
              "      background-color: #434B5C;\n",
              "      box-shadow: 0px 1px 3px 1px rgba(0, 0, 0, 0.15);\n",
              "      filter: drop-shadow(0px 1px 2px rgba(0, 0, 0, 0.3));\n",
              "      fill: #FFFFFF;\n",
              "    }\n",
              "  </style>\n",
              "\n",
              "      <script>\n",
              "        const buttonEl =\n",
              "          document.querySelector('#df-fa0ad8da-f3dc-485b-987b-b46e8f0dc3fc button.colab-df-convert');\n",
              "        buttonEl.style.display =\n",
              "          google.colab.kernel.accessAllowed ? 'block' : 'none';\n",
              "\n",
              "        async function convertToInteractive(key) {\n",
              "          const element = document.querySelector('#df-fa0ad8da-f3dc-485b-987b-b46e8f0dc3fc');\n",
              "          const dataTable =\n",
              "            await google.colab.kernel.invokeFunction('convertToInteractive',\n",
              "                                                     [key], {});\n",
              "          if (!dataTable) return;\n",
              "\n",
              "          const docLinkHtml = 'Like what you see? Visit the ' +\n",
              "            '<a target=\"_blank\" href=https://colab.research.google.com/notebooks/data_table.ipynb>data table notebook</a>'\n",
              "            + ' to learn more about interactive tables.';\n",
              "          element.innerHTML = '';\n",
              "          dataTable['output_type'] = 'display_data';\n",
              "          await google.colab.output.renderOutput(dataTable, element);\n",
              "          const docLink = document.createElement('div');\n",
              "          docLink.innerHTML = docLinkHtml;\n",
              "          element.appendChild(docLink);\n",
              "        }\n",
              "      </script>\n",
              "    </div>\n",
              "  </div>\n",
              "  "
            ],
            "text/plain": [
              "before       dairy    drinks     fruit    spices\n",
              "after                                           \n",
              "checkout  0.017012  0.035427  0.033398  0.023350\n",
              "dairy     0.956125  0.001738  0.015607  0.030434\n",
              "drinks    0.009739  0.933955  0.008871  0.025993\n",
              "fruit     0.008414  0.014681  0.933822  0.014336\n",
              "spices    0.008710  0.014199  0.008301  0.905886"
            ]
          },
          "execution_count": 106,
          "metadata": {},
          "output_type": "execute_result"
        }
      ],
      "source": [
        "transition_probs2 = pd.crosstab(paths['after'],paths['before'], normalize=1)\n",
        "transition_probs2"
      ]
    },
    {
      "cell_type": "code",
      "execution_count": null,
      "metadata": {
        "id": "7BXajVRoUyy-"
      },
      "outputs": [],
      "source": [
        "from google.colab import files\n",
        "import pickle\n",
        "\n",
        "\n",
        "serialized = pickle.dumps(transition_probs2)\n",
        "\n",
        "#files.download('matrix.csv')"
      ]
    },
    {
      "cell_type": "code",
      "execution_count": null,
      "metadata": {
        "id": "ps-pQWhoXkOW"
      },
      "outputs": [],
      "source": [
        "with open('first_choice.pkl', 'wb') as file:\n",
        "      \n",
        "    # A new file will be created\n",
        "    pickle.dump(first_choice, file)"
      ]
    },
    {
      "cell_type": "markdown",
      "metadata": {
        "id": "7-P7bMPeYHvm"
      },
      "source": [
        "# Monte Carlo simulation"
      ]
    },
    {
      "cell_type": "markdown",
      "metadata": {
        "id": "M2yiiSZfhVph"
      },
      "source": [
        "## Create a customer class"
      ]
    },
    {
      "cell_type": "code",
      "execution_count": null,
      "metadata": {
        "id": "FVuaEghZhYRP"
      },
      "outputs": [],
      "source": [
        "#externl variables: transition_probs, first_choice\n",
        "\n",
        "class Customer:\n",
        "  id_iter = itertools.count()\n",
        "\n",
        "  def __init__(self, state=\"entry\", budget = 100, transition_probs = transition_probs2):\n",
        "    self.id = next(Customer.id_iter)\n",
        "    self.state = state\n",
        "    self.budget = budget\n",
        "\n",
        "  def __repr__(self):\n",
        "    return f'<Customer {self.id} in {self.state}>'\n",
        "  \n",
        "  def next_state(self):\n",
        "    state_before = self.state\n",
        "    checkout = transition_probs[state_before][\"checkout\"]\n",
        "    dairy = transition_probs[state_before][\"dairy\"]\n",
        "    drinks = transition_probs[state_before][\"drinks\"]\n",
        "    fruit = transition_probs[state_before][\"fruit\"]\n",
        "    spices = transition_probs[state_before][\"spices\"]\n",
        "    sections = [\"checkout\",\"dairy\",\"drinks\", \"fruit\",\"spices\"]\n",
        "    probabilities = [checkout, dairy, drinks, fruit, spices]\n",
        "    draw = np.random.choice(sections, 1, p=probabilities)\n",
        "    draw = draw[0]\n",
        "    self.state = draw\n",
        "\n",
        "  def is_active(self):\n",
        "    if self.state == \"checkout\":\n",
        "      return False\n",
        "    else:\n",
        "      return True"
      ]
    },
    {
      "cell_type": "markdown",
      "metadata": {
        "id": "ndrge2xVYPT4"
      },
      "source": [
        "## Create customer instances"
      ]
    },
    {
      "cell_type": "code",
      "execution_count": null,
      "metadata": {
        "colab": {
          "base_uri": "https://localhost:8080/"
        },
        "id": "mIJd8zukNCXF",
        "outputId": "0139c28c-2c36-4541-bbe2-f9283c0cd031"
      },
      "outputs": [
        {
          "name": "stdout",
          "output_type": "stream",
          "text": [
            "<Customer 0 in entry>\n",
            "<Customer 0 in spices>\n",
            "<Customer 1 in entry>\n",
            "<Customer 1 in drinks>\n",
            "<Customer 1 in spices>\n",
            "<Customer 1 in dairy>\n"
          ]
        }
      ],
      "source": [
        "cust1 = Customer()\n",
        "print(cust1)\n",
        "cust1.next_state()\n",
        "print(cust1)\n",
        "\n",
        "cust2 = Customer()\n",
        "print(cust2)\n",
        "cust2.next_state()\n",
        "print(cust2)\n",
        "cust2.next_state()\n",
        "print(cust2)\n",
        "cust2.next_state()\n",
        "print(cust2)\n"
      ]
    },
    {
      "cell_type": "markdown",
      "metadata": {
        "id": "45rbqC2yYWvF"
      },
      "source": [
        "# Create a Supermarket class"
      ]
    },
    {
      "cell_type": "code",
      "execution_count": null,
      "metadata": {
        "id": "CVyurxceqBh0"
      },
      "outputs": [],
      "source": [
        "df[\"monday\"]"
      ]
    },
    {
      "cell_type": "code",
      "execution_count": null,
      "metadata": {
        "id": "Pd862WU2YaUn"
      },
      "outputs": [],
      "source": [
        "from re import I\n",
        "import pandas as pd\n",
        "import random\n",
        "\n",
        "class Supermarket:\n",
        "    \"\"\"manages multiple Customer instances that are currently in the market.\n",
        "    \"\"\"\n",
        "    #innitializer method\n",
        "    def __init__(self):        \n",
        "        # a list of Customer objects\n",
        "        self.customers = []\n",
        "        # minute tracker that is updated by the next_minute method\n",
        "        self.minutes = 0\n",
        "        #log of all the customer behavior\n",
        "        self.data = pd.DataFrame(columns=['timestamp','customer_no','location'])\n",
        "\n",
        "    @property\n",
        "    def n_customer(self):\n",
        "      return len(self.customers)\n",
        "    \n",
        "    #return the customer list when a supermrket instance is printed\n",
        "    def __repr__(self):\n",
        "      return f'{self.customers}'\n",
        "\n",
        "    #return the time in an hour:minute string\n",
        "    def get_time(self):\n",
        "      m = self.minutes\n",
        "      hours = 0\n",
        "      while m >= 60:\n",
        "        m = m - 60\n",
        "        hours +=1\n",
        "      return f'{hours}:{m}'\n",
        "\n",
        "    #print the customers\n",
        "    def print_customers(self):\n",
        "      for row in self.data.iterrows():\n",
        "        print(row[\"timestamp\"],row[\"customer_no\"],row[\"location\"])\n",
        "        \n",
        "\n",
        "    def next_minute(self):\n",
        "      time = Supermarket.get_time(self) #get the current time\n",
        "      for c in self.customers:\n",
        "        self.data.loc[len(self.data)] = [time, c.id, c.state] # add the current customer states to the dataframe log\n",
        "\n",
        "\n",
        "      if len(self.customers) > 0:\n",
        "        Supermarket.remove_existing_customers(self) #remove customers from the list that have reached the checkout\n",
        "        for i in range(len(self.customers)):\n",
        "          self.customers[i].next_state()  #move the customers to the next state\n",
        "      Supermarket.add_new_customers(self, random.choice(arrival_n_l)) # add new customers based on the arrival distribution\n",
        "      self.minutes += 1 #move the minute log to the next minute\n",
        "    \n",
        "    def add_new_customers(self, n):\n",
        "      for i in range(n):\n",
        "        self.customers.append(Customer(state=random.choice(first_choice), budget=random.randint(1, 100)))  #add customers to the list with a random budget between one and 100\n",
        "\n",
        "    def remove_existing_customers(self):\n",
        "      customers = self.customers\n",
        "      self.customers = [c for c in self.customers if c.is_active()] #return a list with the inactive customers removed (customers that have reached the checkout)\n",
        "    \n",
        "\n",
        "            \n",
        "\n"
      ]
    },
    {
      "cell_type": "code",
      "execution_count": null,
      "metadata": {
        "colab": {
          "base_uri": "https://localhost:8080/",
          "height": 943
        },
        "id": "V8R-laiDRl-i",
        "outputId": "e35ff650-38f6-4129-bc04-e00147544929"
      },
      "outputs": [
        {
          "name": "stdout",
          "output_type": "stream",
          "text": [
            "[]\n",
            "[<Customer 0 in spices>, <Customer 1 in fruit>, <Customer 2 in drinks>]\n",
            "[<Customer 0 in dairy>, <Customer 1 in checkout>, <Customer 2 in checkout>, <Customer 3 in dairy>, <Customer 4 in fruit>, <Customer 5 in spices>]\n",
            "[<Customer 0 in spices>, <Customer 3 in checkout>, <Customer 4 in spices>, <Customer 5 in drinks>, <Customer 6 in drinks>]\n",
            "[<Customer 0 in dairy>, <Customer 4 in fruit>, <Customer 5 in fruit>, <Customer 6 in checkout>, <Customer 7 in spices>, <Customer 8 in dairy>]\n",
            "[<Customer 0 in checkout>, <Customer 4 in dairy>, <Customer 5 in checkout>, <Customer 7 in fruit>, <Customer 8 in fruit>]\n",
            "[<Customer 4 in fruit>, <Customer 7 in checkout>, <Customer 8 in drinks>, <Customer 9 in dairy>, <Customer 10 in spices>]\n"
          ]
        },
        {
          "data": {
            "text/html": [
              "\n",
              "  <div id=\"df-2860246d-283f-4c1d-b640-f2b1aebd0770\">\n",
              "    <div class=\"colab-df-container\">\n",
              "      <div>\n",
              "<style scoped>\n",
              "    .dataframe tbody tr th:only-of-type {\n",
              "        vertical-align: middle;\n",
              "    }\n",
              "\n",
              "    .dataframe tbody tr th {\n",
              "        vertical-align: top;\n",
              "    }\n",
              "\n",
              "    .dataframe thead th {\n",
              "        text-align: right;\n",
              "    }\n",
              "</style>\n",
              "<table border=\"1\" class=\"dataframe\">\n",
              "  <thead>\n",
              "    <tr style=\"text-align: right;\">\n",
              "      <th></th>\n",
              "      <th>timestamp</th>\n",
              "      <th>customer_no</th>\n",
              "      <th>location</th>\n",
              "    </tr>\n",
              "  </thead>\n",
              "  <tbody>\n",
              "    <tr>\n",
              "      <th>0</th>\n",
              "      <td>0:1</td>\n",
              "      <td>0</td>\n",
              "      <td>spices</td>\n",
              "    </tr>\n",
              "    <tr>\n",
              "      <th>1</th>\n",
              "      <td>0:1</td>\n",
              "      <td>1</td>\n",
              "      <td>fruit</td>\n",
              "    </tr>\n",
              "    <tr>\n",
              "      <th>2</th>\n",
              "      <td>0:1</td>\n",
              "      <td>2</td>\n",
              "      <td>drinks</td>\n",
              "    </tr>\n",
              "    <tr>\n",
              "      <th>3</th>\n",
              "      <td>0:2</td>\n",
              "      <td>0</td>\n",
              "      <td>dairy</td>\n",
              "    </tr>\n",
              "    <tr>\n",
              "      <th>4</th>\n",
              "      <td>0:2</td>\n",
              "      <td>1</td>\n",
              "      <td>checkout</td>\n",
              "    </tr>\n",
              "    <tr>\n",
              "      <th>5</th>\n",
              "      <td>0:2</td>\n",
              "      <td>2</td>\n",
              "      <td>checkout</td>\n",
              "    </tr>\n",
              "    <tr>\n",
              "      <th>6</th>\n",
              "      <td>0:2</td>\n",
              "      <td>3</td>\n",
              "      <td>dairy</td>\n",
              "    </tr>\n",
              "    <tr>\n",
              "      <th>7</th>\n",
              "      <td>0:2</td>\n",
              "      <td>4</td>\n",
              "      <td>fruit</td>\n",
              "    </tr>\n",
              "    <tr>\n",
              "      <th>8</th>\n",
              "      <td>0:2</td>\n",
              "      <td>5</td>\n",
              "      <td>spices</td>\n",
              "    </tr>\n",
              "    <tr>\n",
              "      <th>9</th>\n",
              "      <td>0:3</td>\n",
              "      <td>0</td>\n",
              "      <td>spices</td>\n",
              "    </tr>\n",
              "    <tr>\n",
              "      <th>10</th>\n",
              "      <td>0:3</td>\n",
              "      <td>3</td>\n",
              "      <td>checkout</td>\n",
              "    </tr>\n",
              "    <tr>\n",
              "      <th>11</th>\n",
              "      <td>0:3</td>\n",
              "      <td>4</td>\n",
              "      <td>spices</td>\n",
              "    </tr>\n",
              "    <tr>\n",
              "      <th>12</th>\n",
              "      <td>0:3</td>\n",
              "      <td>5</td>\n",
              "      <td>drinks</td>\n",
              "    </tr>\n",
              "    <tr>\n",
              "      <th>13</th>\n",
              "      <td>0:3</td>\n",
              "      <td>6</td>\n",
              "      <td>drinks</td>\n",
              "    </tr>\n",
              "    <tr>\n",
              "      <th>14</th>\n",
              "      <td>0:4</td>\n",
              "      <td>0</td>\n",
              "      <td>dairy</td>\n",
              "    </tr>\n",
              "    <tr>\n",
              "      <th>15</th>\n",
              "      <td>0:4</td>\n",
              "      <td>4</td>\n",
              "      <td>fruit</td>\n",
              "    </tr>\n",
              "    <tr>\n",
              "      <th>16</th>\n",
              "      <td>0:4</td>\n",
              "      <td>5</td>\n",
              "      <td>fruit</td>\n",
              "    </tr>\n",
              "    <tr>\n",
              "      <th>17</th>\n",
              "      <td>0:4</td>\n",
              "      <td>6</td>\n",
              "      <td>checkout</td>\n",
              "    </tr>\n",
              "    <tr>\n",
              "      <th>18</th>\n",
              "      <td>0:4</td>\n",
              "      <td>7</td>\n",
              "      <td>spices</td>\n",
              "    </tr>\n",
              "    <tr>\n",
              "      <th>19</th>\n",
              "      <td>0:4</td>\n",
              "      <td>8</td>\n",
              "      <td>dairy</td>\n",
              "    </tr>\n",
              "    <tr>\n",
              "      <th>20</th>\n",
              "      <td>0:5</td>\n",
              "      <td>0</td>\n",
              "      <td>checkout</td>\n",
              "    </tr>\n",
              "    <tr>\n",
              "      <th>21</th>\n",
              "      <td>0:5</td>\n",
              "      <td>4</td>\n",
              "      <td>dairy</td>\n",
              "    </tr>\n",
              "    <tr>\n",
              "      <th>22</th>\n",
              "      <td>0:5</td>\n",
              "      <td>5</td>\n",
              "      <td>checkout</td>\n",
              "    </tr>\n",
              "    <tr>\n",
              "      <th>23</th>\n",
              "      <td>0:5</td>\n",
              "      <td>7</td>\n",
              "      <td>fruit</td>\n",
              "    </tr>\n",
              "    <tr>\n",
              "      <th>24</th>\n",
              "      <td>0:5</td>\n",
              "      <td>8</td>\n",
              "      <td>fruit</td>\n",
              "    </tr>\n",
              "  </tbody>\n",
              "</table>\n",
              "</div>\n",
              "      <button class=\"colab-df-convert\" onclick=\"convertToInteractive('df-2860246d-283f-4c1d-b640-f2b1aebd0770')\"\n",
              "              title=\"Convert this dataframe to an interactive table.\"\n",
              "              style=\"display:none;\">\n",
              "        \n",
              "  <svg xmlns=\"http://www.w3.org/2000/svg\" height=\"24px\"viewBox=\"0 0 24 24\"\n",
              "       width=\"24px\">\n",
              "    <path d=\"M0 0h24v24H0V0z\" fill=\"none\"/>\n",
              "    <path d=\"M18.56 5.44l.94 2.06.94-2.06 2.06-.94-2.06-.94-.94-2.06-.94 2.06-2.06.94zm-11 1L8.5 8.5l.94-2.06 2.06-.94-2.06-.94L8.5 2.5l-.94 2.06-2.06.94zm10 10l.94 2.06.94-2.06 2.06-.94-2.06-.94-.94-2.06-.94 2.06-2.06.94z\"/><path d=\"M17.41 7.96l-1.37-1.37c-.4-.4-.92-.59-1.43-.59-.52 0-1.04.2-1.43.59L10.3 9.45l-7.72 7.72c-.78.78-.78 2.05 0 2.83L4 21.41c.39.39.9.59 1.41.59.51 0 1.02-.2 1.41-.59l7.78-7.78 2.81-2.81c.8-.78.8-2.07 0-2.86zM5.41 20L4 18.59l7.72-7.72 1.47 1.35L5.41 20z\"/>\n",
              "  </svg>\n",
              "      </button>\n",
              "      \n",
              "  <style>\n",
              "    .colab-df-container {\n",
              "      display:flex;\n",
              "      flex-wrap:wrap;\n",
              "      gap: 12px;\n",
              "    }\n",
              "\n",
              "    .colab-df-convert {\n",
              "      background-color: #E8F0FE;\n",
              "      border: none;\n",
              "      border-radius: 50%;\n",
              "      cursor: pointer;\n",
              "      display: none;\n",
              "      fill: #1967D2;\n",
              "      height: 32px;\n",
              "      padding: 0 0 0 0;\n",
              "      width: 32px;\n",
              "    }\n",
              "\n",
              "    .colab-df-convert:hover {\n",
              "      background-color: #E2EBFA;\n",
              "      box-shadow: 0px 1px 2px rgba(60, 64, 67, 0.3), 0px 1px 3px 1px rgba(60, 64, 67, 0.15);\n",
              "      fill: #174EA6;\n",
              "    }\n",
              "\n",
              "    [theme=dark] .colab-df-convert {\n",
              "      background-color: #3B4455;\n",
              "      fill: #D2E3FC;\n",
              "    }\n",
              "\n",
              "    [theme=dark] .colab-df-convert:hover {\n",
              "      background-color: #434B5C;\n",
              "      box-shadow: 0px 1px 3px 1px rgba(0, 0, 0, 0.15);\n",
              "      filter: drop-shadow(0px 1px 2px rgba(0, 0, 0, 0.3));\n",
              "      fill: #FFFFFF;\n",
              "    }\n",
              "  </style>\n",
              "\n",
              "      <script>\n",
              "        const buttonEl =\n",
              "          document.querySelector('#df-2860246d-283f-4c1d-b640-f2b1aebd0770 button.colab-df-convert');\n",
              "        buttonEl.style.display =\n",
              "          google.colab.kernel.accessAllowed ? 'block' : 'none';\n",
              "\n",
              "        async function convertToInteractive(key) {\n",
              "          const element = document.querySelector('#df-2860246d-283f-4c1d-b640-f2b1aebd0770');\n",
              "          const dataTable =\n",
              "            await google.colab.kernel.invokeFunction('convertToInteractive',\n",
              "                                                     [key], {});\n",
              "          if (!dataTable) return;\n",
              "\n",
              "          const docLinkHtml = 'Like what you see? Visit the ' +\n",
              "            '<a target=\"_blank\" href=https://colab.research.google.com/notebooks/data_table.ipynb>data table notebook</a>'\n",
              "            + ' to learn more about interactive tables.';\n",
              "          element.innerHTML = '';\n",
              "          dataTable['output_type'] = 'display_data';\n",
              "          await google.colab.output.renderOutput(dataTable, element);\n",
              "          const docLink = document.createElement('div');\n",
              "          docLink.innerHTML = docLinkHtml;\n",
              "          element.appendChild(docLink);\n",
              "        }\n",
              "      </script>\n",
              "    </div>\n",
              "  </div>\n",
              "  "
            ],
            "text/plain": [
              "   timestamp customer_no  location\n",
              "0        0:1           0    spices\n",
              "1        0:1           1     fruit\n",
              "2        0:1           2    drinks\n",
              "3        0:2           0     dairy\n",
              "4        0:2           1  checkout\n",
              "5        0:2           2  checkout\n",
              "6        0:2           3     dairy\n",
              "7        0:2           4     fruit\n",
              "8        0:2           5    spices\n",
              "9        0:3           0    spices\n",
              "10       0:3           3  checkout\n",
              "11       0:3           4    spices\n",
              "12       0:3           5    drinks\n",
              "13       0:3           6    drinks\n",
              "14       0:4           0     dairy\n",
              "15       0:4           4     fruit\n",
              "16       0:4           5     fruit\n",
              "17       0:4           6  checkout\n",
              "18       0:4           7    spices\n",
              "19       0:4           8     dairy\n",
              "20       0:5           0  checkout\n",
              "21       0:5           4     dairy\n",
              "22       0:5           5  checkout\n",
              "23       0:5           7     fruit\n",
              "24       0:5           8     fruit"
            ]
          },
          "execution_count": 125,
          "metadata": {},
          "output_type": "execute_result"
        }
      ],
      "source": [
        "\n",
        " sup = Supermarket()\n",
        " print(sup)\n",
        " sup.next_minute()\n",
        " print(sup)\n",
        " sup.next_minute()\n",
        " print(sup)\n",
        " sup.next_minute()\n",
        " print(sup)\n",
        " sup.next_minute()\n",
        " print(sup)\n",
        " sup.next_minute()\n",
        " print(sup)\n",
        " sup.next_minute()\n",
        " print(sup)\n",
        "sup.data\n"
      ]
    },
    {
      "cell_type": "code",
      "execution_count": null,
      "metadata": {
        "colab": {
          "base_uri": "https://localhost:8080/",
          "height": 333
        },
        "id": "HNUZ-fwhH4kt",
        "outputId": "a5f8f844-e04e-4110-e502-d8de562e281b"
      },
      "outputs": [
        {
          "data": {
            "text/plain": [
              "(array([ 825.,    0., 1163.,    0.,    0., 1684.,    0.,  859.,    0.,\n",
              "        1052.]),\n",
              " array([0. , 0.4, 0.8, 1.2, 1.6, 2. , 2.4, 2.8, 3.2, 3.6, 4. ]),\n",
              " <a list of 10 Patch objects>)"
            ]
          },
          "execution_count": 132,
          "metadata": {},
          "output_type": "execute_result"
        },
        {
          "data": {
            "image/png": "[encoded data removed]",
            "text/plain": [
              "<Figure size 432x288 with 1 Axes>"
            ]
          },
          "metadata": {
            "needs_background": "light"
          },
          "output_type": "display_data"
        }
      ],
      "source": [
        "\n",
        "sup = Supermarket()\n",
        "for x in range(1000):\n",
        "  sup.next_minute()\n",
        "sup.data\n",
        "plt.hist(sup.data['location'])"
      ]
    },
    {
      "cell_type": "code",
      "execution_count": null,
      "metadata": {
        "colab": {
          "base_uri": "https://localhost:8080/"
        },
        "id": "Bltx1zjdgEso",
        "outputId": "aaa92110-686d-44fc-84f5-5143729b2b62"
      },
      "outputs": [
        {
          "name": "stdout",
          "output_type": "stream",
          "text": [
            "checkout    0.298147\n",
            "fruit       0.205893\n",
            "dairy       0.188085\n",
            "drinks      0.156972\n",
            "spices      0.150902\n",
            "Name: location, dtype: float64\n"
          ]
        }
      ],
      "source": [
        "counts_original = df_full['location'].value_counts()\n",
        "print(counts_original / len(df_full))"
      ]
    },
    {
      "cell_type": "code",
      "execution_count": null,
      "metadata": {
        "colab": {
          "base_uri": "https://localhost:8080/"
        },
        "id": "j5cIZfRjGasW",
        "outputId": "8bff114c-3479-465f-c1b0-db73631c04de"
      },
      "outputs": [
        {
          "name": "stdout",
          "output_type": "stream",
          "text": [
            "checkout    0.301630\n",
            "fruit       0.208311\n",
            "dairy       0.188429\n",
            "drinks      0.153860\n",
            "spices      0.147770\n",
            "Name: location, dtype: float64\n"
          ]
        }
      ],
      "source": [
        "counts_model = sup.data['location'].value_counts()\n",
        "print(counts_model / len(sup.data))"
      ]
    }
  ],
  "metadata": {
    "colab": {
      "collapsed_sections": [],
      "name": "project8.ipynb",
      "provenance": []
    },
    "kernelspec": {
      "display_name": "Python 3.8.9 64-bit",
      "language": "python",
      "name": "python3"
    },
    "language_info": {
      "name": "python",
      "version": "3.8.9"
    },
    "orig_nbformat": 4,
    "vscode": {
      "interpreter": {
        "hash": "31f2aee4e71d21fbe5cf8b01ff0e069b9275f58929596ceb00d14d90e3e16cd6"
      }
    }
  },
  "nbformat": 4,
  "nbformat_minor": 0
}
