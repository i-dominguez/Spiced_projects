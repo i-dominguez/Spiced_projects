{
 "cells": [
  {
   "cell_type": "markdown",
   "id": "6f389198",
   "metadata": {},
   "source": [
    "## Importing librairies"
   ]
  },
  {
   "cell_type": "code",
   "execution_count": 1,
   "id": "b9ba9220",
   "metadata": {},
   "outputs": [
    {
     "name": "stdout",
     "output_type": "stream",
     "text": [
      "Init Plugin\n",
      "Init Graph Optimizer\n",
      "Init Kernel\n"
     ]
    }
   ],
   "source": [
    "from matplotlib import pyplot as plt\n",
    "import numpy as np\n",
    "import pandas as pd\n",
    "\n",
    "import pandas as pd\n",
    "import sklearn as sk\n",
    "import tensorflow as tf\n",
    "import cv2\n",
    "from tensorflow.keras.models import Sequential\n",
    "from tensorflow.keras.layers import Conv2D, Dense, MaxPooling2D, Activation, Flatten\n",
    "from tensorflow.keras import models, layers\n",
    "from tensorflow.keras.preprocessing import image\n",
    "from tensorflow.image import resize\n",
    "from sklearn.metrics import confusion_matrix\n",
    "import itertools\n",
    "\n",
    "from tensorflow.keras.utils import to_categorical\n",
    "from sklearn.model_selection import train_test_split\n",
    "from tensorflow.keras.optimizers import Adam\n",
    "import keras_tuner as kt\n",
    "from tensorflow import keras"
   ]
  },
  {
   "cell_type": "markdown",
   "id": "0a690c7f",
   "metadata": {},
   "source": [
    "## Load dataset"
   ]
  },
  {
   "cell_type": "code",
   "execution_count": 2,
   "id": "90a6b7c2",
   "metadata": {},
   "outputs": [],
   "source": [
    "# We need to resize the images, since some of them are not of the same size.\n",
    "\n",
    "def image_resizing(image_path):\n",
    "    \"\"\"\n",
    "    This function resizes an input image to 224 X 224\n",
    "    \"\"\"\n",
    "    img = image.load_img(image_path, target_size=(224,224))\n",
    "    return img"
   ]
  },
  {
   "cell_type": "code",
   "execution_count": 3,
   "id": "8080d638",
   "metadata": {},
   "outputs": [],
   "source": [
    "image1 = image_resizing(\"/Users/ivandominguez/Desktop/Spiced_Academy/spiced_projects/week_09/image/Apples/IMG-20220822-WA0037.jpg\")"
   ]
  },
  {
   "cell_type": "code",
   "execution_count": 4,
   "id": "b1138cdd",
   "metadata": {
    "scrolled": true
   },
   "outputs": [],
   "source": [
    "image1 = image.img_to_array(image1)"
   ]
  },
  {
   "cell_type": "code",
   "execution_count": 5,
   "id": "985029b5",
   "metadata": {},
   "outputs": [
    {
     "data": {
      "text/plain": [
       "(224, 224, 3)"
      ]
     },
     "execution_count": 5,
     "metadata": {},
     "output_type": "execute_result"
    }
   ],
   "source": [
    "image1.shape"
   ]
  },
  {
   "cell_type": "code",
   "execution_count": 6,
   "id": "dc0219e6",
   "metadata": {},
   "outputs": [],
   "source": [
    "from PIL import Image\n",
    "file_name = \"/Users/ivandominguez/Desktop/Spiced_Academy/spiced_projects/week_09/\" + \"image1.jpg\""
   ]
  },
  {
   "cell_type": "code",
   "execution_count": 7,
   "id": "a1ece3b0",
   "metadata": {},
   "outputs": [],
   "source": [
    "image = Image.open(file_name)"
   ]
  },
  {
   "cell_type": "code",
   "execution_count": 8,
   "id": "92516b16",
   "metadata": {},
   "outputs": [
    {
     "name": "stderr",
     "output_type": "stream",
     "text": [
      "/var/folders/6q/d0nc29t17r9cswkymm15cjkr0000gn/T/ipykernel_5338/3363259229.py:1: DeprecationWarning: ANTIALIAS is deprecated and will be removed in Pillow 10 (2023-07-01). Use Resampling.LANCZOS instead.\n",
      "  np.array(image.resize((100,100), Image.ANTIALIAS)).shape\n"
     ]
    },
    {
     "data": {
      "text/plain": [
       "(100, 100, 3)"
      ]
     },
     "execution_count": 8,
     "metadata": {},
     "output_type": "execute_result"
    }
   ],
   "source": [
    "np.array(image.resize((100,100), Image.ANTIALIAS)).shape"
   ]
  },
  {
   "cell_type": "code",
   "execution_count": 9,
   "id": "c6a5c9b3",
   "metadata": {},
   "outputs": [
    {
     "name": "stderr",
     "output_type": "stream",
     "text": [
      "/var/folders/6q/d0nc29t17r9cswkymm15cjkr0000gn/T/ipykernel_5338/3747314774.py:17: DeprecationWarning: ANTIALIAS is deprecated and will be removed in Pillow 10 (2023-07-01). Use Resampling.LANCZOS instead.\n",
      "  img = img.resize((224,224), Image.ANTIALIAS)\n"
     ]
    }
   ],
   "source": [
    "import os\n",
    "from tensorflow.keras.preprocessing.image import load_img\n",
    "from PIL import Image\n",
    "\n",
    "X = []\n",
    "y = []\n",
    "classes = ['Apples','Kiwis', 'Pears', 'Oranges']\n",
    "base_path = '/Users/ivandominguez/Desktop/Spiced_Academy/spiced_projects/week_09/train_images/'\n",
    "\n",
    "for i, target in enumerate(classes):\n",
    "    files = os.listdir(base_path+target)\n",
    "    for file in files:\n",
    "        if file.endswith('.png'):\n",
    "            # load the image\n",
    "            img = Image.open(base_path + target  + '/' + file)\n",
    "            ## Reshape to miror a set of: (images, w,h,channels)\n",
    "            img = img.resize((224,224), Image.ANTIALIAS)\n",
    "            img = np.array(img)\n",
    "\n",
    "#        creating labels\n",
    "        if target == 'Apples':\n",
    "             fruit = 0\n",
    "        elif target == 'Kiwis':\n",
    "             fruit = 1\n",
    "        elif target == 'Pears':\n",
    "             fruit = 2\n",
    "        elif target == 'Oranges':\n",
    "             fruit = 3\n",
    "        X.append(img)\n",
    "        y.append(fruit)\n",
    "        \n",
    "X = np.array(X)\n",
    "y = np.array(y)"
   ]
  },
  {
   "cell_type": "code",
   "execution_count": 10,
   "id": "92383d62",
   "metadata": {},
   "outputs": [
    {
     "data": {
      "text/plain": [
       "((682, 224, 224, 3), (682,))"
      ]
     },
     "execution_count": 10,
     "metadata": {},
     "output_type": "execute_result"
    }
   ],
   "source": [
    "X.shape, y.shape"
   ]
  },
  {
   "cell_type": "code",
   "execution_count": 11,
   "id": "a2cc596d",
   "metadata": {},
   "outputs": [
    {
     "data": {
      "text/plain": [
       "array([[[[ 38,  46,  52],\n",
       "         [ 40,  46,  53],\n",
       "         [ 40,  46,  53],\n",
       "         ...,\n",
       "         [ 64,  73,  79],\n",
       "         [ 64,  73,  79],\n",
       "         [ 66,  74,  80]],\n",
       "\n",
       "        [[ 39,  47,  53],\n",
       "         [ 40,  46,  53],\n",
       "         [ 40,  46,  53],\n",
       "         ...,\n",
       "         [ 61,  69,  75],\n",
       "         [ 67,  75,  81],\n",
       "         [ 67,  75,  81]],\n",
       "\n",
       "        [[ 42,  48,  54],\n",
       "         [ 42,  48,  54],\n",
       "         [ 42,  48,  54],\n",
       "         ...,\n",
       "         [ 66,  72,  79],\n",
       "         [ 67,  73,  80],\n",
       "         [ 68,  74,  81]],\n",
       "\n",
       "        ...,\n",
       "\n",
       "        [[ 25,  26,  25],\n",
       "         [ 29,  29,  31],\n",
       "         [ 28,  31,  32],\n",
       "         ...,\n",
       "         [ 54,  51,  54],\n",
       "         [ 58,  58,  60],\n",
       "         [ 62,  61,  63]],\n",
       "\n",
       "        [[ 31,  32,  31],\n",
       "         [ 34,  34,  36],\n",
       "         [ 28,  31,  32],\n",
       "         ...,\n",
       "         [ 65,  63,  66],\n",
       "         [ 61,  58,  61],\n",
       "         [ 61,  58,  61]],\n",
       "\n",
       "        [[ 34,  34,  34],\n",
       "         [ 31,  31,  33],\n",
       "         [ 27,  30,  31],\n",
       "         ...,\n",
       "         [ 62,  59,  62],\n",
       "         [ 61,  58,  61],\n",
       "         [ 61,  58,  61]]],\n",
       "\n",
       "\n",
       "       [[[213, 213, 204],\n",
       "         [211, 210, 201],\n",
       "         [212, 212, 202],\n",
       "         ...,\n",
       "         [ 61,  57,  56],\n",
       "         [ 56,  54,  52],\n",
       "         [ 53,  51,  49]],\n",
       "\n",
       "        [[216, 215, 206],\n",
       "         [213, 213, 204],\n",
       "         [211, 210, 201],\n",
       "         ...,\n",
       "         [ 61,  57,  56],\n",
       "         [ 56,  54,  52],\n",
       "         [ 53,  51,  49]],\n",
       "\n",
       "        [[214, 214, 205],\n",
       "         [213, 213, 204],\n",
       "         [211, 210, 201],\n",
       "         ...,\n",
       "         [ 62,  58,  57],\n",
       "         [ 56,  54,  52],\n",
       "         [ 53,  51,  49]],\n",
       "\n",
       "        ...,\n",
       "\n",
       "        [[ 12,  14,  20],\n",
       "         [ 12,  14,  20],\n",
       "         [ 13,  15,  21],\n",
       "         ...,\n",
       "         [ 18,  15,  18],\n",
       "         [ 21,  19,  20],\n",
       "         [ 26,  24,  24]],\n",
       "\n",
       "        [[ 12,  13,  22],\n",
       "         [ 14,  13,  22],\n",
       "         [ 15,  14,  21],\n",
       "         ...,\n",
       "         [ 18,  15,  18],\n",
       "         [ 20,  18,  18],\n",
       "         [ 25,  23,  23]],\n",
       "\n",
       "        [[ 12,  13,  22],\n",
       "         [ 14,  13,  22],\n",
       "         [ 15,  14,  21],\n",
       "         ...,\n",
       "         [ 19,  16,  19],\n",
       "         [ 20,  18,  18],\n",
       "         [ 24,  21,  22]]],\n",
       "\n",
       "\n",
       "       [[[147, 142, 130],\n",
       "         [140, 135, 123],\n",
       "         [135, 130, 118],\n",
       "         ...,\n",
       "         [ 50,  45,  44],\n",
       "         [ 50,  45,  44],\n",
       "         [ 50,  45,  44]],\n",
       "\n",
       "        [[146, 144, 131],\n",
       "         [139, 137, 124],\n",
       "         [136, 134, 118],\n",
       "         ...,\n",
       "         [ 50,  45,  44],\n",
       "         [ 50,  45,  44],\n",
       "         [ 50,  45,  44]],\n",
       "\n",
       "        [[146, 144, 131],\n",
       "         [144, 142, 129],\n",
       "         [142, 140, 124],\n",
       "         ...,\n",
       "         [ 50,  45,  44],\n",
       "         [ 50,  45,  44],\n",
       "         [ 50,  45,  44]],\n",
       "\n",
       "        ...,\n",
       "\n",
       "        [[ 89,  91,  95],\n",
       "         [ 86,  88,  91],\n",
       "         [ 84,  86,  90],\n",
       "         ...,\n",
       "         [120, 120, 118],\n",
       "         [117, 118, 115],\n",
       "         [112, 112, 110]],\n",
       "\n",
       "        [[ 89,  91,  95],\n",
       "         [ 86,  88,  91],\n",
       "         [ 82,  84,  88],\n",
       "         ...,\n",
       "         [118, 116, 114],\n",
       "         [117, 115, 113],\n",
       "         [115, 114, 112]],\n",
       "\n",
       "        [[ 89,  91,  95],\n",
       "         [ 86,  88,  91],\n",
       "         [ 83,  85,  89],\n",
       "         ...,\n",
       "         [105, 103, 101],\n",
       "         [109, 107, 105],\n",
       "         [109, 107, 105]]],\n",
       "\n",
       "\n",
       "       ...,\n",
       "\n",
       "\n",
       "       [[[218, 217, 208],\n",
       "         [216, 215, 208],\n",
       "         [211, 210, 203],\n",
       "         ...,\n",
       "         [201, 198, 188],\n",
       "         [202, 200, 189],\n",
       "         [202, 199, 191]],\n",
       "\n",
       "        [[218, 217, 208],\n",
       "         [217, 216, 207],\n",
       "         [203, 202, 193],\n",
       "         ...,\n",
       "         [202, 200, 189],\n",
       "         [202, 200, 189],\n",
       "         [202, 199, 191]],\n",
       "\n",
       "        [[218, 217, 208],\n",
       "         [216, 215, 206],\n",
       "         [205, 205, 195],\n",
       "         ...,\n",
       "         [202, 199, 191],\n",
       "         [202, 199, 191],\n",
       "         [202, 199, 191]],\n",
       "\n",
       "        ...,\n",
       "\n",
       "        [[144,  99,  82],\n",
       "         [145, 100,  83],\n",
       "         [146, 101,  87],\n",
       "         ...,\n",
       "         [ 11,  11,  13],\n",
       "         [ 11,  12,  11],\n",
       "         [ 11,  12,  11]],\n",
       "\n",
       "        [[150, 105,  88],\n",
       "         [152, 107,  92],\n",
       "         [154, 109,  95],\n",
       "         ...,\n",
       "         [ 11,  11,  13],\n",
       "         [ 11,  12,  11],\n",
       "         [ 11,  12,  11]],\n",
       "\n",
       "        [[155, 113,  95],\n",
       "         [156, 114,  98],\n",
       "         [156, 114,  98],\n",
       "         ...,\n",
       "         [ 11,  11,  13],\n",
       "         [ 11,  12,  11],\n",
       "         [ 11,  12,  11]]],\n",
       "\n",
       "\n",
       "       [[[ 40,  42,  46],\n",
       "         [ 41,  43,  47],\n",
       "         [ 38,  40,  43],\n",
       "         ...,\n",
       "         [ 29,  28,  24],\n",
       "         [ 30,  29,  25],\n",
       "         [ 30,  29,  27]],\n",
       "\n",
       "        [[ 40,  42,  44],\n",
       "         [ 42,  45,  46],\n",
       "         [ 40,  42,  44],\n",
       "         ...,\n",
       "         [ 30,  29,  25],\n",
       "         [ 30,  29,  25],\n",
       "         [ 32,  30,  28]],\n",
       "\n",
       "        [[ 41,  41,  43],\n",
       "         [ 42,  42,  44],\n",
       "         [ 40,  42,  44],\n",
       "         ...,\n",
       "         [ 30,  29,  25],\n",
       "         [ 32,  30,  26],\n",
       "         [ 33,  31,  29]],\n",
       "\n",
       "        ...,\n",
       "\n",
       "        [[ 52,  54,  55],\n",
       "         [ 52,  54,  55],\n",
       "         [ 51,  53,  54],\n",
       "         ...,\n",
       "         [ 94, 100,  98],\n",
       "         [ 96, 101,  99],\n",
       "         [ 98, 103, 101]],\n",
       "\n",
       "        [[ 53,  55,  56],\n",
       "         [ 51,  53,  54],\n",
       "         [ 49,  52,  53],\n",
       "         ...,\n",
       "         [110, 115, 113],\n",
       "         [ 96, 101,  99],\n",
       "         [ 97, 102, 100]],\n",
       "\n",
       "        [[ 56,  59,  58],\n",
       "         [ 53,  55,  56],\n",
       "         [ 51,  53,  54],\n",
       "         ...,\n",
       "         [117, 122, 120],\n",
       "         [ 96, 101,  99],\n",
       "         [ 92,  97,  95]]],\n",
       "\n",
       "\n",
       "       [[[223, 222, 215],\n",
       "         [219, 218, 211],\n",
       "         [216, 218, 210],\n",
       "         ...,\n",
       "         [203, 200, 194],\n",
       "         [203, 202, 193],\n",
       "         [203, 202, 193]],\n",
       "\n",
       "        [[223, 222, 215],\n",
       "         [219, 218, 211],\n",
       "         [209, 211, 203],\n",
       "         ...,\n",
       "         [203, 200, 192],\n",
       "         [203, 202, 193],\n",
       "         [204, 203, 194]],\n",
       "\n",
       "        [[221, 221, 214],\n",
       "         [220, 219, 213],\n",
       "         [202, 201, 194],\n",
       "         ...,\n",
       "         [203, 200, 192],\n",
       "         [206, 203, 194],\n",
       "         [203, 200, 192]],\n",
       "\n",
       "        ...,\n",
       "\n",
       "        [[163, 114, 101],\n",
       "         [164, 115, 102],\n",
       "         [164, 115, 102],\n",
       "         ...,\n",
       "         [ 11,  11,  15],\n",
       "         [ 11,  11,  15],\n",
       "         [ 11,  11,  15]],\n",
       "\n",
       "        [[162, 112,  99],\n",
       "         [162, 112,  99],\n",
       "         [163, 114, 101],\n",
       "         ...,\n",
       "         [ 11,  11,  15],\n",
       "         [ 11,  11,  15],\n",
       "         [ 11,  11,  15]],\n",
       "\n",
       "        [[161, 111,  98],\n",
       "         [162, 112,  99],\n",
       "         [163, 114, 101],\n",
       "         ...,\n",
       "         [ 11,  11,  13],\n",
       "         [ 11,  11,  13],\n",
       "         [ 11,  11,  15]]]], dtype=uint8)"
      ]
     },
     "execution_count": 11,
     "metadata": {},
     "output_type": "execute_result"
    }
   ],
   "source": [
    "X"
   ]
  },
  {
   "cell_type": "code",
   "execution_count": 12,
   "id": "2f77edff",
   "metadata": {},
   "outputs": [],
   "source": [
    "# train test split\n",
    "xtrain, xtest, ytrain, ytest = train_test_split(X, y, test_size=0.3, random_state=42)"
   ]
  },
  {
   "cell_type": "code",
   "execution_count": 13,
   "id": "22cd2c6d",
   "metadata": {},
   "outputs": [
    {
     "data": {
      "text/plain": [
       "((477, 224, 224, 3), (205, 224, 224, 3), (477,), (205,))"
      ]
     },
     "execution_count": 13,
     "metadata": {},
     "output_type": "execute_result"
    }
   ],
   "source": [
    "xtrain.shape,xtest.shape,ytrain.shape,ytest.shape"
   ]
  },
  {
   "cell_type": "code",
   "execution_count": 14,
   "id": "61eeb5e6",
   "metadata": {},
   "outputs": [
    {
     "data": {
      "text/plain": [
       "((477, 224, 224, 3), (477,))"
      ]
     },
     "execution_count": 14,
     "metadata": {},
     "output_type": "execute_result"
    }
   ],
   "source": [
    "xtrain.shape,ytrain.shape"
   ]
  },
  {
   "cell_type": "code",
   "execution_count": 15,
   "id": "876c2cd8",
   "metadata": {},
   "outputs": [
    {
     "data": {
      "text/plain": [
       "(477, 4)"
      ]
     },
     "execution_count": 15,
     "metadata": {},
     "output_type": "execute_result"
    }
   ],
   "source": [
    "to_categorical(ytrain).shape"
   ]
  },
  {
   "cell_type": "code",
   "execution_count": 16,
   "id": "9af093c4",
   "metadata": {
    "scrolled": true
   },
   "outputs": [
    {
     "data": {
      "text/plain": [
       "array([0, 2, 2, 0, 2, 3, 2, 0, 0, 0, 1, 2, 1, 3, 1, 1, 0, 1, 1, 0, 2, 1,\n",
       "       0, 0, 3, 1, 3, 3, 2, 0, 2, 2, 2, 2, 0, 0, 3, 3, 0, 3, 1, 2, 1, 3,\n",
       "       0, 0, 2, 1, 0, 2, 0, 0, 2, 0, 1, 0, 1, 0, 3, 0, 2, 2, 1, 0, 3, 1,\n",
       "       3, 1, 0, 1, 1, 1, 1, 3, 0, 2, 1, 3, 2, 1, 2, 0, 1, 0, 3, 3, 0, 2,\n",
       "       2, 3, 0, 2, 3, 3, 0, 1, 0, 0, 2, 3, 0, 3, 2, 3, 1, 3, 0, 0, 2, 0,\n",
       "       0, 3, 1, 3, 0, 1, 0, 2, 0, 2, 2, 1, 1, 2, 1, 0, 0, 2, 1, 0, 1, 0,\n",
       "       1, 0, 2, 1, 1, 0, 2, 1, 1, 2, 3, 0, 2, 3, 3, 0, 0, 1, 3, 2, 2, 2,\n",
       "       3, 0, 0, 3, 2, 3, 0, 0, 3, 3, 0, 2, 2, 1, 3, 1, 2, 1, 2, 1, 0, 2,\n",
       "       1, 0, 1, 1, 0, 0, 1, 3, 2, 1, 0, 3, 2, 0, 3, 3, 2, 2, 3, 3, 3, 0,\n",
       "       2, 0, 2, 0, 1, 0, 3, 1, 2, 3, 2, 0, 3, 2, 1, 2, 2, 0, 3, 2, 0, 0,\n",
       "       2, 3, 0, 0, 0, 2, 3, 0, 3, 2, 2, 2, 0, 2, 0, 0, 1, 1, 2, 2, 1, 0,\n",
       "       0, 2, 2, 3, 1, 3, 1, 2, 0, 2, 2, 1, 3, 1, 3, 0, 0, 2, 2, 1, 0, 1,\n",
       "       2, 0, 2, 3, 2, 2, 2, 3, 0, 2, 1, 2, 1, 0, 0, 3, 0, 0, 1, 2, 2, 2,\n",
       "       0, 1, 1, 1, 1, 1, 2, 0, 0, 0, 2, 1, 1, 2, 0, 2, 3, 0, 3, 0, 0, 2,\n",
       "       2, 2, 1, 3, 2, 3, 2, 2, 3, 2, 1, 2, 2, 0, 1, 3, 1, 1, 2, 1, 2, 3,\n",
       "       1, 1, 1, 2, 2, 1, 3, 2, 2, 1, 2, 3, 3, 3, 0, 1, 0, 2, 0, 2, 0, 3,\n",
       "       3, 3, 0, 1, 2, 2, 3, 0, 2, 2, 3, 1, 0, 3, 2, 0, 2, 2, 0, 0, 0, 0,\n",
       "       0, 3, 1, 2, 2, 1, 2, 2, 2, 0, 0, 2, 0, 3, 2, 0, 0, 0, 0, 2, 2, 0,\n",
       "       1, 0, 1, 1, 1, 2, 2, 3, 1, 0, 0, 2, 2, 2, 0, 3, 2, 0, 3, 3, 0, 0,\n",
       "       0, 2, 2, 2, 1, 0, 1, 3, 1, 1, 0, 1, 3, 2, 1, 0, 3, 2, 3, 2, 1, 3,\n",
       "       3, 0, 2, 2, 0, 2, 3, 1, 0, 1, 2, 0, 1, 0, 2, 2, 2, 1, 1, 3, 0, 3,\n",
       "       0, 1, 0, 2, 1, 1, 2, 0, 3, 0, 0, 0, 1, 2, 0])"
      ]
     },
     "execution_count": 16,
     "metadata": {},
     "output_type": "execute_result"
    }
   ],
   "source": [
    "ytrain"
   ]
  },
  {
   "cell_type": "markdown",
   "id": "e4f28500",
   "metadata": {},
   "source": [
    "# CNN (Convolutional Neural Network)"
   ]
  },
  {
   "cell_type": "code",
   "execution_count": 17,
   "id": "d9be368e",
   "metadata": {},
   "outputs": [
    {
     "name": "stdout",
     "output_type": "stream",
     "text": [
      "Metal device set to: Apple M1 Pro\n"
     ]
    },
    {
     "name": "stderr",
     "output_type": "stream",
     "text": [
      "2022-08-26 15:28:58.461529: I tensorflow/core/common_runtime/pluggable_device/pluggable_device_factory.cc:305] Could not identify NUMA node of platform GPU ID 0, defaulting to 0. Your kernel may not have been built with NUMA support.\n",
      "2022-08-26 15:28:58.461647: I tensorflow/core/common_runtime/pluggable_device/pluggable_device_factory.cc:271] Created TensorFlow device (/job:localhost/replica:0/task:0/device:GPU:0 with 0 MB memory) -> physical PluggableDevice (device: 0, name: METAL, pci bus id: <undefined>)\n"
     ]
    }
   ],
   "source": [
    "from tensorflow.keras import backend as K\n",
    "K.clear_session()\n",
    "model = Sequential([\n",
    "    Conv2D(filters=6,kernel_size=(3,3),strides=(1,1),padding='same',activation='relu',input_shape=(224,224,3)),\n",
    "    MaxPooling2D(pool_size=(2,2),strides=2),\n",
    "    \n",
    "    Conv2D(filters=16,kernel_size=(3,3),strides=(1,1),padding='same',activation='relu'),\n",
    "    MaxPooling2D(pool_size=(2,2),strides=2),\n",
    "\n",
    "    Flatten(),\n",
    "    \n",
    "    Dense(units=100,activation='relu'),\n",
    "    \n",
    "    Dense(units=4,activation='softmax')\n",
    "])"
   ]
  },
  {
   "cell_type": "code",
   "execution_count": 18,
   "id": "16a3028a",
   "metadata": {},
   "outputs": [
    {
     "name": "stdout",
     "output_type": "stream",
     "text": [
      "Model: \"sequential\"\n",
      "_________________________________________________________________\n",
      "Layer (type)                 Output Shape              Param #   \n",
      "=================================================================\n",
      "conv2d (Conv2D)              (None, 224, 224, 6)       168       \n",
      "_________________________________________________________________\n",
      "max_pooling2d (MaxPooling2D) (None, 112, 112, 6)       0         \n",
      "_________________________________________________________________\n",
      "conv2d_1 (Conv2D)            (None, 112, 112, 16)      880       \n",
      "_________________________________________________________________\n",
      "max_pooling2d_1 (MaxPooling2 (None, 56, 56, 16)        0         \n",
      "_________________________________________________________________\n",
      "flatten (Flatten)            (None, 50176)             0         \n",
      "_________________________________________________________________\n",
      "dense (Dense)                (None, 100)               5017700   \n",
      "_________________________________________________________________\n",
      "dense_1 (Dense)              (None, 4)                 404       \n",
      "=================================================================\n",
      "Total params: 5,019,152\n",
      "Trainable params: 5,019,152\n",
      "Non-trainable params: 0\n",
      "_________________________________________________________________\n"
     ]
    }
   ],
   "source": [
    "model.summary()"
   ]
  },
  {
   "cell_type": "code",
   "execution_count": 19,
   "id": "4c218d48",
   "metadata": {},
   "outputs": [],
   "source": [
    "model.compile(optimizer='rmsprop',loss='categorical_crossentropy',metrics=['accuracy'])"
   ]
  },
  {
   "cell_type": "code",
   "execution_count": 20,
   "id": "4408cda5",
   "metadata": {
    "scrolled": true
   },
   "outputs": [
    {
     "name": "stdout",
     "output_type": "stream",
     "text": [
      "Epoch 1/10\n"
     ]
    },
    {
     "name": "stderr",
     "output_type": "stream",
     "text": [
      "2022-08-26 15:28:58.552810: I tensorflow/compiler/mlir/mlir_graph_optimization_pass.cc:176] None of the MLIR Optimization Passes are enabled (registered 2)\n",
      "2022-08-26 15:28:58.553028: W tensorflow/core/platform/profile_utils/cpu_utils.cc:128] Failed to get CPU frequency: 0 Hz\n",
      "2022-08-26 15:28:58.731123: I tensorflow/core/grappler/optimizers/custom_graph_optimizer_registry.cc:112] Plugin optimizer for device_type GPU is enabled.\n"
     ]
    },
    {
     "name": "stdout",
     "output_type": "stream",
     "text": [
      "11/11 [==============================] - 1s 73ms/step - loss: 2238.8855 - accuracy: 0.3003 - val_loss: 265.1600 - val_accuracy: 0.3472\n",
      "Epoch 2/10\n",
      " 1/11 [=>............................] - ETA: 0s - loss: 148.8983 - accuracy: 0.5625"
     ]
    },
    {
     "name": "stderr",
     "output_type": "stream",
     "text": [
      "2022-08-26 15:28:59.509916: I tensorflow/core/grappler/optimizers/custom_graph_optimizer_registry.cc:112] Plugin optimizer for device_type GPU is enabled.\n"
     ]
    },
    {
     "name": "stdout",
     "output_type": "stream",
     "text": [
      "11/11 [==============================] - 1s 53ms/step - loss: 289.8398 - accuracy: 0.3213 - val_loss: 59.9255 - val_accuracy: 0.4097\n",
      "Epoch 3/10\n",
      "11/11 [==============================] - 1s 53ms/step - loss: 117.9739 - accuracy: 0.3904 - val_loss: 21.4623 - val_accuracy: 0.6528\n",
      "Epoch 4/10\n",
      "11/11 [==============================] - 1s 52ms/step - loss: 39.5258 - accuracy: 0.6066 - val_loss: 5.8736 - val_accuracy: 0.7639\n",
      "Epoch 5/10\n",
      "11/11 [==============================] - 1s 51ms/step - loss: 12.7841 - accuracy: 0.7958 - val_loss: 3.5497 - val_accuracy: 0.8194\n",
      "Epoch 6/10\n",
      "11/11 [==============================] - 1s 51ms/step - loss: 0.4436 - accuracy: 0.9640 - val_loss: 3.9611 - val_accuracy: 0.8472\n",
      "Epoch 7/10\n",
      "11/11 [==============================] - 1s 51ms/step - loss: 18.3550 - accuracy: 0.7838 - val_loss: 9.7260 - val_accuracy: 0.6250\n",
      "Epoch 8/10\n",
      "11/11 [==============================] - 1s 51ms/step - loss: 0.9358 - accuracy: 0.9099 - val_loss: 1.4462 - val_accuracy: 0.9028\n",
      "Epoch 9/10\n",
      "11/11 [==============================] - 1s 51ms/step - loss: 0.1461 - accuracy: 0.9850 - val_loss: 1.0388 - val_accuracy: 0.8958\n",
      "Epoch 10/10\n",
      "11/11 [==============================] - 1s 53ms/step - loss: 0.1529 - accuracy: 0.9640 - val_loss: 1.0599 - val_accuracy: 0.9097\n"
     ]
    }
   ],
   "source": [
    "accuracy_metrics = model.fit(xtrain,to_categorical(ytrain),batch_size=32,epochs=10,validation_split=0.3)"
   ]
  },
  {
   "cell_type": "code",
   "execution_count": 21,
   "id": "24aeb792",
   "metadata": {},
   "outputs": [
    {
     "data": {
      "text/plain": [
       "<matplotlib.legend.Legend at 0x2aac3d820>"
      ]
     },
     "execution_count": 21,
     "metadata": {},
     "output_type": "execute_result"
    },
    {
     "data": {
      "image/png": "[encoded data removed]",
      "text/plain": [
       "<Figure size 432x288 with 1 Axes>"
      ]
     },
     "metadata": {
      "needs_background": "light"
     },
     "output_type": "display_data"
    }
   ],
   "source": [
    "from matplotlib import pyplot as plt\n",
    "plt.plot(accuracy_metrics.history['accuracy'],label='train_accuracy')\n",
    "plt.plot(accuracy_metrics.history['val_accuracy'],label='val_acuracy')\n",
    "plt.xlabel('epochs')\n",
    "plt.ylabel('accuracy')\n",
    "plt.legend()"
   ]
  },
  {
   "cell_type": "code",
   "execution_count": 22,
   "id": "af0602d3",
   "metadata": {},
   "outputs": [
    {
     "data": {
      "text/plain": [
       "<matplotlib.legend.Legend at 0x2aad000d0>"
      ]
     },
     "execution_count": 22,
     "metadata": {},
     "output_type": "execute_result"
    },
    {
     "data": {
      "image/png": "[encoded data removed]",
      "text/plain": [
       "<Figure size 432x288 with 1 Axes>"
      ]
     },
     "metadata": {
      "needs_background": "light"
     },
     "output_type": "display_data"
    }
   ],
   "source": [
    "from matplotlib import pyplot as plt\n",
    "plt.plot(accuracy_metrics.history['loss'],label='train_loss')\n",
    "plt.plot(accuracy_metrics.history['val_loss'],label='val_loss')\n",
    "plt.xlabel('epochs')\n",
    "plt.ylabel('loss')\n",
    "plt.legend()"
   ]
  },
  {
   "cell_type": "code",
   "execution_count": 23,
   "id": "d3f970c8",
   "metadata": {},
   "outputs": [
    {
     "name": "stderr",
     "output_type": "stream",
     "text": [
      "2022-08-26 15:29:04.929292: I tensorflow/core/grappler/optimizers/custom_graph_optimizer_registry.cc:112] Plugin optimizer for device_type GPU is enabled.\n"
     ]
    }
   ],
   "source": [
    "pred = model.predict(xtest)"
   ]
  },
  {
   "cell_type": "code",
   "execution_count": 24,
   "id": "b81db7a1",
   "metadata": {},
   "outputs": [
    {
     "data": {
      "text/plain": [
       "array([[9.90887046e-01, 3.51164071e-03, 1.85077013e-07, 5.60106523e-03],\n",
       "       [9.37049448e-01, 1.34523948e-08, 1.21059169e-14, 6.29505739e-02],\n",
       "       [1.00000000e+00, 1.63782057e-10, 8.21819229e-13, 9.15008624e-10],\n",
       "       [9.99259651e-01, 2.17534534e-06, 1.33118408e-06, 7.36826274e-04],\n",
       "       [5.03077710e-20, 1.00000000e+00, 1.98970852e-23, 0.00000000e+00],\n",
       "       [9.87458587e-01, 7.09223282e-03, 5.44914138e-03, 2.48098537e-08],\n",
       "       [9.41586045e-12, 1.00000000e+00, 1.88847771e-13, 2.37770093e-32],\n",
       "       [9.99991179e-01, 8.33252034e-06, 4.72224343e-07, 3.44896267e-09],\n",
       "       [2.71238701e-19, 1.00000000e+00, 1.06504270e-21, 0.00000000e+00],\n",
       "       [4.56920417e-04, 4.13658561e-12, 2.99754947e-12, 9.99543071e-01],\n",
       "       [1.68491904e-11, 9.99999166e-01, 8.89930902e-07, 6.99098947e-24],\n",
       "       [5.19000564e-27, 1.01514264e-25, 1.00000000e+00, 0.00000000e+00],\n",
       "       [9.59260762e-01, 3.84285860e-02, 2.66671432e-05, 2.28401111e-03],\n",
       "       [9.97344553e-01, 2.62009213e-03, 3.53789437e-05, 4.37372499e-10],\n",
       "       [9.68140483e-01, 4.62922733e-03, 1.45479419e-07, 2.72301417e-02],\n",
       "       [2.70221801e-16, 1.00000000e+00, 1.85762180e-20, 7.32783242e-31],\n",
       "       [9.92013156e-01, 3.33264410e-07, 3.13553988e-10, 7.98656419e-03],\n",
       "       [9.90292251e-01, 2.24292635e-05, 9.45707038e-03, 2.28255522e-04],\n",
       "       [3.78812855e-21, 1.75686873e-15, 1.00000000e+00, 0.00000000e+00],\n",
       "       [1.00000000e+00, 1.26975520e-19, 6.13730055e-14, 5.32728792e-11],\n",
       "       [1.00000000e+00, 3.43455184e-16, 1.11448004e-11, 7.79538951e-20],\n",
       "       [2.45498150e-10, 1.72438319e-16, 2.12620595e-24, 1.00000000e+00],\n",
       "       [2.69305050e-31, 7.84076751e-28, 1.00000000e+00, 0.00000000e+00],\n",
       "       [3.02472977e-12, 1.00000000e+00, 5.12485320e-16, 5.44270017e-28],\n",
       "       [5.44576342e-18, 1.00000000e+00, 9.67994606e-20, 6.78615720e-38],\n",
       "       [1.60757657e-10, 2.43550477e-17, 1.33571968e-21, 1.00000000e+00],\n",
       "       [1.22841451e-11, 1.00000000e+00, 1.34365048e-15, 1.42514501e-33],\n",
       "       [1.93974593e-05, 7.02608284e-12, 7.47992651e-13, 9.99980569e-01],\n",
       "       [9.99983549e-01, 4.97280416e-06, 7.02091185e-08, 1.13246579e-05],\n",
       "       [7.35030873e-18, 8.73402964e-21, 1.00000000e+00, 6.63960916e-31],\n",
       "       [2.70321688e-13, 9.99998212e-01, 1.80314692e-06, 1.36832508e-30],\n",
       "       [3.83311589e-15, 6.31263480e-16, 1.00000000e+00, 5.87987682e-25],\n",
       "       [1.02877722e-13, 1.00000000e+00, 2.53748286e-15, 2.13473818e-31],\n",
       "       [1.00000000e+00, 2.94430452e-12, 4.07484647e-14, 1.07843070e-16],\n",
       "       [9.99984384e-01, 1.55158723e-05, 4.42555281e-09, 4.89044396e-08],\n",
       "       [3.71324359e-06, 5.45123724e-09, 3.38838610e-11, 9.99996305e-01],\n",
       "       [0.00000000e+00, 0.00000000e+00, 1.00000000e+00, 0.00000000e+00],\n",
       "       [1.16091161e-36, 4.10456139e-35, 1.00000000e+00, 0.00000000e+00],\n",
       "       [9.99955058e-01, 4.49567087e-05, 2.26443364e-10, 4.12817003e-12],\n",
       "       [9.99997854e-01, 2.09713471e-06, 3.64793029e-10, 1.51615550e-13],\n",
       "       [9.86757278e-01, 1.31823635e-02, 5.72398676e-05, 3.13142914e-06],\n",
       "       [9.59260762e-01, 3.84285860e-02, 2.66671432e-05, 2.28401111e-03],\n",
       "       [2.81073583e-31, 1.03401542e-28, 1.00000000e+00, 0.00000000e+00],\n",
       "       [1.00000000e+00, 3.97063892e-13, 2.34672511e-14, 1.47273426e-11],\n",
       "       [9.99864221e-01, 1.25510342e-04, 1.02995300e-05, 3.46715895e-14],\n",
       "       [1.29978034e-05, 9.99987006e-01, 1.11767466e-08, 7.71170621e-24],\n",
       "       [1.00000000e+00, 4.36089902e-21, 9.11075080e-20, 1.63810849e-08],\n",
       "       [6.09029860e-15, 1.00000000e+00, 7.91805654e-14, 5.68079059e-23],\n",
       "       [8.07265678e-05, 3.93027173e-11, 2.23436505e-10, 9.99919295e-01],\n",
       "       [9.99999642e-01, 2.46970133e-09, 3.01878858e-15, 3.11721720e-07],\n",
       "       [9.99984384e-01, 1.55158723e-05, 4.42555281e-09, 4.89044396e-08],\n",
       "       [9.99852538e-01, 2.95169884e-05, 5.20727508e-06, 1.12654918e-04],\n",
       "       [1.72015517e-19, 1.00000000e+00, 9.48899641e-24, 0.00000000e+00],\n",
       "       [4.76858055e-08, 9.99998927e-01, 1.05523543e-06, 3.16107097e-19],\n",
       "       [6.02874206e-06, 1.53841615e-08, 3.69661695e-15, 9.99993920e-01],\n",
       "       [8.27748954e-01, 4.05253486e-05, 3.01500935e-09, 1.72210559e-01],\n",
       "       [1.00000000e+00, 1.58852001e-10, 7.43911333e-09, 6.93019101e-13],\n",
       "       [2.84974405e-10, 1.00000000e+00, 3.44295312e-14, 4.44247365e-27],\n",
       "       [0.00000000e+00, 3.80773330e-33, 1.00000000e+00, 0.00000000e+00],\n",
       "       [9.33588684e-01, 2.58549250e-07, 2.62301381e-08, 6.64110035e-02],\n",
       "       [9.99983549e-01, 4.97280416e-06, 7.02091185e-08, 1.13246579e-05],\n",
       "       [9.66867936e-23, 4.04297222e-18, 1.00000000e+00, 0.00000000e+00],\n",
       "       [1.00000000e+00, 6.14621884e-24, 1.17315512e-20, 2.40606002e-09],\n",
       "       [9.78011250e-01, 2.19478458e-02, 4.05498686e-05, 3.65655836e-07],\n",
       "       [1.64032832e-03, 1.87647146e-07, 3.13516821e-08, 9.98359382e-01],\n",
       "       [2.02068159e-15, 1.00000000e+00, 1.40444204e-19, 1.38168627e-21],\n",
       "       [8.60196680e-13, 1.00000000e+00, 5.93361676e-19, 9.13453839e-28],\n",
       "       [9.99943495e-01, 1.08989718e-06, 4.75377556e-06, 5.06552351e-05],\n",
       "       [2.36313004e-04, 4.18422087e-06, 4.30903707e-12, 9.99759495e-01],\n",
       "       [9.99994397e-01, 5.66132030e-06, 4.62920446e-13, 5.26559954e-21],\n",
       "       [9.91549134e-01, 8.39175843e-03, 5.85248781e-05, 5.32038030e-07],\n",
       "       [1.14315909e-11, 1.00000000e+00, 1.77306905e-10, 1.57146759e-22],\n",
       "       [1.00000000e+00, 7.72756914e-10, 4.04602396e-09, 8.40629877e-09],\n",
       "       [9.99999166e-01, 2.64638653e-13, 6.96093627e-09, 8.41233941e-07],\n",
       "       [1.54627289e-19, 1.00000000e+00, 3.04819933e-20, 2.14567145e-31],\n",
       "       [9.99999881e-01, 1.80855087e-13, 1.52274135e-12, 1.15302328e-07],\n",
       "       [1.68205814e-38, 5.10250079e-37, 1.00000000e+00, 0.00000000e+00],\n",
       "       [9.99999642e-01, 2.46970133e-09, 3.01878858e-15, 3.11721720e-07],\n",
       "       [1.00000000e+00, 5.87140545e-11, 2.42438864e-11, 5.86345480e-14],\n",
       "       [9.48071241e-01, 3.40089854e-13, 1.51753715e-19, 5.19287959e-02],\n",
       "       [1.97549312e-12, 1.00000000e+00, 5.70334779e-10, 1.00893095e-36],\n",
       "       [9.99299288e-01, 3.73715781e-10, 4.70644140e-13, 7.00670702e-04],\n",
       "       [9.99969602e-01, 8.03260305e-11, 1.15475208e-12, 3.03617144e-05],\n",
       "       [9.99975204e-01, 1.50036636e-10, 9.84763622e-14, 2.47547541e-05],\n",
       "       [2.06270567e-22, 3.78164437e-25, 1.00000000e+00, 0.00000000e+00],\n",
       "       [4.17044754e-09, 1.00000000e+00, 9.34623268e-10, 3.93850902e-27],\n",
       "       [9.99964952e-01, 8.80256650e-16, 4.28126723e-18, 3.50388473e-05],\n",
       "       [2.49555820e-27, 3.90581554e-28, 1.00000000e+00, 0.00000000e+00],\n",
       "       [1.00000000e+00, 1.66886250e-31, 3.97317105e-19, 3.91569414e-19],\n",
       "       [6.60436717e-18, 2.87090299e-18, 1.00000000e+00, 1.62469482e-31],\n",
       "       [7.78284311e-01, 2.87468894e-04, 2.21424237e-01, 3.99869668e-06],\n",
       "       [9.99980927e-01, 2.24617564e-11, 3.46609243e-13, 1.90455157e-05],\n",
       "       [1.80433912e-04, 7.80508658e-10, 1.09181747e-06, 9.99818504e-01],\n",
       "       [9.99813855e-01, 1.90408670e-12, 4.83538014e-13, 1.86207501e-04],\n",
       "       [1.75523441e-17, 1.00000000e+00, 5.07795301e-18, 0.00000000e+00],\n",
       "       [9.99995589e-01, 4.74036064e-08, 1.06186848e-11, 4.36183382e-06],\n",
       "       [9.99542713e-01, 2.13793421e-04, 2.43490125e-04, 3.62405643e-08],\n",
       "       [1.11529874e-22, 1.00000000e+00, 1.01181690e-23, 0.00000000e+00],\n",
       "       [1.01685330e-13, 1.00000000e+00, 2.49566636e-22, 1.08718052e-20],\n",
       "       [1.00000000e+00, 9.06537734e-10, 3.29852617e-12, 1.85753246e-10],\n",
       "       [5.53435598e-07, 2.27549322e-07, 1.85475810e-12, 9.99999166e-01],\n",
       "       [7.68989490e-20, 1.00000000e+00, 7.52842147e-24, 0.00000000e+00],\n",
       "       [1.45182495e-15, 1.00000000e+00, 3.12423881e-23, 1.03610579e-16],\n",
       "       [9.99850392e-01, 5.00360674e-19, 1.33463050e-25, 1.49552099e-04],\n",
       "       [1.77752936e-05, 7.53300417e-14, 3.21967811e-15, 9.99982238e-01],\n",
       "       [6.66458547e-01, 3.33117902e-01, 4.23007674e-04, 6.35767549e-07],\n",
       "       [9.99997497e-01, 2.23161112e-09, 7.05512246e-11, 2.53859935e-06],\n",
       "       [5.57085222e-08, 2.68779140e-15, 1.00566063e-17, 1.00000000e+00],\n",
       "       [9.99999046e-01, 1.86654335e-13, 2.07236496e-07, 6.68498274e-07],\n",
       "       [9.99999881e-01, 8.28207334e-08, 1.82614774e-11, 1.41545595e-10],\n",
       "       [9.99999404e-01, 3.50563784e-12, 1.63804076e-14, 5.72535043e-07],\n",
       "       [2.17194156e-06, 9.99997854e-01, 1.09733633e-09, 1.35019708e-13],\n",
       "       [1.48300296e-06, 9.99998450e-01, 1.84316242e-08, 1.13821552e-14],\n",
       "       [7.93989599e-01, 1.96325965e-03, 6.27067571e-13, 2.04047203e-01],\n",
       "       [9.99982953e-01, 3.73469007e-12, 4.61075888e-06, 1.23970603e-05],\n",
       "       [3.07654753e-18, 2.67650479e-18, 1.00000000e+00, 0.00000000e+00],\n",
       "       [9.99299288e-01, 3.73715781e-10, 4.70644140e-13, 7.00670702e-04],\n",
       "       [1.37873450e-31, 4.12415224e-25, 1.00000000e+00, 0.00000000e+00],\n",
       "       [9.99955058e-01, 4.49567087e-05, 2.26443364e-10, 4.12817003e-12],\n",
       "       [2.06083071e-26, 2.82880821e-27, 1.00000000e+00, 0.00000000e+00],\n",
       "       [1.00000000e+00, 1.58852001e-10, 7.43911333e-09, 6.93019101e-13],\n",
       "       [1.30644330e-04, 3.77806408e-08, 4.74170636e-14, 9.99869347e-01],\n",
       "       [4.79252141e-12, 1.00000000e+00, 2.85769780e-13, 8.79982197e-33],\n",
       "       [5.61042398e-04, 3.64844743e-12, 9.99438941e-01, 8.77392505e-13],\n",
       "       [9.32320535e-01, 7.36726142e-05, 6.74449056e-02, 1.60968557e-04],\n",
       "       [1.74184715e-05, 9.99982595e-01, 4.54473681e-10, 3.18622190e-12],\n",
       "       [3.46007291e-05, 2.23748051e-04, 2.01651728e-14, 9.99741733e-01],\n",
       "       [8.74359727e-01, 1.24316543e-01, 1.32372521e-03, 7.97324734e-15],\n",
       "       [9.99996305e-01, 2.74630145e-11, 1.28346823e-13, 3.74310753e-06],\n",
       "       [8.80396486e-33, 1.80126069e-33, 1.00000000e+00, 0.00000000e+00],\n",
       "       [6.02619679e-08, 4.72589125e-20, 3.45312792e-18, 9.99999881e-01],\n",
       "       [3.84546922e-10, 2.20623045e-16, 3.72294849e-21, 1.00000000e+00],\n",
       "       [1.00000000e+00, 6.97943717e-11, 2.40510953e-12, 2.71917991e-17],\n",
       "       [9.99994397e-01, 5.66132030e-06, 4.62920446e-13, 5.26559954e-21],\n",
       "       [9.99813855e-01, 1.90408670e-12, 4.83538014e-13, 1.86207501e-04],\n",
       "       [9.48071241e-01, 3.40089854e-13, 1.51753715e-19, 5.19287959e-02],\n",
       "       [3.98226994e-25, 6.50175066e-25, 1.00000000e+00, 0.00000000e+00],\n",
       "       [1.58257639e-26, 1.90955773e-23, 1.00000000e+00, 0.00000000e+00],\n",
       "       [5.96268177e-01, 3.85464549e-01, 1.82672497e-02, 3.88308905e-14],\n",
       "       [7.20167329e-12, 2.05123489e-20, 1.91215966e-21, 1.00000000e+00],\n",
       "       [9.99999523e-01, 1.75969642e-10, 3.18036287e-13, 4.71712895e-07],\n",
       "       [2.73919859e-10, 9.99995232e-01, 4.78776019e-06, 3.13560414e-29],\n",
       "       [9.78614509e-01, 1.42411310e-02, 7.14413961e-03, 2.04774040e-07],\n",
       "       [2.78247732e-30, 9.93271963e-24, 1.00000000e+00, 0.00000000e+00],\n",
       "       [9.99354064e-01, 8.45418128e-07, 1.37246275e-07, 6.44982152e-04],\n",
       "       [9.99998569e-01, 1.38379846e-06, 1.40726830e-09, 9.25481219e-12],\n",
       "       [1.52526536e-06, 9.99998450e-01, 2.23948395e-11, 2.03771126e-16],\n",
       "       [4.68860106e-16, 1.71910197e-12, 1.00000000e+00, 1.19732894e-37],\n",
       "       [7.93533444e-01, 4.55690967e-03, 2.01909661e-01, 1.26800499e-08],\n",
       "       [4.61471861e-16, 1.00000000e+00, 6.56885590e-18, 1.80019860e-31],\n",
       "       [4.31914548e-22, 6.44022296e-25, 1.00000000e+00, 0.00000000e+00],\n",
       "       [6.35841540e-35, 7.22057632e-32, 1.00000000e+00, 0.00000000e+00],\n",
       "       [1.98163477e-08, 9.98693407e-01, 1.30654580e-03, 5.06434423e-21],\n",
       "       [8.84944204e-36, 4.32447878e-33, 1.00000000e+00, 0.00000000e+00],\n",
       "       [9.73003967e-26, 1.43888295e-18, 1.00000000e+00, 0.00000000e+00],\n",
       "       [1.72318594e-12, 9.99961376e-01, 3.86558386e-05, 2.19240173e-25],\n",
       "       [8.53484831e-14, 1.00000000e+00, 9.38753186e-10, 6.46238243e-27],\n",
       "       [9.76499437e-10, 1.00000000e+00, 1.29395972e-14, 2.38182087e-18],\n",
       "       [2.11554578e-07, 9.99999762e-01, 2.23726484e-12, 4.21894020e-21],\n",
       "       [1.44708721e-07, 6.38481545e-10, 6.50384465e-15, 9.99999881e-01],\n",
       "       [0.00000000e+00, 0.00000000e+00, 1.00000000e+00, 0.00000000e+00],\n",
       "       [2.31351826e-26, 4.28287929e-24, 1.00000000e+00, 0.00000000e+00],\n",
       "       [1.21504431e-19, 8.29803720e-22, 1.00000000e+00, 3.51036047e-35],\n",
       "       [3.78209962e-26, 3.09197010e-24, 1.00000000e+00, 0.00000000e+00],\n",
       "       [2.67990700e-15, 2.38504812e-22, 6.47943085e-22, 1.00000000e+00],\n",
       "       [8.57707377e-11, 8.94720479e-15, 3.89310127e-22, 1.00000000e+00],\n",
       "       [9.99985576e-01, 3.23841197e-11, 3.47728360e-06, 1.09745761e-05],\n",
       "       [4.50030990e-09, 9.99043941e-01, 9.56144708e-04, 3.55987234e-21],\n",
       "       [1.94494282e-06, 9.56818649e-14, 1.02126769e-13, 9.99998093e-01],\n",
       "       [9.61229913e-35, 1.35099381e-29, 1.00000000e+00, 0.00000000e+00],\n",
       "       [1.03876818e-19, 1.00000000e+00, 3.32662202e-23, 0.00000000e+00],\n",
       "       [5.52896194e-30, 6.35910991e-24, 1.00000000e+00, 0.00000000e+00],\n",
       "       [6.23470660e-28, 2.29969517e-27, 1.00000000e+00, 0.00000000e+00],\n",
       "       [1.00000000e+00, 1.61765878e-09, 1.52006428e-11, 1.09676296e-10],\n",
       "       [1.00000000e+00, 1.54496966e-25, 2.12826140e-21, 2.20144857e-11],\n",
       "       [1.13100196e-10, 2.44838676e-21, 2.15415765e-21, 1.00000000e+00],\n",
       "       [3.49609699e-16, 1.00000000e+00, 5.11765489e-13, 8.41027510e-28],\n",
       "       [1.63009994e-10, 7.80326292e-09, 1.00000000e+00, 4.94988635e-21],\n",
       "       [1.00000000e+00, 2.65977285e-09, 1.12928368e-10, 1.62175517e-08],\n",
       "       [1.00000000e+00, 9.06537734e-10, 3.29852617e-12, 1.85753246e-10],\n",
       "       [1.00000000e+00, 3.06614734e-09, 4.91070962e-10, 1.04151129e-14],\n",
       "       [7.39589269e-26, 6.58665913e-23, 1.00000000e+00, 0.00000000e+00],\n",
       "       [4.66413301e-26, 2.87299636e-27, 1.00000000e+00, 0.00000000e+00],\n",
       "       [9.93323147e-01, 6.65771635e-03, 5.52868323e-06, 1.35270930e-05],\n",
       "       [6.36470880e-16, 1.00000000e+00, 7.19844767e-15, 1.12259022e-21],\n",
       "       [9.99728739e-01, 2.70481774e-04, 6.87017064e-07, 6.27083274e-09],\n",
       "       [1.73900116e-17, 1.00000000e+00, 1.59344235e-16, 0.00000000e+00],\n",
       "       [9.96321440e-01, 3.64990975e-03, 1.63816549e-05, 1.22685515e-05],\n",
       "       [7.31531298e-03, 9.92672443e-01, 2.58456812e-08, 1.22524661e-05],\n",
       "       [9.99299288e-01, 3.73715781e-10, 4.70644140e-13, 7.00670702e-04],\n",
       "       [9.99299288e-01, 3.73715781e-10, 4.70644140e-13, 7.00670702e-04],\n",
       "       [9.99997854e-01, 2.09713471e-06, 3.64793029e-10, 1.51615550e-13],\n",
       "       [1.00000000e+00, 4.36133724e-21, 9.11041346e-20, 1.63804561e-08],\n",
       "       [4.98249938e-05, 9.99950171e-01, 1.16527135e-08, 1.55480137e-21],\n",
       "       [5.16245306e-01, 2.77708122e-03, 4.75192070e-01, 5.78559376e-03],\n",
       "       [1.00000000e+00, 9.58835116e-13, 1.07182804e-11, 2.83263931e-17],\n",
       "       [1.00000000e+00, 3.97023994e-13, 2.34684928e-14, 1.47289386e-11],\n",
       "       [2.15569053e-23, 8.21867413e-23, 1.00000000e+00, 3.69526019e-36],\n",
       "       [8.77896369e-01, 1.22072212e-01, 3.13953387e-05, 5.11206945e-11],\n",
       "       [5.18343813e-06, 1.21479955e-08, 3.59257193e-08, 9.99994755e-01],\n",
       "       [2.83840239e-01, 7.16148555e-01, 1.12654952e-05, 3.76128739e-16],\n",
       "       [9.65536462e-13, 1.00000000e+00, 1.13363834e-13, 1.77618666e-32],\n",
       "       [1.82033680e-16, 1.00000000e+00, 1.69917059e-17, 1.10765536e-36],\n",
       "       [1.00965947e-08, 8.18420445e-22, 5.70110352e-19, 1.00000000e+00],\n",
       "       [3.26786647e-26, 1.67605664e-21, 1.00000000e+00, 0.00000000e+00]],\n",
       "      dtype=float32)"
      ]
     },
     "execution_count": 24,
     "metadata": {},
     "output_type": "execute_result"
    }
   ],
   "source": [
    "pred"
   ]
  },
  {
   "cell_type": "code",
   "execution_count": 25,
   "id": "6830413b",
   "metadata": {},
   "outputs": [
    {
     "data": {
      "text/plain": [
       "1"
      ]
     },
     "execution_count": 25,
     "metadata": {},
     "output_type": "execute_result"
    }
   ],
   "source": [
    "pred[8].argmax()"
   ]
  },
  {
   "cell_type": "code",
   "execution_count": 27,
   "id": "da1138ad",
   "metadata": {},
   "outputs": [
    {
     "data": {
      "text/plain": [
       "<AxesSubplot:>"
      ]
     },
     "execution_count": 27,
     "metadata": {},
     "output_type": "execute_result"
    },
    {
     "data": {
      "image/png": "[encoded data removed]",
      "text/plain": [
       "<Figure size 576x576 with 1 Axes>"
      ]
     },
     "metadata": {
      "needs_background": "light"
     },
     "output_type": "display_data"
    }
   ],
   "source": [
    "plt.figure(figsize = (8,8))\n",
    "from sklearn.metrics import confusion_matrix\n",
    "import seaborn as sns\n",
    "cm = confusion_matrix(y_true=ytest, y_pred=np.argmax(pred, axis=-1))\n",
    "sns.heatmap(cm,annot=True,cbar=False)"
   ]
  },
  {
   "cell_type": "code",
   "execution_count": 28,
   "id": "eae9fd0a",
   "metadata": {},
   "outputs": [],
   "source": [
    "model.save(\"base_model_cnn.h5\")"
   ]
  },
  {
   "cell_type": "code",
   "execution_count": 29,
   "id": "8917aa62",
   "metadata": {},
   "outputs": [],
   "source": [
    "from tensorflow.keras.models import load_model\n",
    "model = load_model(\"base_model_cnn.h5\")"
   ]
  },
  {
   "cell_type": "code",
   "execution_count": 30,
   "id": "d972a854",
   "metadata": {},
   "outputs": [
    {
     "name": "stdout",
     "output_type": "stream",
     "text": [
      "Model: \"sequential\"\n",
      "_________________________________________________________________\n",
      "Layer (type)                 Output Shape              Param #   \n",
      "=================================================================\n",
      "conv2d (Conv2D)              (None, 224, 224, 6)       168       \n",
      "_________________________________________________________________\n",
      "max_pooling2d (MaxPooling2D) (None, 112, 112, 6)       0         \n",
      "_________________________________________________________________\n",
      "conv2d_1 (Conv2D)            (None, 112, 112, 16)      880       \n",
      "_________________________________________________________________\n",
      "max_pooling2d_1 (MaxPooling2 (None, 56, 56, 16)        0         \n",
      "_________________________________________________________________\n",
      "flatten (Flatten)            (None, 50176)             0         \n",
      "_________________________________________________________________\n",
      "dense (Dense)                (None, 100)               5017700   \n",
      "_________________________________________________________________\n",
      "dense_1 (Dense)              (None, 4)                 404       \n",
      "=================================================================\n",
      "Total params: 5,019,152\n",
      "Trainable params: 5,019,152\n",
      "Non-trainable params: 0\n",
      "_________________________________________________________________\n"
     ]
    }
   ],
   "source": [
    "model.summary()"
   ]
  },
  {
   "cell_type": "code",
   "execution_count": 31,
   "id": "2fbccd0b",
   "metadata": {},
   "outputs": [],
   "source": [
    "def plot_confusion_matrix(cm, classes,\n",
    "                          normalize=False,\n",
    "                          title='Confusion matrix',\n",
    "                          cmap=plt.cm.Blues):\n",
    "    \"\"\"\n",
    "    This function prints and plots the confusion matrix.\n",
    "    Normalization can be applied by setting `normalize=True`.\n",
    "    \"\"\"\n",
    "    plt.imshow(cm, interpolation='nearest', cmap=cmap)\n",
    "    plt.title(title)\n",
    "    plt.colorbar()\n",
    "    tick_marks = np.arange(len(classes))\n",
    "    plt.xticks(tick_marks, classes, rotation=45)\n",
    "    plt.yticks(tick_marks, classes)\n",
    "\n",
    "    if normalize:\n",
    "        cm = cm.astype('float') / cm.sum(axis=1)[:, np.newaxis]\n",
    "        print(\"Normalized confusion matrix\")\n",
    "    else:\n",
    "        print('Confusion matrix, without normalization')\n",
    "\n",
    "    print(cm)\n",
    "\n",
    "    thresh = cm.max() / 2.\n",
    "    for i, j in itertools.product(range(cm.shape[0]), range(cm.shape[1])):\n",
    "        plt.text(j, i, cm[i, j],\n",
    "            horizontalalignment=\"center\",\n",
    "            color=\"white\" if cm[i, j] > thresh else \"black\")\n",
    "\n",
    "    plt.tight_layout()\n",
    "    plt.ylabel('True label')\n",
    "    plt.xlabel('Predicted label')\n",
    "    \n",
    "# you could either use this custom function or the built in function from https://scikit-learn.org/stable/modules/generated/sklearn.metrics.plot_confusion_matrix.html"
   ]
  },
  {
   "cell_type": "code",
   "execution_count": 32,
   "id": "7e09953e",
   "metadata": {},
   "outputs": [
    {
     "name": "stdout",
     "output_type": "stream",
     "text": [
      "Found 5 images belonging to 4 classes.\n"
     ]
    }
   ],
   "source": [
    "# create a test set for images from internet\n",
    "\n",
    "from tensorflow.keras.preprocessing.image import ImageDataGenerator\n",
    "\n",
    "test_path = '/Users/ivandominguez/Desktop/Spiced_Academy/spiced_projects/week_09/test_images/'\n",
    "\n",
    "test_batches = ImageDataGenerator(rescale=1.0/255.0).flow_from_directory(\\\n",
    "directory=test_path, target_size=(224,224), classes=['Apples','Kiwis', 'Pears', 'Oranges'], \\\n",
    "batch_size=64, shuffle=False)"
   ]
  },
  {
   "cell_type": "code",
   "execution_count": 58,
   "id": "d7b4b938",
   "metadata": {},
   "outputs": [
    {
     "name": "stderr",
     "output_type": "stream",
     "text": [
      "2022-08-26 15:47:33.273407: I tensorflow/core/grappler/optimizers/custom_graph_optimizer_registry.cc:112] Plugin optimizer for device_type GPU is enabled.\n"
     ]
    },
    {
     "ename": "AttributeError",
     "evalue": "'numpy.ndarray' object has no attribute 'classes'",
     "output_type": "error",
     "traceback": [
      "\u001b[0;31m---------------------------------------------------------------------------\u001b[0m",
      "\u001b[0;31mAttributeError\u001b[0m                            Traceback (most recent call last)",
      "Input \u001b[0;32mIn [58]\u001b[0m, in \u001b[0;36m<cell line: 2>\u001b[0;34m()\u001b[0m\n\u001b[1;32m      1\u001b[0m predictions \u001b[38;5;241m=\u001b[39m model\u001b[38;5;241m.\u001b[39mpredict(x\u001b[38;5;241m=\u001b[39mxtrain, verbose\u001b[38;5;241m=\u001b[39m\u001b[38;5;241m0\u001b[39m)\n\u001b[0;32m----> 2\u001b[0m cm \u001b[38;5;241m=\u001b[39m confusion_matrix(y_true\u001b[38;5;241m=\u001b[39m\u001b[43mytrain\u001b[49m\u001b[38;5;241;43m.\u001b[39;49m\u001b[43mclasses\u001b[49m, \\\n\u001b[1;32m      3\u001b[0m                       y_pred\u001b[38;5;241m=\u001b[39mnp\u001b[38;5;241m.\u001b[39margmax(predictions, axis\u001b[38;5;241m=\u001b[39m\u001b[38;5;241m-\u001b[39m\u001b[38;5;241m1\u001b[39m))\n\u001b[1;32m      5\u001b[0m cm_plot_labels \u001b[38;5;241m=\u001b[39m [\u001b[38;5;124m'\u001b[39m\u001b[38;5;124mApples\u001b[39m\u001b[38;5;124m'\u001b[39m,\u001b[38;5;124m'\u001b[39m\u001b[38;5;124mKiwis\u001b[39m\u001b[38;5;124m'\u001b[39m, \u001b[38;5;124m'\u001b[39m\u001b[38;5;124mPears\u001b[39m\u001b[38;5;124m'\u001b[39m, \u001b[38;5;124m'\u001b[39m\u001b[38;5;124mOranges\u001b[39m\u001b[38;5;124m'\u001b[39m]\n\u001b[1;32m      6\u001b[0m plot_confusion_matrix(cm\u001b[38;5;241m=\u001b[39mcm, classes\u001b[38;5;241m=\u001b[39mcm_plot_labels, title\u001b[38;5;241m=\u001b[39m\u001b[38;5;124m'\u001b[39m\u001b[38;5;124mConfusion Matrix\u001b[39m\u001b[38;5;124m'\u001b[39m)\n",
      "\u001b[0;31mAttributeError\u001b[0m: 'numpy.ndarray' object has no attribute 'classes'"
     ]
    }
   ],
   "source": [
    "predictions = model.predict(x=train_batches, verbose=0)\n",
    "cm = confusion_matrix(y_true=train_batches.classes, \\\n",
    "                      y_pred=np.argmax(predictions, axis=-1))\n",
    "\n",
    "cm_plot_labels = ['Apples','Kiwis', 'Pears', 'Oranges']\n",
    "plot_confusion_matrix(cm=cm, classes=cm_plot_labels, title='Confusion Matrix')"
   ]
  },
  {
   "cell_type": "markdown",
   "id": "9ae3cd0c",
   "metadata": {},
   "source": [
    "# Transfer learning"
   ]
  },
  {
   "cell_type": "markdown",
   "id": "b7736989",
   "metadata": {},
   "source": [
    "# MobileNet"
   ]
  },
  {
   "cell_type": "code",
   "execution_count": 35,
   "id": "195719c0",
   "metadata": {},
   "outputs": [
    {
     "name": "stdout",
     "output_type": "stream",
     "text": [
      "Found 544 images belonging to 4 classes.\n",
      "Found 134 images belonging to 4 classes.\n"
     ]
    }
   ],
   "source": [
    "train_path = '/Users/ivandominguez/Desktop/Spiced_Academy/spiced_projects/week_09/train_images'\n",
    "\n",
    "train_datagen = ImageDataGenerator(rescale=1.0/255.0,validation_split=0.2) # rescale scales pixel values from 0-255 to 0-1 range\n",
    "\n",
    "train_batches = train_datagen.flow_from_directory(directory=train_path, \\\n",
    "target_size=(224,224), classes=['Apples','Kiwis', 'Pears', 'Oranges'], batch_size=32,subset='training')\n",
    "\n",
    "validation_batches = train_datagen.flow_from_directory(directory=train_path, \\\n",
    "target_size=(224,224), classes=['Apples','Kiwis', 'Pears', 'Oranges'], batch_size=32,subset='validation')"
   ]
  },
  {
   "cell_type": "code",
   "execution_count": 36,
   "id": "3dfba00c",
   "metadata": {},
   "outputs": [],
   "source": [
    "mobile = tf.keras.applications.mobilenet.MobileNet()\n",
    "model_mobilenet = Sequential()\n",
    "for layer in mobile.layers[:-5]:\n",
    "    model_mobilenet.add(layer)\n",
    "    \n",
    "for layer in model_mobilenet.layers[:-5]:\n",
    "    layer.trainable = False\n",
    "    \n",
    "model_mobilenet.add(Dense(units=4, activation='softmax'))"
   ]
  },
  {
   "cell_type": "code",
   "execution_count": 37,
   "id": "deea7bcf",
   "metadata": {},
   "outputs": [],
   "source": [
    "model_mobilenet.compile(optimizer=Adam(learning_rate=0.0001),\\\n",
    "                        loss='categorical_crossentropy', metrics=['accuracy'])"
   ]
  },
  {
   "cell_type": "code",
   "execution_count": 38,
   "id": "dd43fce1",
   "metadata": {},
   "outputs": [
    {
     "name": "stdout",
     "output_type": "stream",
     "text": [
      "Epoch 1/10\n"
     ]
    },
    {
     "name": "stderr",
     "output_type": "stream",
     "text": [
      "2022-08-26 15:32:44.951376: I tensorflow/core/grappler/optimizers/custom_graph_optimizer_registry.cc:112] Plugin optimizer for device_type GPU is enabled.\n"
     ]
    },
    {
     "name": "stdout",
     "output_type": "stream",
     "text": [
      "17/17 [==============================] - ETA: 0s - loss: 0.8318 - accuracy: 0.6820"
     ]
    },
    {
     "name": "stderr",
     "output_type": "stream",
     "text": [
      "2022-08-26 15:32:46.972238: I tensorflow/core/grappler/optimizers/custom_graph_optimizer_registry.cc:112] Plugin optimizer for device_type GPU is enabled.\n"
     ]
    },
    {
     "name": "stdout",
     "output_type": "stream",
     "text": [
      "17/17 [==============================] - 3s 135ms/step - loss: 0.8318 - accuracy: 0.6820 - val_loss: 2.1963 - val_accuracy: 0.1866\n",
      "Epoch 2/10\n",
      "17/17 [==============================] - 2s 114ms/step - loss: 0.1651 - accuracy: 0.9577 - val_loss: 2.0622 - val_accuracy: 0.2985\n",
      "Epoch 3/10\n",
      "17/17 [==============================] - 2s 113ms/step - loss: 0.0741 - accuracy: 0.9908 - val_loss: 1.4292 - val_accuracy: 0.4552\n",
      "Epoch 4/10\n",
      "17/17 [==============================] - 2s 113ms/step - loss: 0.0430 - accuracy: 1.0000 - val_loss: 1.1649 - val_accuracy: 0.4925\n",
      "Epoch 5/10\n",
      "17/17 [==============================] - 2s 110ms/step - loss: 0.0382 - accuracy: 1.0000 - val_loss: 0.9032 - val_accuracy: 0.5821\n",
      "Epoch 6/10\n",
      "17/17 [==============================] - 2s 114ms/step - loss: 0.0218 - accuracy: 1.0000 - val_loss: 0.7359 - val_accuracy: 0.7015\n",
      "Epoch 7/10\n",
      "17/17 [==============================] - 2s 110ms/step - loss: 0.0215 - accuracy: 1.0000 - val_loss: 0.5792 - val_accuracy: 0.7985\n",
      "Epoch 8/10\n",
      "17/17 [==============================] - 2s 110ms/step - loss: 0.0178 - accuracy: 1.0000 - val_loss: 0.4929 - val_accuracy: 0.8358\n",
      "Epoch 9/10\n",
      "17/17 [==============================] - 2s 108ms/step - loss: 0.0159 - accuracy: 1.0000 - val_loss: 0.4458 - val_accuracy: 0.8657\n",
      "Epoch 10/10\n",
      "17/17 [==============================] - 2s 109ms/step - loss: 0.0145 - accuracy: 1.0000 - val_loss: 0.4195 - val_accuracy: 0.8806\n"
     ]
    }
   ],
   "source": [
    "hist_mobile = model_mobilenet.fit(\n",
    "    train_batches,\n",
    "    validation_data = validation_batches, \n",
    "    epochs = 10)"
   ]
  },
  {
   "cell_type": "code",
   "execution_count": 39,
   "id": "b9c08a17",
   "metadata": {},
   "outputs": [
    {
     "data": {
      "image/png": "[encoded data removed]",
      "text/plain": [
       "<Figure size 432x288 with 1 Axes>"
      ]
     },
     "metadata": {
      "needs_background": "light"
     },
     "output_type": "display_data"
    },
    {
     "data": {
      "image/png": "[encoded data removed]",
      "text/plain": [
       "<Figure size 432x288 with 1 Axes>"
      ]
     },
     "metadata": {
      "needs_background": "light"
     },
     "output_type": "display_data"
    }
   ],
   "source": [
    "#Display models statistics\n",
    "from matplotlib import pyplot as plt\n",
    "loss = hist_mobile.history['loss']\n",
    "val_loss = hist_mobile.history['val_loss']\n",
    "acc = hist_mobile.history['accuracy']\n",
    "val_acc = hist_mobile.history['val_accuracy']\n",
    "epochsr = range(10)\n",
    "plt.figure()\n",
    "plt.plot(epochsr, loss, 'g', label='Training loss')\n",
    "plt.plot(epochsr, val_loss, 'b', label='Validation loss')\n",
    "plt.title('Training and validation loss')\n",
    "plt.legend()\n",
    "plt.show()\n",
    "plt.figure()\n",
    "plt.plot(epochsr, acc, 'g', label='Training acc')\n",
    "plt.plot(epochsr, val_acc, 'b', label='Validation acc')\n",
    "plt.title('Accuracy')\n",
    "plt.legend()\n",
    "plt.show()\n",
    "mymodel_mobile = hist_mobile.model"
   ]
  },
  {
   "cell_type": "code",
   "execution_count": 40,
   "id": "8550df60",
   "metadata": {},
   "outputs": [
    {
     "name": "stdout",
     "output_type": "stream",
     "text": [
      "Saved model to disk\n"
     ]
    }
   ],
   "source": [
    "model_mobilenet.save(\"model_mobilenet.h5\")\n",
    "print(\"Saved model to disk\")"
   ]
  },
  {
   "cell_type": "code",
   "execution_count": 41,
   "id": "b07e6589",
   "metadata": {},
   "outputs": [
    {
     "name": "stdout",
     "output_type": "stream",
     "text": [
      "Model: \"sequential_1\"\n",
      "_________________________________________________________________\n",
      "Layer (type)                 Output Shape              Param #   \n",
      "=================================================================\n",
      "conv1 (Conv2D)               (None, 112, 112, 32)      864       \n",
      "_________________________________________________________________\n",
      "conv1_bn (BatchNormalization (None, 112, 112, 32)      128       \n",
      "_________________________________________________________________\n",
      "conv1_relu (ReLU)            (None, 112, 112, 32)      0         \n",
      "_________________________________________________________________\n",
      "conv_dw_1 (DepthwiseConv2D)  (None, 112, 112, 32)      288       \n",
      "_________________________________________________________________\n",
      "conv_dw_1_bn (BatchNormaliza (None, 112, 112, 32)      128       \n",
      "_________________________________________________________________\n",
      "conv_dw_1_relu (ReLU)        (None, 112, 112, 32)      0         \n",
      "_________________________________________________________________\n",
      "conv_pw_1 (Conv2D)           (None, 112, 112, 64)      2048      \n",
      "_________________________________________________________________\n",
      "conv_pw_1_bn (BatchNormaliza (None, 112, 112, 64)      256       \n",
      "_________________________________________________________________\n",
      "conv_pw_1_relu (ReLU)        (None, 112, 112, 64)      0         \n",
      "_________________________________________________________________\n",
      "conv_pad_2 (ZeroPadding2D)   (None, 113, 113, 64)      0         \n",
      "_________________________________________________________________\n",
      "conv_dw_2 (DepthwiseConv2D)  (None, 56, 56, 64)        576       \n",
      "_________________________________________________________________\n",
      "conv_dw_2_bn (BatchNormaliza (None, 56, 56, 64)        256       \n",
      "_________________________________________________________________\n",
      "conv_dw_2_relu (ReLU)        (None, 56, 56, 64)        0         \n",
      "_________________________________________________________________\n",
      "conv_pw_2 (Conv2D)           (None, 56, 56, 128)       8192      \n",
      "_________________________________________________________________\n",
      "conv_pw_2_bn (BatchNormaliza (None, 56, 56, 128)       512       \n",
      "_________________________________________________________________\n",
      "conv_pw_2_relu (ReLU)        (None, 56, 56, 128)       0         \n",
      "_________________________________________________________________\n",
      "conv_dw_3 (DepthwiseConv2D)  (None, 56, 56, 128)       1152      \n",
      "_________________________________________________________________\n",
      "conv_dw_3_bn (BatchNormaliza (None, 56, 56, 128)       512       \n",
      "_________________________________________________________________\n",
      "conv_dw_3_relu (ReLU)        (None, 56, 56, 128)       0         \n",
      "_________________________________________________________________\n",
      "conv_pw_3 (Conv2D)           (None, 56, 56, 128)       16384     \n",
      "_________________________________________________________________\n",
      "conv_pw_3_bn (BatchNormaliza (None, 56, 56, 128)       512       \n",
      "_________________________________________________________________\n",
      "conv_pw_3_relu (ReLU)        (None, 56, 56, 128)       0         \n",
      "_________________________________________________________________\n",
      "conv_pad_4 (ZeroPadding2D)   (None, 57, 57, 128)       0         \n",
      "_________________________________________________________________\n",
      "conv_dw_4 (DepthwiseConv2D)  (None, 28, 28, 128)       1152      \n",
      "_________________________________________________________________\n",
      "conv_dw_4_bn (BatchNormaliza (None, 28, 28, 128)       512       \n",
      "_________________________________________________________________\n",
      "conv_dw_4_relu (ReLU)        (None, 28, 28, 128)       0         \n",
      "_________________________________________________________________\n",
      "conv_pw_4 (Conv2D)           (None, 28, 28, 256)       32768     \n",
      "_________________________________________________________________\n",
      "conv_pw_4_bn (BatchNormaliza (None, 28, 28, 256)       1024      \n",
      "_________________________________________________________________\n",
      "conv_pw_4_relu (ReLU)        (None, 28, 28, 256)       0         \n",
      "_________________________________________________________________\n",
      "conv_dw_5 (DepthwiseConv2D)  (None, 28, 28, 256)       2304      \n",
      "_________________________________________________________________\n",
      "conv_dw_5_bn (BatchNormaliza (None, 28, 28, 256)       1024      \n",
      "_________________________________________________________________\n",
      "conv_dw_5_relu (ReLU)        (None, 28, 28, 256)       0         \n",
      "_________________________________________________________________\n",
      "conv_pw_5 (Conv2D)           (None, 28, 28, 256)       65536     \n",
      "_________________________________________________________________\n",
      "conv_pw_5_bn (BatchNormaliza (None, 28, 28, 256)       1024      \n",
      "_________________________________________________________________\n",
      "conv_pw_5_relu (ReLU)        (None, 28, 28, 256)       0         \n",
      "_________________________________________________________________\n",
      "conv_pad_6 (ZeroPadding2D)   (None, 29, 29, 256)       0         \n",
      "_________________________________________________________________\n",
      "conv_dw_6 (DepthwiseConv2D)  (None, 14, 14, 256)       2304      \n",
      "_________________________________________________________________\n",
      "conv_dw_6_bn (BatchNormaliza (None, 14, 14, 256)       1024      \n",
      "_________________________________________________________________\n",
      "conv_dw_6_relu (ReLU)        (None, 14, 14, 256)       0         \n",
      "_________________________________________________________________\n",
      "conv_pw_6 (Conv2D)           (None, 14, 14, 512)       131072    \n",
      "_________________________________________________________________\n",
      "conv_pw_6_bn (BatchNormaliza (None, 14, 14, 512)       2048      \n",
      "_________________________________________________________________\n",
      "conv_pw_6_relu (ReLU)        (None, 14, 14, 512)       0         \n",
      "_________________________________________________________________\n",
      "conv_dw_7 (DepthwiseConv2D)  (None, 14, 14, 512)       4608      \n",
      "_________________________________________________________________\n",
      "conv_dw_7_bn (BatchNormaliza (None, 14, 14, 512)       2048      \n",
      "_________________________________________________________________\n",
      "conv_dw_7_relu (ReLU)        (None, 14, 14, 512)       0         \n",
      "_________________________________________________________________\n",
      "conv_pw_7 (Conv2D)           (None, 14, 14, 512)       262144    \n",
      "_________________________________________________________________\n",
      "conv_pw_7_bn (BatchNormaliza (None, 14, 14, 512)       2048      \n",
      "_________________________________________________________________\n",
      "conv_pw_7_relu (ReLU)        (None, 14, 14, 512)       0         \n",
      "_________________________________________________________________\n",
      "conv_dw_8 (DepthwiseConv2D)  (None, 14, 14, 512)       4608      \n",
      "_________________________________________________________________\n",
      "conv_dw_8_bn (BatchNormaliza (None, 14, 14, 512)       2048      \n",
      "_________________________________________________________________\n",
      "conv_dw_8_relu (ReLU)        (None, 14, 14, 512)       0         \n",
      "_________________________________________________________________\n",
      "conv_pw_8 (Conv2D)           (None, 14, 14, 512)       262144    \n",
      "_________________________________________________________________\n",
      "conv_pw_8_bn (BatchNormaliza (None, 14, 14, 512)       2048      \n",
      "_________________________________________________________________\n",
      "conv_pw_8_relu (ReLU)        (None, 14, 14, 512)       0         \n",
      "_________________________________________________________________\n",
      "conv_dw_9 (DepthwiseConv2D)  (None, 14, 14, 512)       4608      \n",
      "_________________________________________________________________\n",
      "conv_dw_9_bn (BatchNormaliza (None, 14, 14, 512)       2048      \n",
      "_________________________________________________________________\n",
      "conv_dw_9_relu (ReLU)        (None, 14, 14, 512)       0         \n",
      "_________________________________________________________________\n",
      "conv_pw_9 (Conv2D)           (None, 14, 14, 512)       262144    \n",
      "_________________________________________________________________\n",
      "conv_pw_9_bn (BatchNormaliza (None, 14, 14, 512)       2048      \n",
      "_________________________________________________________________\n",
      "conv_pw_9_relu (ReLU)        (None, 14, 14, 512)       0         \n",
      "_________________________________________________________________\n",
      "conv_dw_10 (DepthwiseConv2D) (None, 14, 14, 512)       4608      \n",
      "_________________________________________________________________\n",
      "conv_dw_10_bn (BatchNormaliz (None, 14, 14, 512)       2048      \n",
      "_________________________________________________________________\n",
      "conv_dw_10_relu (ReLU)       (None, 14, 14, 512)       0         \n",
      "_________________________________________________________________\n",
      "conv_pw_10 (Conv2D)          (None, 14, 14, 512)       262144    \n",
      "_________________________________________________________________\n",
      "conv_pw_10_bn (BatchNormaliz (None, 14, 14, 512)       2048      \n",
      "_________________________________________________________________\n",
      "conv_pw_10_relu (ReLU)       (None, 14, 14, 512)       0         \n",
      "_________________________________________________________________\n",
      "conv_dw_11 (DepthwiseConv2D) (None, 14, 14, 512)       4608      \n",
      "_________________________________________________________________\n",
      "conv_dw_11_bn (BatchNormaliz (None, 14, 14, 512)       2048      \n",
      "_________________________________________________________________\n",
      "conv_dw_11_relu (ReLU)       (None, 14, 14, 512)       0         \n",
      "_________________________________________________________________\n",
      "conv_pw_11 (Conv2D)          (None, 14, 14, 512)       262144    \n",
      "_________________________________________________________________\n",
      "conv_pw_11_bn (BatchNormaliz (None, 14, 14, 512)       2048      \n",
      "_________________________________________________________________\n",
      "conv_pw_11_relu (ReLU)       (None, 14, 14, 512)       0         \n",
      "_________________________________________________________________\n",
      "conv_pad_12 (ZeroPadding2D)  (None, 15, 15, 512)       0         \n",
      "_________________________________________________________________\n",
      "conv_dw_12 (DepthwiseConv2D) (None, 7, 7, 512)         4608      \n",
      "_________________________________________________________________\n",
      "conv_dw_12_bn (BatchNormaliz (None, 7, 7, 512)         2048      \n",
      "_________________________________________________________________\n",
      "conv_dw_12_relu (ReLU)       (None, 7, 7, 512)         0         \n",
      "_________________________________________________________________\n",
      "conv_pw_12 (Conv2D)          (None, 7, 7, 1024)        524288    \n",
      "_________________________________________________________________\n",
      "conv_pw_12_bn (BatchNormaliz (None, 7, 7, 1024)        4096      \n",
      "_________________________________________________________________\n",
      "conv_pw_12_relu (ReLU)       (None, 7, 7, 1024)        0         \n",
      "_________________________________________________________________\n",
      "conv_dw_13 (DepthwiseConv2D) (None, 7, 7, 1024)        9216      \n",
      "_________________________________________________________________\n",
      "conv_dw_13_bn (BatchNormaliz (None, 7, 7, 1024)        4096      \n",
      "_________________________________________________________________\n",
      "conv_dw_13_relu (ReLU)       (None, 7, 7, 1024)        0         \n",
      "_________________________________________________________________\n",
      "conv_pw_13 (Conv2D)          (None, 7, 7, 1024)        1048576   \n",
      "_________________________________________________________________\n",
      "conv_pw_13_bn (BatchNormaliz (None, 7, 7, 1024)        4096      \n",
      "_________________________________________________________________\n",
      "conv_pw_13_relu (ReLU)       (None, 7, 7, 1024)        0         \n",
      "_________________________________________________________________\n",
      "global_average_pooling2d (Gl (None, 1024)              0         \n",
      "_________________________________________________________________\n",
      "dense_2 (Dense)              (None, 4)                 4100      \n",
      "=================================================================\n",
      "Total params: 3,232,964\n",
      "Trainable params: 1,054,724\n",
      "Non-trainable params: 2,178,240\n",
      "_________________________________________________________________\n"
     ]
    }
   ],
   "source": [
    "model_mobilenet = load_model(\"model_mobilenet.h5\")\n",
    "model_mobilenet.summary()"
   ]
  },
  {
   "cell_type": "code",
   "execution_count": 42,
   "id": "c8bc2770",
   "metadata": {},
   "outputs": [
    {
     "name": "stderr",
     "output_type": "stream",
     "text": [
      "2022-08-26 15:33:05.661658: I tensorflow/core/grappler/optimizers/custom_graph_optimizer_registry.cc:112] Plugin optimizer for device_type GPU is enabled.\n"
     ]
    },
    {
     "name": "stdout",
     "output_type": "stream",
     "text": [
      "Confusion matrix, without normalization\n",
      "[[14  6  9 13]\n",
      " [11  2 10  8]\n",
      " [11  5 11 10]\n",
      " [ 8  4  5  7]]\n"
     ]
    },
    {
     "data": {
      "image/png": "[encoded data removed]",
      "text/plain": [
       "<Figure size 432x288 with 2 Axes>"
      ]
     },
     "metadata": {
      "needs_background": "light"
     },
     "output_type": "display_data"
    }
   ],
   "source": [
    "predictions = model_mobilenet.predict(x = validation_batches, steps = len(validation_batches), verbose = 0)\n",
    "cm = confusion_matrix(y_true=validation_batches.classes, y_pred=np.argmax(predictions, axis=-1))\n",
    "cm_plot_labels = ['Apples','Kiwis', 'Pears', 'Oranges']\n",
    "plot_confusion_matrix(cm=cm, classes=cm_plot_labels, title='Confusion Matrix')"
   ]
  },
  {
   "cell_type": "code",
   "execution_count": 43,
   "id": "e553bf23",
   "metadata": {},
   "outputs": [
    {
     "name": "stderr",
     "output_type": "stream",
     "text": [
      "2022-08-26 15:33:06.411778: I tensorflow/core/grappler/optimizers/custom_graph_optimizer_registry.cc:112] Plugin optimizer for device_type GPU is enabled.\n"
     ]
    },
    {
     "name": "stdout",
     "output_type": "stream",
     "text": [
      "17/17 [==============================] - 2s 86ms/step - loss: 0.0241 - accuracy: 1.0000\n",
      "5/5 [==============================] - 0s 61ms/step - loss: 0.4195 - accuracy: 0.8806\n"
     ]
    },
    {
     "name": "stderr",
     "output_type": "stream",
     "text": [
      "/Users/ivandominguez/miniforge3/envs/deep_learning/lib/python3.9/site-packages/PIL/Image.py:959: UserWarning: Palette images with Transparency expressed in bytes should be converted to RGBA images\n",
      "  warnings.warn(\n"
     ]
    },
    {
     "name": "stdout",
     "output_type": "stream",
     "text": [
      "1/1 [==============================] - 0s 203ms/step - loss: 0.6915 - accuracy: 0.8000\n"
     ]
    },
    {
     "data": {
      "text/plain": [
       "([0.02413264289498329, 1.0],\n",
       " [0.41945332288742065, 0.8805969953536987],\n",
       " [0.691480278968811, 0.800000011920929])"
      ]
     },
     "execution_count": 43,
     "metadata": {},
     "output_type": "execute_result"
    }
   ],
   "source": [
    "model_mobilenet.evaluate(train_batches),model_mobilenet.evaluate(validation_batches)\\\n",
    ",model_mobilenet.evaluate(test_batches)"
   ]
  },
  {
   "cell_type": "markdown",
   "id": "6ca04fc8",
   "metadata": {},
   "source": [
    "# Fine-tuning the mobile net model and saving it as third model"
   ]
  },
  {
   "cell_type": "code",
   "execution_count": 44,
   "id": "6a73c180",
   "metadata": {},
   "outputs": [],
   "source": [
    "# mobilenet_v2\n",
    "from tensorflow.keras.applications.mobilenet_v2 import MobileNetV2\n",
    "\n",
    "base_model = MobileNetV2(\n",
    "    weights='imagenet', \n",
    "    alpha=1.0,         # specific parameter of this model, small alpha reduces the number of overall weights\n",
    "    pooling='avg',      # applies global average pooling to the output of the last conv layer (like a flattening)\n",
    "    include_top=False,  # we only want to have the base, not the final dense layers \n",
    "    input_shape=(224, 224, 3)\n",
    ")\n",
    "\n",
    "# freeze it!\n",
    "base_model.trainable = False"
   ]
  },
  {
   "cell_type": "markdown",
   "id": "7fc6e76f",
   "metadata": {},
   "source": [
    "**3.1.2 Add dense layers on top**"
   ]
  },
  {
   "cell_type": "code",
   "execution_count": 45,
   "id": "ca82c66f",
   "metadata": {},
   "outputs": [],
   "source": [
    "def model_builder(hp):\n",
    "    '''\n",
    "    Args:\n",
    "    hp - Keras tuner object\n",
    "    '''\n",
    "    # Initialize the Sequential API and start stacking the layers\n",
    "    model = keras.Sequential()\n",
    "    model.add(base_model)\n",
    "    \n",
    "    # Tune the number of units in the first Dense layer\n",
    "    # Choose an optimal value between 32-160\n",
    "    hp_units = hp.Int('units', min_value=32, max_value=160, step=32)\n",
    "    model.add(keras.layers.Dense(units=hp_units, activation='relu'))\n",
    "    \n",
    "    # Add next layers\n",
    "    model.add(keras.layers.Dropout(0.5))\n",
    "    model.add(keras.layers.Dense(len(classes), activation='softmax'))\n",
    "    \n",
    "    # Tune the learning rate for the optimizer\n",
    "    # Choose an optimal value from 0.01, 0.001, or 0.0001\n",
    "    hp_learning_rate = hp.Choice('learning_rate', values=[1e-2, 1e-3, 1e-4])\n",
    "    model.compile(optimizer=keras.optimizers.Adam(learning_rate=hp_learning_rate),\n",
    "              loss=keras.losses.categorical_crossentropy,\n",
    "              metrics=[keras.metrics.categorical_accuracy])\n",
    "\n",
    "    return model"
   ]
  },
  {
   "cell_type": "markdown",
   "id": "276f081c",
   "metadata": {},
   "source": [
    "# Hyperparameter Tuning"
   ]
  },
  {
   "cell_type": "code",
   "execution_count": 46,
   "id": "1bc50c63",
   "metadata": {},
   "outputs": [
    {
     "name": "stdout",
     "output_type": "stream",
     "text": [
      "INFO:tensorflow:Reloading Oracle from existing project ./tuning_results/oracle.json\n",
      "INFO:tensorflow:Reloading Tuner from ./tuning_results/tuner0.json\n"
     ]
    }
   ],
   "source": [
    "# Instantiate the tuner\n",
    "tuner = kt.Hyperband(model_builder, # the hypermodel\n",
    "                     objective='val_categorical_accuracy', # objective to optimize\n",
    "                     max_epochs=50,\n",
    "                     hyperband_iterations=3,\n",
    "                     project_name='tuning_results')"
   ]
  },
  {
   "cell_type": "code",
   "execution_count": 47,
   "id": "27fee1a5",
   "metadata": {},
   "outputs": [
    {
     "name": "stdout",
     "output_type": "stream",
     "text": [
      "Search space summary\n",
      "Default search space size: 2\n",
      "units (Int)\n",
      "{'default': None, 'conditions': [], 'min_value': 32, 'max_value': 160, 'step': 32, 'sampling': None}\n",
      "learning_rate (Choice)\n",
      "{'default': 0.01, 'conditions': [], 'values': [0.01, 0.001, 0.0001], 'ordered': True}\n"
     ]
    }
   ],
   "source": [
    "# hypertuning settings\n",
    "tuner.search_space_summary() "
   ]
  },
  {
   "cell_type": "code",
   "execution_count": 48,
   "id": "b0b3328e",
   "metadata": {},
   "outputs": [
    {
     "name": "stdout",
     "output_type": "stream",
     "text": [
      "INFO:tensorflow:Oracle triggered exit\n"
     ]
    }
   ],
   "source": [
    "# Perform hypertuning\n",
    "stop_early = keras.callbacks.EarlyStopping(monitor='val_loss', patience=5)\n",
    "\n",
    "tf.autograph.experimental.do_not_convert\n",
    "tuner.search(xtrain, to_categorical(ytrain),\n",
    "             epochs=50,\n",
    "             batch_size=16,\n",
    "             callbacks=[stop_early],\n",
    "             validation_split=1/6)"
   ]
  },
  {
   "cell_type": "code",
   "execution_count": 49,
   "id": "5da0241b",
   "metadata": {},
   "outputs": [],
   "source": [
    "# best hyperparameters\n",
    "best_hp=tuner.get_best_hyperparameters(1)[0]"
   ]
  },
  {
   "cell_type": "code",
   "execution_count": 50,
   "id": "0362f3da",
   "metadata": {},
   "outputs": [
    {
     "name": "stdout",
     "output_type": "stream",
     "text": [
      "Model: \"sequential_3\"\n",
      "_________________________________________________________________\n",
      "Layer (type)                 Output Shape              Param #   \n",
      "=================================================================\n",
      "mobilenetv2_1.00_224 (Functi (None, 1280)              2257984   \n",
      "_________________________________________________________________\n",
      "dense_5 (Dense)              (None, 64)                81984     \n",
      "_________________________________________________________________\n",
      "dropout_1 (Dropout)          (None, 64)                0         \n",
      "_________________________________________________________________\n",
      "dense_6 (Dense)              (None, 4)                 260       \n",
      "=================================================================\n",
      "Total params: 2,340,228\n",
      "Trainable params: 82,244\n",
      "Non-trainable params: 2,257,984\n",
      "_________________________________________________________________\n"
     ]
    }
   ],
   "source": [
    "# Build the model with the optimal hyperparameters\n",
    "h_model = tuner.hypermodel.build(best_hp)\n",
    "h_model.summary()"
   ]
  },
  {
   "cell_type": "code",
   "execution_count": 51,
   "id": "f9a3b3c5",
   "metadata": {},
   "outputs": [
    {
     "name": "stdout",
     "output_type": "stream",
     "text": [
      "Epoch 1/50\n"
     ]
    },
    {
     "name": "stderr",
     "output_type": "stream",
     "text": [
      "2022-08-26 15:33:10.452511: I tensorflow/core/grappler/optimizers/custom_graph_optimizer_registry.cc:112] Plugin optimizer for device_type GPU is enabled.\n"
     ]
    },
    {
     "name": "stdout",
     "output_type": "stream",
     "text": [
      "25/25 [==============================] - ETA: 0s - loss: 1.3091 - categorical_accuracy: 0.4156"
     ]
    },
    {
     "name": "stderr",
     "output_type": "stream",
     "text": [
      "2022-08-26 15:33:12.194332: I tensorflow/core/grappler/optimizers/custom_graph_optimizer_registry.cc:112] Plugin optimizer for device_type GPU is enabled.\n"
     ]
    },
    {
     "name": "stdout",
     "output_type": "stream",
     "text": [
      "25/25 [==============================] - 3s 75ms/step - loss: 1.3091 - categorical_accuracy: 0.4156 - val_loss: 0.9935 - val_categorical_accuracy: 0.7000\n",
      "Epoch 2/50\n",
      "25/25 [==============================] - 1s 45ms/step - loss: 0.9286 - categorical_accuracy: 0.6373 - val_loss: 0.8556 - val_categorical_accuracy: 0.6875\n",
      "Epoch 3/50\n",
      "25/25 [==============================] - 1s 43ms/step - loss: 0.7898 - categorical_accuracy: 0.6851 - val_loss: 0.7848 - val_categorical_accuracy: 0.7000\n",
      "Epoch 4/50\n",
      "25/25 [==============================] - 1s 44ms/step - loss: 0.6540 - categorical_accuracy: 0.7683 - val_loss: 0.6483 - val_categorical_accuracy: 0.8250\n",
      "Epoch 5/50\n",
      "25/25 [==============================] - 1s 43ms/step - loss: 0.5401 - categorical_accuracy: 0.8186 - val_loss: 0.5999 - val_categorical_accuracy: 0.8125\n",
      "Epoch 6/50\n",
      "25/25 [==============================] - 1s 43ms/step - loss: 0.4229 - categorical_accuracy: 0.8615 - val_loss: 0.5289 - val_categorical_accuracy: 0.8250\n",
      "Epoch 7/50\n",
      "25/25 [==============================] - 1s 44ms/step - loss: 0.4015 - categorical_accuracy: 0.8640 - val_loss: 0.5598 - val_categorical_accuracy: 0.8000\n",
      "Epoch 8/50\n",
      "25/25 [==============================] - 1s 44ms/step - loss: 0.3654 - categorical_accuracy: 0.9093 - val_loss: 0.5359 - val_categorical_accuracy: 0.8125\n",
      "Epoch 9/50\n",
      "25/25 [==============================] - 1s 46ms/step - loss: 0.3141 - categorical_accuracy: 0.9043 - val_loss: 0.4816 - val_categorical_accuracy: 0.8625\n",
      "Epoch 10/50\n",
      "25/25 [==============================] - 1s 46ms/step - loss: 0.2714 - categorical_accuracy: 0.9169 - val_loss: 0.4367 - val_categorical_accuracy: 0.8500\n",
      "Epoch 11/50\n",
      "25/25 [==============================] - 1s 46ms/step - loss: 0.2239 - categorical_accuracy: 0.9471 - val_loss: 0.4181 - val_categorical_accuracy: 0.8625\n",
      "Epoch 12/50\n",
      "25/25 [==============================] - 1s 46ms/step - loss: 0.1999 - categorical_accuracy: 0.9547 - val_loss: 0.3834 - val_categorical_accuracy: 0.8625\n",
      "Epoch 13/50\n",
      "25/25 [==============================] - 1s 45ms/step - loss: 0.1856 - categorical_accuracy: 0.9597 - val_loss: 0.3971 - val_categorical_accuracy: 0.8875\n",
      "Epoch 14/50\n",
      "25/25 [==============================] - 1s 45ms/step - loss: 0.1632 - categorical_accuracy: 0.9572 - val_loss: 0.3744 - val_categorical_accuracy: 0.8625\n",
      "Epoch 15/50\n",
      "25/25 [==============================] - 1s 45ms/step - loss: 0.1417 - categorical_accuracy: 0.9723 - val_loss: 0.3564 - val_categorical_accuracy: 0.9000\n",
      "Epoch 16/50\n",
      "25/25 [==============================] - 1s 45ms/step - loss: 0.1417 - categorical_accuracy: 0.9723 - val_loss: 0.3771 - val_categorical_accuracy: 0.8625\n",
      "Epoch 17/50\n",
      "25/25 [==============================] - 1s 45ms/step - loss: 0.1322 - categorical_accuracy: 0.9798 - val_loss: 0.3730 - val_categorical_accuracy: 0.8500\n",
      "Epoch 18/50\n",
      "25/25 [==============================] - 1s 46ms/step - loss: 0.1223 - categorical_accuracy: 0.9748 - val_loss: 0.3548 - val_categorical_accuracy: 0.8375\n",
      "Epoch 19/50\n",
      "25/25 [==============================] - 1s 48ms/step - loss: 0.1050 - categorical_accuracy: 0.9824 - val_loss: 0.3173 - val_categorical_accuracy: 0.8750\n",
      "Epoch 20/50\n",
      "25/25 [==============================] - 1s 46ms/step - loss: 0.0793 - categorical_accuracy: 0.9899 - val_loss: 0.3244 - val_categorical_accuracy: 0.8500\n",
      "Epoch 21/50\n",
      "25/25 [==============================] - 1s 46ms/step - loss: 0.0838 - categorical_accuracy: 0.9824 - val_loss: 0.3223 - val_categorical_accuracy: 0.8625\n",
      "Epoch 22/50\n",
      "25/25 [==============================] - 1s 46ms/step - loss: 0.0754 - categorical_accuracy: 0.9899 - val_loss: 0.3063 - val_categorical_accuracy: 0.8625\n",
      "Epoch 23/50\n",
      "25/25 [==============================] - 1s 45ms/step - loss: 0.0761 - categorical_accuracy: 0.9849 - val_loss: 0.3058 - val_categorical_accuracy: 0.8625\n",
      "Epoch 24/50\n",
      "25/25 [==============================] - 1s 46ms/step - loss: 0.0705 - categorical_accuracy: 0.9950 - val_loss: 0.3470 - val_categorical_accuracy: 0.8625\n",
      "Epoch 25/50\n",
      "25/25 [==============================] - 1s 46ms/step - loss: 0.0674 - categorical_accuracy: 0.9899 - val_loss: 0.3539 - val_categorical_accuracy: 0.8625\n",
      "Epoch 26/50\n",
      "25/25 [==============================] - 1s 46ms/step - loss: 0.0686 - categorical_accuracy: 0.9899 - val_loss: 0.2898 - val_categorical_accuracy: 0.8875\n",
      "Epoch 27/50\n",
      "25/25 [==============================] - 1s 46ms/step - loss: 0.0504 - categorical_accuracy: 0.9899 - val_loss: 0.2751 - val_categorical_accuracy: 0.9000\n",
      "Epoch 28/50\n",
      "25/25 [==============================] - 1s 45ms/step - loss: 0.0563 - categorical_accuracy: 0.9874 - val_loss: 0.2923 - val_categorical_accuracy: 0.9000\n",
      "Epoch 29/50\n",
      "25/25 [==============================] - 1s 46ms/step - loss: 0.0512 - categorical_accuracy: 0.9899 - val_loss: 0.2868 - val_categorical_accuracy: 0.8750\n",
      "Epoch 30/50\n",
      "25/25 [==============================] - 1s 45ms/step - loss: 0.0430 - categorical_accuracy: 0.9950 - val_loss: 0.3260 - val_categorical_accuracy: 0.8750\n",
      "Epoch 31/50\n",
      "25/25 [==============================] - 1s 45ms/step - loss: 0.0415 - categorical_accuracy: 0.9950 - val_loss: 0.2904 - val_categorical_accuracy: 0.8625\n",
      "Epoch 32/50\n",
      "25/25 [==============================] - 1s 46ms/step - loss: 0.0333 - categorical_accuracy: 0.9975 - val_loss: 0.3082 - val_categorical_accuracy: 0.8875\n"
     ]
    },
    {
     "data": {
      "text/plain": [
       "<tensorflow.python.keras.callbacks.History at 0x3da6eceb0>"
      ]
     },
     "execution_count": 51,
     "metadata": {},
     "output_type": "execute_result"
    }
   ],
   "source": [
    "tf.autograph.experimental.do_not_convert\n",
    "h_model.fit(xtrain, to_categorical(ytrain),\n",
    "            epochs=50,\n",
    "            batch_size=16,\n",
    "            callbacks=[stop_early],\n",
    "            validation_split=1/6)"
   ]
  },
  {
   "cell_type": "code",
   "execution_count": 52,
   "id": "9a63ba4a",
   "metadata": {},
   "outputs": [],
   "source": [
    "losses = pd.DataFrame(h_model.history.history) # losses in the training history\n",
    "epoch = losses.index.values+np.ones_like(losses.index.values) # epoch number\n",
    "loss = losses['loss'].values # training loss\n",
    "val_loss = losses['val_loss'].values # validation loss"
   ]
  },
  {
   "cell_type": "code",
   "execution_count": 53,
   "id": "0b982d2d",
   "metadata": {},
   "outputs": [
    {
     "data": {
      "image/png": "[encoded data removed]",
      "text/plain": [
       "<Figure size 800x500 with 1 Axes>"
      ]
     },
     "metadata": {
      "needs_background": "light"
     },
     "output_type": "display_data"
    }
   ],
   "source": [
    "# plot losses against epoch number in log-scale\n",
    "plt.figure(figsize=(8,5),dpi=100)\n",
    "plt.semilogx(epoch, loss, linewidth=1.5, label='loss')\n",
    "plt.semilogx(epoch, val_loss, linewidth=1.5, label='val_loss')\n",
    "plt.xlabel('Epoch',fontsize=12)\n",
    "plt.ylabel('Loss Value',fontsize=12)\n",
    "plt.legend(loc=1,fontsize=12)\n",
    "None"
   ]
  },
  {
   "cell_type": "code",
   "execution_count": 54,
   "id": "ea365943",
   "metadata": {},
   "outputs": [
    {
     "name": "stdout",
     "output_type": "stream",
     "text": [
      "Saved model to disk\n"
     ]
    },
    {
     "name": "stderr",
     "output_type": "stream",
     "text": [
      "/Users/ivandominguez/miniforge3/envs/deep_learning/lib/python3.9/site-packages/tensorflow/python/keras/utils/generic_utils.py:494: CustomMaskWarning: Custom mask layers require a config and must override get_config. When loading, the custom mask layer must be passed to the custom_objects argument.\n",
      "  warnings.warn('Custom mask layers require a config and must override '\n"
     ]
    }
   ],
   "source": [
    "h_model.save(\"model_tuned_mobilenet.h5\")\n",
    "print(\"Saved model to disk\")"
   ]
  },
  {
   "cell_type": "code",
   "execution_count": 55,
   "id": "0f9c3732",
   "metadata": {},
   "outputs": [
    {
     "name": "stdout",
     "output_type": "stream",
     "text": [
      "Model: \"sequential_3\"\n",
      "_________________________________________________________________\n",
      "Layer (type)                 Output Shape              Param #   \n",
      "=================================================================\n",
      "mobilenetv2_1.00_224 (Functi (None, 1280)              2257984   \n",
      "_________________________________________________________________\n",
      "dense_5 (Dense)              (None, 64)                81984     \n",
      "_________________________________________________________________\n",
      "dropout_1 (Dropout)          (None, 64)                0         \n",
      "_________________________________________________________________\n",
      "dense_6 (Dense)              (None, 4)                 260       \n",
      "=================================================================\n",
      "Total params: 2,340,228\n",
      "Trainable params: 82,244\n",
      "Non-trainable params: 2,257,984\n",
      "_________________________________________________________________\n"
     ]
    }
   ],
   "source": [
    "h_model = load_model(\"model_tuned_mobilenet.h5\")\n",
    "h_model.summary()"
   ]
  },
  {
   "cell_type": "code",
   "execution_count": 56,
   "id": "455651ac",
   "metadata": {},
   "outputs": [
    {
     "name": "stderr",
     "output_type": "stream",
     "text": [
      "2022-08-26 15:33:48.826944: I tensorflow/core/grappler/optimizers/custom_graph_optimizer_registry.cc:112] Plugin optimizer for device_type GPU is enabled.\n"
     ]
    },
    {
     "name": "stdout",
     "output_type": "stream",
     "text": [
      "Confusion matrix, without normalization\n",
      "[[  0   1   0 170]\n",
      " [  1   1   1 125]\n",
      " [  0   1   0 147]\n",
      " [  0   0   1  96]]\n"
     ]
    },
    {
     "data": {
      "image/png": "[encoded data removed]",
      "text/plain": [
       "<Figure size 432x288 with 2 Axes>"
      ]
     },
     "metadata": {
      "needs_background": "light"
     },
     "output_type": "display_data"
    }
   ],
   "source": [
    "predictions = h_model.predict(x = train_batches, steps = len(train_batches), verbose = 0)\n",
    "cm = confusion_matrix(y_true=train_batches.classes, y_pred=np.argmax(predictions, axis=-1))\n",
    "cm_plot_labels = ['Apples','Kiwis', 'Pears', 'Oranges']\n",
    "plot_confusion_matrix(cm=cm, classes=cm_plot_labels, title='Confusion Matrix')"
   ]
  },
  {
   "cell_type": "code",
   "execution_count": null,
   "id": "aa618b5d",
   "metadata": {},
   "outputs": [],
   "source": []
  },
  {
   "cell_type": "code",
   "execution_count": null,
   "id": "07e0e59b",
   "metadata": {},
   "outputs": [],
   "source": []
  }
 ],
 "metadata": {
  "kernelspec": {
   "display_name": "Python 3 (ipykernel)",
   "language": "python",
   "name": "python3"
  },
  "language_info": {
   "codemirror_mode": {
    "name": "ipython",
    "version": 3
   },
   "file_extension": ".py",
   "mimetype": "text/x-python",
   "name": "python",
   "nbconvert_exporter": "python",
   "pygments_lexer": "ipython3",
   "version": "3.9.12"
  }
 },
 "nbformat": 4,
 "nbformat_minor": 5
}
